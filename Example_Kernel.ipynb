{
 "cells": [
  {
   "cell_type": "code",
   "execution_count": null,
   "metadata": {},
   "outputs": [],
   "source": [
    "from better_kan import KAN,create_dataset\n",
    "import torch"
   ]
  },
  {
   "cell_type": "code",
   "execution_count": 2,
   "metadata": {},
   "outputs": [
    {
     "ename": "TypeError",
     "evalue": "KAN.__init__() got an unexpected keyword argument 'kernel'",
     "output_type": "error",
     "traceback": [
      "\u001b[1;31m---------------------------------------------------------------------------\u001b[0m",
      "\u001b[1;31mTypeError\u001b[0m                                 Traceback (most recent call last)",
      "Cell \u001b[1;32mIn[2], line 5\u001b[0m\n\u001b[0;32m      3\u001b[0m dataset\u001b[38;5;241m=\u001b[39mcreate_dataset(f,n_var\u001b[38;5;241m=\u001b[39m\u001b[38;5;241m1\u001b[39m)\n\u001b[0;32m      4\u001b[0m \u001b[38;5;28;01mfor\u001b[39;00m kernel \u001b[38;5;129;01min\u001b[39;00m [\u001b[38;5;241m.\u001b[39m\u001b[38;5;241m.\u001b[39m\u001b[38;5;241m.\u001b[39m,torch\u001b[38;5;241m.\u001b[39mcos,torch\u001b[38;5;241m.\u001b[39mrelu,torch\u001b[38;5;241m.\u001b[39mnn\u001b[38;5;241m.\u001b[39mfunctional\u001b[38;5;241m.\u001b[39msilu,torch\u001b[38;5;241m.\u001b[39msigmoid,]:\n\u001b[1;32m----> 5\u001b[0m     kan \u001b[38;5;241m=\u001b[39m \u001b[43mKAN\u001b[49m\u001b[43m(\u001b[49m\u001b[43m[\u001b[49m\u001b[38;5;241;43m1\u001b[39;49m\u001b[43m,\u001b[49m\u001b[38;5;241;43m1\u001b[39;49m\u001b[43m]\u001b[49m\u001b[43m,\u001b[49m\u001b[38;5;241;43m100\u001b[39;49m\u001b[43m,\u001b[49m\u001b[43mkernel\u001b[49m\u001b[38;5;241;43m=\u001b[39;49m\u001b[43mkernel\u001b[49m\u001b[43m)\u001b[49m\n\u001b[0;32m      8\u001b[0m     kan\u001b[38;5;241m.\u001b[39mtrain(dataset)\n\u001b[0;32m      9\u001b[0m     loss\u001b[38;5;241m=\u001b[39mtorch\u001b[38;5;241m.\u001b[39mnn\u001b[38;5;241m.\u001b[39mfunctional\u001b[38;5;241m.\u001b[39mmse_loss(kan(dataset[\u001b[38;5;124m\"\u001b[39m\u001b[38;5;124mtest_input\u001b[39m\u001b[38;5;124m\"\u001b[39m]),dataset[\u001b[38;5;124m\"\u001b[39m\u001b[38;5;124mtest_label\u001b[39m\u001b[38;5;124m\"\u001b[39m])\n",
      "\u001b[1;31mTypeError\u001b[0m: KAN.__init__() got an unexpected keyword argument 'kernel'"
     ]
    }
   ],
   "source": [
    "# print( {\"cos(20x)\":lambda x:torch.cos(20*x),\"bessel_j0(20x)\":lambda x:torch.special.bessel_j0(20*x)})\n",
    "for name,f in  {\"cos(20x)\":lambda x:torch.cos(20*x),\"bessel_j0(20x)\":lambda x:torch.special.bessel_j0(20*x)}.items():\n",
    "    dataset=create_dataset(f,n_var=1)\n",
    "    for kernel in [...,torch.cos,torch.relu,torch.nn.functional.silu,torch.sigmoid,]:\n",
    "        kan = KAN([1,1],100,kernel=kernel)\n",
    "        \n",
    "       \n",
    "        kan.train(dataset)\n",
    "        loss=torch.nn.functional.mse_loss(kan(dataset[\"test_input\"]),dataset[\"test_label\"])\n",
    "        print(f\"{name} with {kernel} has loss {loss}\")\n",
    "        \n",
    "        "
   ]
  }
 ],
 "metadata": {
  "kernelspec": {
   "display_name": "Python 3",
   "language": "python",
   "name": "python3"
  },
  "language_info": {
   "codemirror_mode": {
    "name": "ipython",
    "version": 3
   },
   "file_extension": ".py",
   "mimetype": "text/x-python",
   "name": "python",
   "nbconvert_exporter": "python",
   "pygments_lexer": "ipython3",
   "version": "3.10.6"
  }
 },
 "nbformat": 4,
 "nbformat_minor": 2
}

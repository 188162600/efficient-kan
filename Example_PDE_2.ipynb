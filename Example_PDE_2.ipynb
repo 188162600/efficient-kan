{
 "cells": [
  {
   "cell_type": "markdown",
   "id": "5d904dee",
   "metadata": {},
   "source": [
    "# Example 6: Solving Partial Differential Equation (PDE)"
   ]
  },
  {
   "cell_type": "markdown",
   "id": "7d568912",
   "metadata": {},
   "source": [
    "We aim to solve a 2D poisson equation $\\nabla^2 f(x,y) = -2\\pi^2{\\rm sin}(\\pi x){\\rm sin}(\\pi y)$, with boundary condition $f(-1,y)=f(1,y)=f(x,-1)=f(x,1)=0$. The ground truth solution is $f(x,y)={\\rm sin}(\\pi x){\\rm sin}(\\pi y)$."
   ]
  },
  {
   "cell_type": "code",
   "execution_count": 1,
   "id": "0e2bc449",
   "metadata": {},
   "outputs": [
    {
     "name": "stderr",
     "output_type": "stream",
     "text": [
      "pde loss: 6.60e-04 | bc loss: 1.11e-08 | l2: 7.24e-09 | mse: 7.24e-09 : 100%|██████████| 100/100 [06:10<00:00,  3.71s/it]\n"
     ]
    }
   ],
   "source": [
    "from better_kan import KAN, LBFGS\n",
    "import torch\n",
    "import matplotlib.pyplot as plt\n",
    "from torch import autograd\n",
    "from tqdm import tqdm\n",
    "\n",
    "# Domain and dimensions\n",
    "dim = 2\n",
    "np_i = 51  # Number of interior points along each dimension\n",
    "np_b = 51  # Number of boundary points along each dimension\n",
    "ranges = [-1, 1]\n",
    "\n",
    "def batch_jacobian(func, x, create_graph=False):\n",
    "    # Function to compute the batch Jacobian\n",
    "    def _func_sum(x):\n",
    "        return func(x).sum(dim=0)\n",
    "    return autograd.functional.jacobian(_func_sum, x, create_graph=create_graph).permute(1, 0, 2)\n",
    "\n",
    "# True solution and source function based on the problem description\n",
    "sol_fun = lambda x: torch.sin(torch.pi * x[:, [0]]) * torch.sin(torch.pi * x[:, [1]]**2)\n",
    "source_fun = lambda x: (-torch.pi**2 * (1 + 4 * x[:, [1]]**2) * torch.sin(torch.pi * x[:, [0]]) * torch.sin(torch.pi * x[:, [1]]**2)\n",
    "                        + 2 * torch.pi * torch.sin(torch.pi * x[:, [0]]) * torch.cos(torch.pi * x[:, [1]]**2))\n",
    "\n",
    "# Sampling mode: 'mesh' or 'random'\n",
    "sampling_mode = 'mesh'\n",
    "x_mesh = torch.linspace(ranges[0], ranges[1], steps=np_i)\n",
    "y_mesh = torch.linspace(ranges[0], ranges[1], steps=np_i)\n",
    "X, Y = torch.meshgrid(x_mesh, y_mesh, indexing=\"ij\")\n",
    "\n",
    "x_i = torch.stack([X.reshape(-1,), Y.reshape(-1,)]).permute(1, 0) if sampling_mode == 'mesh' else torch.rand((np_i**2, 2)) * 2 - 1\n",
    "\n",
    "# Boundary, 4 sides\n",
    "helper = lambda X, Y: torch.stack([X.reshape(-1,), Y.reshape(-1,)]).permute(1, 0)\n",
    "xb1 = helper(X[0], Y[0])\n",
    "xb2 = helper(X[-1], Y[-1])\n",
    "xb3 = helper(X[:, 0], Y[:, 0])\n",
    "xb4 = helper(X[:, -1], Y[:, -1])\n",
    "x_b = torch.cat([xb1, xb2, xb3, xb4], dim=0)\n",
    "\n",
    "# Hyperparameters\n",
    "alpha = 0.01\n",
    "steps = 100\n",
    "log = 1\n",
    "\n",
    "model = KAN([2, 2, 1], 40,symbolic_enabled=True)  # Adjusting to match the described architecture\n",
    "\n",
    "def train():\n",
    "    optimizer = LBFGS(model.parameters(), lr=0.1, history_size=10, line_search_fn=\"strong_wolfe\", tolerance_grad=1e-32, tolerance_change=1e-32, tolerance_ys=1e-32)\n",
    "\n",
    "    pbar = tqdm(range(steps), desc='Training Progress')\n",
    "    for _ in pbar:\n",
    "        def closure():\n",
    "            global bc_loss, pde_loss\n",
    "            optimizer.zero_grad()\n",
    "            # Interior loss\n",
    "            sol = sol_fun(x_i)\n",
    "            sol_D1_fun = lambda x: batch_jacobian(model, x, create_graph=True)[:, 0, :]\n",
    "            sol_D1 = sol_D1_fun(x_i)\n",
    "            sol_D2 = batch_jacobian(sol_D1_fun, x_i, create_graph=True)[:, :, :]\n",
    "            lap = torch.sum(torch.diagonal(sol_D2, dim1=1, dim2=2), dim=1, keepdim=True)\n",
    "            source = source_fun(x_i)\n",
    "            pde_loss = torch.mean((lap - source)**2)\n",
    "            # Boundary loss\n",
    "            bc_true = sol_fun(x_b)\n",
    "            bc_pred = model(x_b)\n",
    "            bc_loss = torch.mean((bc_pred - bc_true)**2)\n",
    "            # Total loss\n",
    "            loss = alpha * pde_loss + bc_loss\n",
    "            loss.backward()\n",
    "            return loss\n",
    "\n",
    "        optimizer.step(closure)\n",
    "        sol = sol_fun(x_i)\n",
    "        l2 = torch.mean((model(x_i) - sol)**2)\n",
    "        mse_loss=torch.nn.functional.mse_loss(model(x_i), sol)\n",
    "        if _ % log == 0:\n",
    "            pbar.set_description(\"pde loss: %.2e | bc loss: %.2e | l2: %.2e | mse: %.2e \" % (pde_loss.cpu().detach().numpy(), bc_loss.cpu().detach().numpy(), l2.detach().numpy(), mse_loss.detach().numpy()))\n",
    "\n",
    "\n",
    "train()\n",
    "plt.show()\n"
   ]
  },
  {
   "cell_type": "code",
   "execution_count": 2,
   "id": "dcbfa677",
   "metadata": {},
   "outputs": [
    {
     "ename": "NameError",
     "evalue": "name 'pde_losses' is not defined",
     "output_type": "error",
     "traceback": [
      "\u001b[1;31m---------------------------------------------------------------------------\u001b[0m",
      "\u001b[1;31mNameError\u001b[0m                                 Traceback (most recent call last)",
      "Cell \u001b[1;32mIn[2], line 1\u001b[0m\n\u001b[1;32m----> 1\u001b[0m plt\u001b[38;5;241m.\u001b[39mplot(\u001b[43mpde_losses\u001b[49m, marker\u001b[38;5;241m=\u001b[39m\u001b[38;5;124m'\u001b[39m\u001b[38;5;124mo\u001b[39m\u001b[38;5;124m'\u001b[39m)\n\u001b[0;32m      2\u001b[0m plt\u001b[38;5;241m.\u001b[39mplot(bc_losses, marker\u001b[38;5;241m=\u001b[39m\u001b[38;5;124m'\u001b[39m\u001b[38;5;124mo\u001b[39m\u001b[38;5;124m'\u001b[39m)\n\u001b[0;32m      3\u001b[0m plt\u001b[38;5;241m.\u001b[39mplot(l2_losses, marker\u001b[38;5;241m=\u001b[39m\u001b[38;5;124m'\u001b[39m\u001b[38;5;124mo\u001b[39m\u001b[38;5;124m'\u001b[39m)\n",
      "\u001b[1;31mNameError\u001b[0m: name 'pde_losses' is not defined"
     ]
    }
   ],
   "source": [
    "plt.plot(pde_losses, marker='o')\n",
    "plt.plot(bc_losses, marker='o')\n",
    "plt.plot(l2_losses, marker='o')\n",
    "plt.yscale('log')\n",
    "plt.xlabel('steps')\n",
    "plt.legend(['PDE loss', 'BC loss', 'L2 squared'])"
   ]
  },
  {
   "cell_type": "code",
   "execution_count": null,
   "id": "bce40477",
   "metadata": {},
   "outputs": [],
   "source": []
  }
 ],
 "metadata": {
  "kernelspec": {
   "display_name": "Python 3 (ipykernel)",
   "language": "python",
   "name": "python3"
  },
  "language_info": {
   "codemirror_mode": {
    "name": "ipython",
    "version": 3
   },
   "file_extension": ".py",
   "mimetype": "text/x-python",
   "name": "python",
   "nbconvert_exporter": "python",
   "pygments_lexer": "ipython3",
   "version": "3.10.6"
  }
 },
 "nbformat": 4,
 "nbformat_minor": 5
}

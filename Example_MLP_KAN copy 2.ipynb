{
 "cells": [
  {
   "cell_type": "code",
   "execution_count": 1,
   "metadata": {},
   "outputs": [],
   "source": [
    "from decimal import Decimal\n",
    "import numpy as np\n",
    "from better_kan import KAN as BetterKAN\n",
    "from kan import create_dataset,LBFGS\n",
    "import torch\n",
    "from torch import nn\n",
    "import matplotlib.pyplot as plt\n",
    "import scipy.special\n",
    "\n",
    "def convert_func(f):\n",
    "    return lambda x:f(*x.unsqueeze(-1).permute(1,0,2))\n",
    "\n",
    "def size_of_model(model):\n",
    "    size=0\n",
    "    for p in model.parameters():\n",
    "        size+=p.numel()*p.element_size()\n",
    "    return size\n",
    "def params_of_model(model):\n",
    "    return size_of_model(model)/8\n",
    "def ellipj(x,y):\n",
    "    return scipy.special.ellipj(x,y)[0].real.float()\n",
    "\n",
    "def ellipkinc(x,y):\n",
    "    return scipy.special.ellipkinc(x,y)\n",
    "\n",
    "def ellipeinc(x,y):\n",
    "    return scipy.special.ellipeinc(x,y)\n",
    "class MLP(torch.nn.Module):\n",
    "    def __init__(self, in_features, out_features, hidden_dim=128, num_layers=3, activation=torch.nn.SiLU(),seed=0):\n",
    "        torch.manual_seed(seed)\n",
    "       \n",
    "        super(MLP, self).__init__()\n",
    "        self.layers = nn.Sequential()\n",
    "        self.layers.append(nn.Linear(in_features, hidden_dim))\n",
    "        self.layers.append(activation)\n",
    "        for _ in range(num_layers - 2):\n",
    "            self.layers.append(nn.Linear(hidden_dim, hidden_dim))\n",
    "            self.layers.append(activation)\n",
    "        self.layers.append(nn.Linear(hidden_dim, out_features))\n",
    "    def forward(self, x):\n",
    "        return self.layers(x)\n",
    "from tqdm import tqdm\n",
    "def test_kan(f,ranges,width,device=\"cuda\",steps=50,seed=0,degrees=(5,10,20,50)):\n",
    "    n_var=width[0]\n",
    "    print(n_var)\n",
    "    dataset=create_dataset(convert_func( f),n_var,ranges,device=device,train_num=10000)\n",
    "    y=dataset[\"train_label\"]\n",
    "    print(y.min(),y.max()  )\n",
    "    kan_losses={}\n",
    "    mlp_losses={}\n",
    "    \n",
    " \n",
    "        \n",
    "    for deg in degrees:\n",
    "        \n",
    "        print(f\"BetterKAN {deg}\")\n",
    "        if deg ==degrees[0]:\n",
    "            \n",
    "            kan=BetterKAN(width,deg,device=device,bias_trainable=False,base_fn=...,symbolic_enabled=False).to(device)\n",
    "        else:\n",
    "            old=kan\n",
    "            kan=BetterKAN(width,deg,device=device,bias_trainable=False,base_fn=...,symbolic_enabled=False).to(device)\n",
    "            kan.initialize_grid_from_another_model(old,x=dataset[\"test_input\"])\n",
    "        result=kan.train(dataset,lr=0.1,grid_update_num=10,steps=steps)\n",
    "        loss=torch.nn.MSELoss()(kan(dataset[\"test_input\"]),dataset[\"test_label\"])\n",
    "        kan_losses.update({params_of_model(kan):loss.item()})\n",
    "        \n",
    "    \n",
    "      \n",
    "    for depth in [3,4,5,6]:\n",
    "        mlp_loss={}\n",
    "        mlp_losses[f\"depth={depth}\"]=mlp_loss\n",
    "        for features in [8,16,32,64,128,256]:\n",
    "            mlp=MLP(n_var,1,hidden_dim=features,num_layers=depth,seed=seed).to(device)\n",
    "            opt=LBFGS(mlp.parameters(),lr=0.1)\n",
    "            for _ in tqdm( range(steps)):\n",
    "                def closure():\n",
    "                    opt.zero_grad()\n",
    "                    loss=torch.nn.MSELoss()(mlp(dataset[\"train_input\"]),dataset[\"train_label\"])\n",
    "                    loss.backward()\n",
    "                    return loss\n",
    "                loss=opt.step(closure)\n",
    "            mlp_loss[params_of_model(mlp)]=loss.item()\n",
    "    plot,ax=plt.subplots()\n",
    "    plt.plot(kan_losses.keys(),kan_losses.values(),label=\"KAN\")\n",
    "    for depth,mlp_loss in mlp_losses.items():\n",
    "        plt.plot(mlp_loss.keys(),mlp_loss.values(),label=depth)\n",
    "    plt.legend()\n",
    "    ax.set_xlabel(\"Number of parameters\")\n",
    "    ax.set_ylabel(\"Test MSE\")\n",
    "    ax.set_xscale(\"log\")\n",
    "    ax.set_yscale(\"log\")\n",
    "    # ax.set_ylim(1e-10,1)\n",
    "\n",
    "                \n",
    "            \n",
    "            \n",
    "            \n"
   ]
  },
  {
   "cell_type": "code",
   "execution_count": 2,
   "metadata": {},
   "outputs": [
    {
     "name": "stdout",
     "output_type": "stream",
     "text": [
      "2\n",
      "tensor(-1.2142, device='cuda:0') tensor(1.2078, device='cuda:0')\n",
      "BetterKAN 5\n"
     ]
    },
    {
     "name": "stderr",
     "output_type": "stream",
     "text": [
      "train loss: 5.88e-04 | test loss: 6.16e-04 | reg: 0.00e+00 : 100%|██| 50/50 [00:35<00:00,  1.42it/s]\n"
     ]
    },
    {
     "name": "stdout",
     "output_type": "stream",
     "text": [
      "BetterKAN 10\n",
      "torch.Size([1000, 2]) acts\n",
      "torch.Size([1000, 2]) acts\n"
     ]
    },
    {
     "name": "stderr",
     "output_type": "stream",
     "text": [
      "train loss: 2.87e-04 | test loss: 3.06e-04 | reg: 0.00e+00 : 100%|██| 50/50 [00:15<00:00,  3.19it/s]\n"
     ]
    },
    {
     "name": "stdout",
     "output_type": "stream",
     "text": [
      "BetterKAN 20\n",
      "torch.Size([1000, 2]) acts\n",
      "torch.Size([1000, 2]) acts\n"
     ]
    },
    {
     "name": "stderr",
     "output_type": "stream",
     "text": [
      "train loss: 2.72e-04 | test loss: 2.70e-04 | reg: 0.00e+00 : 100%|██| 50/50 [00:04<00:00, 10.32it/s]\n"
     ]
    },
    {
     "name": "stdout",
     "output_type": "stream",
     "text": [
      "BetterKAN 50\n",
      "torch.Size([1000, 2]) acts\n",
      "torch.Size([1000, 2]) acts\n"
     ]
    },
    {
     "name": "stderr",
     "output_type": "stream",
     "text": [
      "train loss: 1.08e-04 | test loss: 1.06e-04 | reg: 0.00e+00 : 100%|██| 50/50 [00:08<00:00,  5.66it/s]\n",
      "100%|██████████| 50/50 [00:13<00:00,  3.60it/s]\n",
      " 98%|█████████▊| 49/50 [00:24<00:00,  1.06it/s]"
     ]
    }
   ],
   "source": [
    "test_kan(ellipkinc,[[-1,1],[0,1]],[2,2,1])\n",
    "\n"
   ]
  }
 ],
 "metadata": {
  "kernelspec": {
   "display_name": "Python 3",
   "language": "python",
   "name": "python3"
  },
  "language_info": {
   "codemirror_mode": {
    "name": "ipython",
    "version": 3
   },
   "file_extension": ".py",
   "mimetype": "text/x-python",
   "name": "python",
   "nbconvert_exporter": "python",
   "pygments_lexer": "ipython3",
   "version": "3.10.6"
  }
 },
 "nbformat": 4,
 "nbformat_minor": 2
}

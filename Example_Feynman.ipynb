{
 "cells": [
  {
   "cell_type": "code",
   "execution_count": 1,
   "metadata": {},
   "outputs": [],
   "source": [
    "import torch\n",
    "import scipy.special\n",
    "from kan import KAN as BaseKAN,create_dataset\n",
    "from better_kan import KAN as BetterKAN\n",
    "import inspect\n",
    "import numpy as np\n",
    "from decimal import Decimal \n",
    "def convert_func(f):\n",
    "    return lambda x:f(*x.unsqueeze(-1).permute(1,0,2))\n",
    "\n",
    "def I_6_2(theta, sigma):\n",
    "    return torch.exp(-theta**2 / (2 * sigma**2)) / torch.sqrt(2 * torch.pi * sigma**2)\n",
    "\n",
    "\n",
    "def I_6_2b(theta, theta1, sigma):\n",
    "    return torch.exp(-(theta - theta1)**2 / (2 * sigma**2)) / torch.sqrt(2 * torch.pi * sigma**2)\n",
    "\n",
    "\n",
    "def I_9_18(a, b, c, d, e, f):\n",
    "    return a / ((b - 1)**2 + (c - d)**2 + (e - f)**2)\n",
    "\n",
    "\n",
    "def I_12_11(a, theta):\n",
    "    return 1+a*torch.sin(theta)\n",
    "\n",
    "\n",
    "def I_13_12(a,b):\n",
    "    return a*(1/b-1)\n",
    "\n",
    "\n",
    "def I_15_3x(a,b):\n",
    "    # print(a.shape,b.shape)\n",
    "    return (1-a)/torch.sqrt(1-b**2)\n",
    "\n",
    "def I_16_6(a,b):\n",
    "    return (a+b)/(1+a*b)\n",
    "\n",
    "def I_18_4(a,b):\n",
    "    return (1+a*b)/(1+a)\n",
    "\n",
    "def I_26_2(n,theta2):\n",
    "    return torch.arcsin(n*torch.sin(theta2))\n",
    "\n",
    "def I_27_6(a,b):\n",
    "    return 1/(1+a*b)\n",
    "\n",
    "def I_29_16(a,theta1,theta2):\n",
    "    return torch.sqrt(1+a**2-2*a*torch.cos(theta1-theta2))\n",
    "\n",
    "\n",
    "def I_30_3(n,theta):\n",
    "    return torch.sin(torch.sin(n*theta/2))/torch.sin(torch.sin(theta/2))\n",
    "\n",
    "def I_30_5(a,n):\n",
    "    return torch.arcsin(a/n)\n",
    "\n",
    "def I_37_4(a,b):\n",
    "    return 1+a*2*torch.sqrt(a)*torch.cos(b)\n",
    "def I_40_1(n,a):\n",
    "    return n*torch.exp(-a)\n",
    "def I_44_4(n,b):\n",
    "    return n*torch.log(b)\n",
    "def I_50_26(a,alpha):\n",
    "    return torch.cos(a)+alpha*torch.cos(a)**2\n",
    "def II_2_42(a,b):\n",
    "    return (a-1)*b\n",
    "def II_6_15a(a,b,c):\n",
    "    return 1/(4*torch.pi)*c*torch.sqrt(a**2+b**2)\n",
    "def II_11_7(n,a,theta):\n",
    "    return n*(1+a*torch.cos(theta))\n",
    "def II_11_27(n,a):\n",
    "    return (n*a)/(1-(n*a)/3)\n",
    "def II_36_38(a,alpha,b):\n",
    "    return a+alpha*b\n",
    "def II_38_3(a,b):\n",
    "    return a/b\n",
    "def III_9_52(a,b,c):\n",
    "    return a*torch.sin((b-c)/2)**2/torch.sin((b-c)/2)**2\n",
    "def III_10_19(a,b):\n",
    "    return torch.sqrt(1+a**2+b**2)\n",
    "def III_17_37(a,b,theta):\n",
    "    return b*(1+a*torch.cos(theta))\n",
    "def ellipj(x,y):\n",
    "    return scipy.special.ellipj(x,y)[0].real.float()\n",
    "\n",
    "def ellipkinc(x,y):\n",
    "    return scipy.special.ellipkinc(x,y)\n",
    "\n",
    "def ellipeinc(x,y):\n",
    "    return scipy.special.ellipeinc(x,y)\n",
    "\n",
    "def jv(v,x):\n",
    "    return scipy.special.jv(v,x)\n",
    "\n",
    "\n",
    "def yv(v,x):\n",
    "    return scipy.special.yv(v,x)\n",
    "\n",
    "\n",
    "def iv(v,x):\n",
    "    return scipy.special.iv(v,x)\n",
    "\n",
    "def kv(v,x):\n",
    "    return scipy.special.kv(v,x)\n",
    "\n",
    "def lpmv0(m,x):\n",
    "    return scipy.special.lpmv(0,m,x)\n",
    "\n",
    "def lpmv1(m,x):\n",
    "    return scipy.special.lpmv(1,m,x)\n",
    "\n",
    "def lpmv2(m,x):\n",
    "    return scipy.special.lpmv(2,m,x)\n",
    "\n",
    "def sph_harm11(theta,phi):\n",
    "    return scipy.special.sph_harm(1,1,theta,phi).real.float()\n",
    "\n",
    "def sph_harm12(theta,phi):\n",
    "    return scipy.special.sph_harm(1,2,theta,phi).real.float()\n",
    "\n",
    "def sph_harm22(theta,phi):\n",
    "    return scipy.special.sph_harm(2,2,theta,phi).real.float()\n",
    "\n",
    "def sph_harm21(theta,phi):\n",
    "    return scipy.special.sph_harm(2,1,theta,phi).real.float()\n",
    "def test_accuracy_1(x):\n",
    "    return torch.special.bessel_j0(x*20)\n",
    "def test_accuracy_2(x,y):\n",
    "    return torch.exp(torch.sin(torch.pi*x)+y**2)\n",
    "def test_accuracy_3(x,y):\n",
    "    return x*y\n",
    "def test_accuracy_4(x1,x2,x3,x4):\n",
    "    return torch.exp(torch.sin(x1**2+x2**2)+torch.cos(x3**2+x4**2))\n",
    "\n",
    "\n",
    "def create_grid(start, end, spacing, dim):\n",
    "    \"\"\"\n",
    "    Create a grid with specified start, end, spacing, and dimension.\n",
    "\n",
    "    Parameters:\n",
    "    start (float or list of floats): The starting value(s) for the grid.\n",
    "    end (float or list of floats): The ending value(s) for the grid.\n",
    "    spacing (float or list of floats): The spacing between points in the grid.\n",
    "    dim (int): The dimension of the grid.\n",
    "\n",
    "    Returns:\n",
    "    torch.Tensor: The generated grid.\n",
    "    \"\"\"\n",
    "    if isinstance(start, (int, float)):\n",
    "        start = [start] * dim\n",
    "    if isinstance(end, (int, float)):\n",
    "        end = [end] * dim\n",
    "    if isinstance(spacing, (int, float)):\n",
    "        spacing = [spacing] * dim\n",
    "\n",
    "    # Generate ranges for each dimension\n",
    "    ranges = [torch.arange(start[i], end[i], spacing[i]) for i in range(dim)]\n",
    "\n",
    "    # Create a meshgrid from the ranges\n",
    "    grids = torch.meshgrid(*ranges, indexing='ij')\n",
    "\n",
    "    # Stack the grids to form a grid of points\n",
    "    grid = torch.stack(grids, dim=-1)\n",
    "  \n",
    "    return grid.reshape(-1, dim)\n",
    "def create_n_grid(start, end, n, dim):\n",
    "    assert dim>0\n",
    "    if isinstance(start, (int, float)):\n",
    "        start = [start] * dim\n",
    "    if isinstance(end, (int, float)):\n",
    "        end = [end] * dim\n",
    "    n_each_dim= math.ceil(n**(1/dim))\n",
    "    ranges = [torch.linspace(start[i], end[i], n_each_dim) for i in range(dim)]\n",
    "    grids=torch.meshgrid(*ranges, indexing='ij')\n",
    "    grid = torch.stack(grids, dim=-1)\n",
    "    return grid.reshape(-1, dim)[:n]\n",
    "class MLP(torch.nn.Module):\n",
    "    def __init__(self, in_features, out_features, hidden_dim=128, num_layers=3, activation=torch.nn.SiLU(),seed=0):\n",
    "        torch.manual_seed(seed)\n",
    "        random.seed(seed)\n",
    "        numpy.random.seed(seed)\n",
    "        super(MLP, self).__init__()\n",
    "        self.layers = nn.Sequential()\n",
    "        self.layers.append(nn.Linear(in_features, hidden_dim))\n",
    "        self.layers.append(activation)\n",
    "        for _ in range(num_layers - 2):\n",
    "            self.layers.append(nn.Linear(hidden_dim, hidden_dim))\n",
    "            self.layers.append(activation)\n",
    "        self.layers.append(nn.Linear(hidden_dim, out_features))\n",
    "    def forward(self, x):\n",
    "        return self.layers(x)\n",
    "    \n",
    "def size_of_model(model):\n",
    "    size=0\n",
    "    for p in model.parameters():\n",
    "        size+=p.numel()*p.element_size()\n",
    "    return size\n",
    "def params_of_model(model):\n",
    "    return size_of_model(model)/8\n"
   ]
  },
  {
   "cell_type": "code",
   "execution_count": 2,
   "metadata": {},
   "outputs": [],
   "source": [
    "from matplotlib import pyplot as plt\n",
    "from kan.LBFGS import LBFGS\n",
    "import itertools\n",
    "from kan import  KAN,create_dataset\n",
    "def test_kan(f,ranges,width,device=\"cuda\",steps=50,seed=0,degrees=(5,10,20,50)):\n",
    "    n_var=width[0]\n",
    "    dataset=create_dataset(convert_func( f),n_var,ranges,device=device,train_num=3000)\n",
    "    y=dataset[\"train_label\"]\n",
    "    print(y.min(),y.max()  )\n",
    "    base_kan_test_losses=[]\n",
    "    better_kan_test_losses=[]\n",
    "    base_kan_train_losses=[]\n",
    "    better_kan_train_losses=[]\n",
    "    \n",
    " \n",
    "        \n",
    "    for deg in degrees:\n",
    "        \n",
    "        print(f\"BetterKAN {deg}\")\n",
    "        kan=BetterKAN(width,deg,device=device,bias_trainable=False,base_fn=...).to(device)\n",
    "        result=kan.train(dataset,lr=1,grid_update_num=10,steps=steps)\n",
    "        better_kan_test_losses.extend(result[\"test_loss\"])\n",
    "        better_kan_train_losses.extend(result[\"train_loss\"])\n",
    "        # kan.plot()\n",
    "        # # exit()\n",
    "        \n",
    "        print(f\"BetterKAN {deg} 0.1\")\n",
    "        kan=BetterKAN(width,deg,device=device,seed=0,bias_trainable=False,base_fn=...).to(device)\n",
    "        result=kan.train(dataset,lr=1/8,grid_update_num=10,steps=steps)\n",
    "        \n",
    "        better_kan_test_losses.extend(result[\"test_loss\"])\n",
    "        better_kan_train_losses.extend(result[\"train_loss\"])\n",
    "       \n",
    "        kan=BaseKAN(width,deg,device=device).to(device)\n",
    "        print(f\"KAN {deg}\")\n",
    "        result=kan.train(dataset,device=device,steps=steps)\n",
    "        base_kan_test_losses.extend(result[\"test_loss\"])\n",
    "        base_kan_train_losses.extend(result[\"train_loss\"])\n",
    "    # print(np.array(better_kan_test_losses),\"array\")\n",
    "    base_kan_test_losses=np.nan_to_num( np.array(base_kan_test_losses),nan=float(\"inf\"))\n",
    "    better_kan_test_losses=np.nan_to_num( np.array(better_kan_test_losses),nan=float(\"inf\"))\n",
    "    base_kan_train_losses=np.nan_to_num( np.array(base_kan_train_losses),nan=float(\"inf\"))\n",
    "    better_kan_train_losses=np.nan_to_num( np.array(better_kan_train_losses),nan=float(\"inf\"))\n",
    "    # print(base_kan_test_losses)\n",
    "    print(width)\n",
    "    print(\"base kan test loss\",'%.2E' % Decimal(base_kan_test_losses.min().astype(float)))\n",
    "    print(\"better kan test loss\",'%.2E' % Decimal(better_kan_test_losses.min().astype(float)))\n",
    "    print(\"base kan train loss\",'%.2E' % Decimal(base_kan_train_losses.min().astype(float)))\n",
    "    print(\"better kan train loss\",'%.2E' % Decimal(better_kan_train_losses.min().astype(float)))\n",
    "    print(\"base kan test loss\",'%.2E' % Decimal(base_kan_test_losses.min().astype(float)**2))\n",
    "    print(\"better kan test loss\",'%.2E' % Decimal(better_kan_test_losses.min().astype(float)**2))\n",
    "    print(\"base kan train loss\",'%.2E' % Decimal(base_kan_train_losses.min().astype(float)**2))\n",
    "    print(\"better kan train loss\",'%.2E' % Decimal(better_kan_train_losses.min().astype(float)**2))\n",
    "    \n",
    "    \n",
    "        \n",
    "       \n",
    "def test(func,widths,input_min,input_max,steps=50,device=\"cuda\",seed=0,name=\"\",degrees=(5,10,20,50)):\n",
    "    try:\n",
    "        ranges=list(zip(input_min,input_max))\n",
    "        test_kan(func,ranges,widths,device=device,steps=steps,seed=seed,degrees=degrees)\n",
    "    except Exception as e:\n",
    "        print(e)\n",
    "        print(\"Failed\")\n",
    "        return\n",
    "    \n",
    "    "
   ]
  },
  {
   "cell_type": "code",
   "execution_count": null,
   "metadata": {},
   "outputs": [],
   "source": [
    "test(ellipj,[2,2,1],[-1,0],[1,1])\n",
    "test(ellipj, [2,3,2,1,1,1],[-1,0],[1,1])\n"
   ]
  },
  {
   "cell_type": "code",
   "execution_count": null,
   "metadata": {},
   "outputs": [],
   "source": [
    "test(ellipkinc,[2,2,1,1],[-1,0],[1,1])\n",
    "test(ellipkinc,[2,2,1,1,1],[-1,0],[1,1])"
   ]
  },
  {
   "cell_type": "code",
   "execution_count": null,
   "metadata": {},
   "outputs": [],
   "source": [
    "test(ellipeinc,[2,2,1],[-1,0],[1,1])\n",
    "test(ellipeinc,[2,2,1,1],[-1,0],[1,1])"
   ]
  },
  {
   "cell_type": "code",
   "execution_count": 4,
   "metadata": {},
   "outputs": [
    {
     "name": "stdout",
     "output_type": "stream",
     "text": [
      "tensor(0.0002, device='cuda:0') tensor(0.9965, device='cuda:0')\n",
      "BetterKAN 5\n"
     ]
    },
    {
     "name": "stderr",
     "output_type": "stream",
     "text": [
      "train loss: 2.41e-03 | test loss: 2.42e-03 | reg: 0.00e+00 : 100%|██| 50/50 [00:29<00:00,  1.68it/s]\n"
     ]
    },
    {
     "name": "stdout",
     "output_type": "stream",
     "text": [
      "BetterKAN 5 0.1\n"
     ]
    },
    {
     "name": "stderr",
     "output_type": "stream",
     "text": [
      "train loss: 2.97e-03 | test loss: 2.91e-03 | reg: 0.00e+00 : 100%|██| 50/50 [00:29<00:00,  1.71it/s]\n"
     ]
    },
    {
     "name": "stdout",
     "output_type": "stream",
     "text": [
      "KAN 5\n"
     ]
    },
    {
     "name": "stderr",
     "output_type": "stream",
     "text": [
      "train loss: 4.00e-03 | test loss: 3.83e-03 | reg: 6.89e+00 : 100%|██| 50/50 [00:23<00:00,  2.15it/s]\n"
     ]
    },
    {
     "name": "stdout",
     "output_type": "stream",
     "text": [
      "BetterKAN 10\n"
     ]
    },
    {
     "name": "stderr",
     "output_type": "stream",
     "text": [
      "train loss: 2.02e-03 | test loss: 1.90e-03 | reg: 0.00e+00 : 100%|██| 50/50 [00:30<00:00,  1.63it/s]\n"
     ]
    },
    {
     "name": "stdout",
     "output_type": "stream",
     "text": [
      "BetterKAN 10 0.1\n"
     ]
    },
    {
     "name": "stderr",
     "output_type": "stream",
     "text": [
      "train loss: 3.64e-03 | test loss: 3.54e-03 | reg: 0.00e+00 :  46%|▉ | 23/50 [00:13<00:17,  1.56it/s]"
     ]
    }
   ],
   "source": [
    "test(jv,[2,2,1],[0,0],[1,1])\n",
    "test(jv,[2,3,1,1,1],[0,0],[1,1])"
   ]
  },
  {
   "cell_type": "code",
   "execution_count": 17,
   "metadata": {},
   "outputs": [
    {
     "name": "stdout",
     "output_type": "stream",
     "text": [
      "tensor(-5.9793, device='cuda:0') tensor(0.0720, device='cuda:0')\n",
      "BetterKAN 5\n"
     ]
    },
    {
     "name": "stderr",
     "output_type": "stream",
     "text": [
      "train loss: 9.67e-03 | test loss: 1.76e-02 | reg: 0.00e+00 : 100%|██| 50/50 [00:38<00:00,  1.31it/s]\n"
     ]
    },
    {
     "name": "stdout",
     "output_type": "stream",
     "text": [
      "BetterKAN 5 0.1\n"
     ]
    },
    {
     "name": "stderr",
     "output_type": "stream",
     "text": [
      "train loss: 8.76e-03 | test loss: 1.62e-02 | reg: 0.00e+00 : 100%|██| 50/50 [00:36<00:00,  1.36it/s]\n"
     ]
    },
    {
     "name": "stdout",
     "output_type": "stream",
     "text": [
      "KAN 5\n"
     ]
    },
    {
     "name": "stderr",
     "output_type": "stream",
     "text": [
      "train loss: 1.59e-02 | test loss: 2.09e-02 | reg: 1.92e+01 : 100%|██| 50/50 [00:32<00:00,  1.56it/s]\n"
     ]
    },
    {
     "name": "stdout",
     "output_type": "stream",
     "text": [
      "BetterKAN 10\n"
     ]
    },
    {
     "name": "stderr",
     "output_type": "stream",
     "text": [
      "train loss: 5.60e-03 | test loss: 1.36e-02 | reg: 0.00e+00 : 100%|██| 50/50 [00:34<00:00,  1.46it/s]\n"
     ]
    },
    {
     "name": "stdout",
     "output_type": "stream",
     "text": [
      "BetterKAN 10 0.1\n"
     ]
    },
    {
     "name": "stderr",
     "output_type": "stream",
     "text": [
      "train loss: 5.81e-03 | test loss: 1.25e-02 | reg: 0.00e+00 : 100%|██| 50/50 [00:38<00:00,  1.31it/s]\n"
     ]
    },
    {
     "name": "stdout",
     "output_type": "stream",
     "text": [
      "KAN 10\n"
     ]
    },
    {
     "name": "stderr",
     "output_type": "stream",
     "text": [
      "train loss: 2.49e-02 | test loss: 3.25e-02 | reg: 1.33e+01 : 100%|██| 50/50 [00:33<00:00,  1.50it/s]\n"
     ]
    },
    {
     "name": "stdout",
     "output_type": "stream",
     "text": [
      "BetterKAN 20\n"
     ]
    },
    {
     "name": "stderr",
     "output_type": "stream",
     "text": [
      "train loss: 7.65e-03 | test loss: 1.57e-02 | reg: 0.00e+00 : 100%|██| 50/50 [00:23<00:00,  2.09it/s]\n"
     ]
    },
    {
     "name": "stdout",
     "output_type": "stream",
     "text": [
      "BetterKAN 20 0.1\n"
     ]
    },
    {
     "name": "stderr",
     "output_type": "stream",
     "text": [
      "train loss: 4.58e-03 | test loss: 1.34e-02 | reg: 0.00e+00 : 100%|██| 50/50 [00:33<00:00,  1.49it/s]\n"
     ]
    },
    {
     "name": "stdout",
     "output_type": "stream",
     "text": [
      "KAN 20\n"
     ]
    },
    {
     "name": "stderr",
     "output_type": "stream",
     "text": [
      "train loss: nan | test loss: nan | reg: nan : 100%|█████████████████| 50/50 [00:35<00:00,  1.41it/s]\n"
     ]
    },
    {
     "name": "stdout",
     "output_type": "stream",
     "text": [
      "BetterKAN 50\n"
     ]
    },
    {
     "name": "stderr",
     "output_type": "stream",
     "text": [
      "train loss: 2.10e-03 | test loss: 6.73e-03 | reg: 0.00e+00 : 100%|██| 50/50 [00:30<00:00,  1.61it/s]\n"
     ]
    },
    {
     "name": "stdout",
     "output_type": "stream",
     "text": [
      "BetterKAN 50 0.1\n"
     ]
    },
    {
     "name": "stderr",
     "output_type": "stream",
     "text": [
      "train loss: 4.17e-03 | test loss: 1.42e-02 | reg: 0.00e+00 : 100%|██| 50/50 [00:33<00:00,  1.50it/s]\n"
     ]
    },
    {
     "name": "stdout",
     "output_type": "stream",
     "text": [
      "KAN 50\n"
     ]
    },
    {
     "name": "stderr",
     "output_type": "stream",
     "text": [
      "train loss: nan | test loss: nan | reg: nan : 100%|█████████████████| 50/50 [00:36<00:00,  1.38it/s]\n"
     ]
    },
    {
     "name": "stdout",
     "output_type": "stream",
     "text": [
      "base kan test loss 2.09E-02\n",
      "better kan test loss 6.73E-03\n",
      "base kan train loss 1.59E-02\n",
      "better kan train loss 2.10E-03\n",
      "base kan test loss 4.36E-04\n",
      "better kan test loss 4.52E-05\n",
      "base kan train loss 2.51E-04\n",
      "better kan train loss 4.41E-06\n",
      "tensor(-5.9793, device='cuda:0') tensor(0.0720, device='cuda:0')\n",
      "BetterKAN 5\n"
     ]
    },
    {
     "name": "stderr",
     "output_type": "stream",
     "text": [
      "train loss: 1.49e-02 | test loss: 1.90e-02 | reg: 0.00e+00 : 100%|██| 50/50 [00:29<00:00,  1.71it/s]\n"
     ]
    },
    {
     "name": "stdout",
     "output_type": "stream",
     "text": [
      "BetterKAN 5 0.1\n"
     ]
    },
    {
     "name": "stderr",
     "output_type": "stream",
     "text": [
      "train loss: 1.01e-02 | test loss: 1.54e-02 | reg: 0.00e+00 : 100%|██| 50/50 [00:28<00:00,  1.78it/s]\n"
     ]
    },
    {
     "name": "stdout",
     "output_type": "stream",
     "text": [
      "KAN 5\n"
     ]
    },
    {
     "name": "stderr",
     "output_type": "stream",
     "text": [
      "train loss: 2.76e-02 | test loss: 3.42e-02 | reg: 9.84e+00 : 100%|██| 50/50 [00:22<00:00,  2.26it/s]\n"
     ]
    },
    {
     "name": "stdout",
     "output_type": "stream",
     "text": [
      "BetterKAN 10\n"
     ]
    },
    {
     "name": "stderr",
     "output_type": "stream",
     "text": [
      "train loss: 4.13e-03 | test loss: 1.20e-02 | reg: 0.00e+00 : 100%|██| 50/50 [00:25<00:00,  1.97it/s]\n"
     ]
    },
    {
     "name": "stdout",
     "output_type": "stream",
     "text": [
      "BetterKAN 10 0.1\n"
     ]
    },
    {
     "name": "stderr",
     "output_type": "stream",
     "text": [
      "train loss: 5.52e-03 | test loss: 1.48e-02 | reg: 0.00e+00 : 100%|██| 50/50 [00:29<00:00,  1.69it/s]\n"
     ]
    },
    {
     "name": "stdout",
     "output_type": "stream",
     "text": [
      "KAN 10\n"
     ]
    },
    {
     "name": "stderr",
     "output_type": "stream",
     "text": [
      "train loss: 7.11e-03 | test loss: 1.56e-02 | reg: 8.21e+00 : 100%|██| 50/50 [00:23<00:00,  2.11it/s]\n"
     ]
    },
    {
     "name": "stdout",
     "output_type": "stream",
     "text": [
      "BetterKAN 20\n"
     ]
    },
    {
     "name": "stderr",
     "output_type": "stream",
     "text": [
      "train loss: 3.75e-03 | test loss: 1.18e-02 | reg: 0.00e+00 : 100%|██| 50/50 [00:37<00:00,  1.35it/s]\n"
     ]
    },
    {
     "name": "stdout",
     "output_type": "stream",
     "text": [
      "BetterKAN 20 0.1\n"
     ]
    },
    {
     "name": "stderr",
     "output_type": "stream",
     "text": [
      "train loss: 5.20e-03 | test loss: 1.16e-02 | reg: 0.00e+00 : 100%|██| 50/50 [00:30<00:00,  1.64it/s]\n"
     ]
    },
    {
     "name": "stdout",
     "output_type": "stream",
     "text": [
      "KAN 20\n"
     ]
    },
    {
     "name": "stderr",
     "output_type": "stream",
     "text": [
      "train loss: nan | test loss: nan | reg: nan : 100%|█████████████████| 50/50 [00:25<00:00,  1.94it/s]\n"
     ]
    },
    {
     "name": "stdout",
     "output_type": "stream",
     "text": [
      "BetterKAN 50\n"
     ]
    },
    {
     "name": "stderr",
     "output_type": "stream",
     "text": [
      "train loss: 3.52e-03 | test loss: 1.04e-02 | reg: 0.00e+00 : 100%|██| 50/50 [00:31<00:00,  1.57it/s]\n"
     ]
    },
    {
     "name": "stdout",
     "output_type": "stream",
     "text": [
      "BetterKAN 50 0.1\n"
     ]
    },
    {
     "name": "stderr",
     "output_type": "stream",
     "text": [
      "train loss: 3.62e-03 | test loss: 1.04e-02 | reg: 0.00e+00 : 100%|██| 50/50 [00:31<00:00,  1.59it/s]\n"
     ]
    },
    {
     "name": "stdout",
     "output_type": "stream",
     "text": [
      "KAN 50\n"
     ]
    },
    {
     "name": "stderr",
     "output_type": "stream",
     "text": [
      "train loss: nan | test loss: nan | reg: nan : 100%|█████████████████| 50/50 [00:28<00:00,  1.76it/s]"
     ]
    },
    {
     "name": "stdout",
     "output_type": "stream",
     "text": [
      "base kan test loss 1.56E-02\n",
      "better kan test loss 1.01E-02\n",
      "base kan train loss 7.11E-03\n",
      "better kan train loss 3.52E-03\n",
      "base kan test loss 2.42E-04\n",
      "better kan test loss 1.01E-04\n",
      "base kan train loss 5.05E-05\n",
      "better kan train loss 1.24E-05\n"
     ]
    },
    {
     "name": "stderr",
     "output_type": "stream",
     "text": [
      "\n"
     ]
    }
   ],
   "source": [
    "test(yv,[2,2,2,1],[0,0],[0.1,1])\n",
    "test(yv,[2,2,1],[0,0],[0.1,1])"
   ]
  },
  {
   "cell_type": "code",
   "execution_count": 18,
   "metadata": {},
   "outputs": [
    {
     "name": "stdout",
     "output_type": "stream",
     "text": [
      "tensor(0.4215, device='cuda:0') tensor(9.3096, device='cuda:0')\n",
      "BetterKAN 5\n"
     ]
    },
    {
     "name": "stderr",
     "output_type": "stream",
     "text": [
      "train loss: 6.62e-03 | test loss: 1.93e-02 | reg: 0.00e+00 : 100%|██| 50/50 [00:34<00:00,  1.45it/s]\n"
     ]
    },
    {
     "name": "stdout",
     "output_type": "stream",
     "text": [
      "BetterKAN 5 0.1\n"
     ]
    },
    {
     "name": "stderr",
     "output_type": "stream",
     "text": [
      "train loss: 3.55e-02 | test loss: 4.28e-02 | reg: 0.00e+00 : 100%|██| 50/50 [00:30<00:00,  1.64it/s]\n"
     ]
    },
    {
     "name": "stdout",
     "output_type": "stream",
     "text": [
      "KAN 5\n"
     ]
    },
    {
     "name": "stderr",
     "output_type": "stream",
     "text": [
      "train loss: 2.25e-02 | test loss: 3.50e-02 | reg: 1.16e+01 : 100%|██| 50/50 [00:31<00:00,  1.57it/s]\n"
     ]
    },
    {
     "name": "stdout",
     "output_type": "stream",
     "text": [
      "BetterKAN 10\n"
     ]
    },
    {
     "name": "stderr",
     "output_type": "stream",
     "text": [
      "train loss: 1.03e-02 | test loss: 2.25e-02 | reg: 0.00e+00 : 100%|██| 50/50 [00:20<00:00,  2.49it/s]\n"
     ]
    },
    {
     "name": "stdout",
     "output_type": "stream",
     "text": [
      "BetterKAN 10 0.1\n"
     ]
    },
    {
     "name": "stderr",
     "output_type": "stream",
     "text": [
      "train loss: 1.10e-02 | test loss: 2.24e-02 | reg: 0.00e+00 : 100%|██| 50/50 [00:35<00:00,  1.39it/s]\n"
     ]
    },
    {
     "name": "stdout",
     "output_type": "stream",
     "text": [
      "KAN 10\n"
     ]
    },
    {
     "name": "stderr",
     "output_type": "stream",
     "text": [
      "train loss: 4.80e-02 | test loss: 5.88e-02 | reg: 9.26e+00 : 100%|██| 50/50 [00:25<00:00,  1.96it/s]\n"
     ]
    },
    {
     "name": "stdout",
     "output_type": "stream",
     "text": [
      "BetterKAN 20\n"
     ]
    },
    {
     "name": "stderr",
     "output_type": "stream",
     "text": [
      "train loss: 7.44e-03 | test loss: 1.25e-02 | reg: 0.00e+00 : 100%|██| 50/50 [00:27<00:00,  1.84it/s]\n"
     ]
    },
    {
     "name": "stdout",
     "output_type": "stream",
     "text": [
      "BetterKAN 20 0.1\n"
     ]
    },
    {
     "name": "stderr",
     "output_type": "stream",
     "text": [
      "train loss: 9.44e-03 | test loss: 1.82e-02 | reg: 0.00e+00 : 100%|██| 50/50 [00:30<00:00,  1.66it/s]\n"
     ]
    },
    {
     "name": "stdout",
     "output_type": "stream",
     "text": [
      "KAN 20\n"
     ]
    },
    {
     "name": "stderr",
     "output_type": "stream",
     "text": [
      "train loss: nan | test loss: nan | reg: nan : 100%|█████████████████| 50/50 [00:24<00:00,  2.04it/s]\n"
     ]
    },
    {
     "name": "stdout",
     "output_type": "stream",
     "text": [
      "BetterKAN 50\n"
     ]
    },
    {
     "name": "stderr",
     "output_type": "stream",
     "text": [
      "train loss: 8.65e-03 | test loss: 2.31e-02 | reg: 0.00e+00 : 100%|██| 50/50 [00:28<00:00,  1.76it/s]\n"
     ]
    },
    {
     "name": "stdout",
     "output_type": "stream",
     "text": [
      "BetterKAN 50 0.1\n"
     ]
    },
    {
     "name": "stderr",
     "output_type": "stream",
     "text": [
      "train loss: 5.46e-03 | test loss: 1.77e-02 | reg: 0.00e+00 : 100%|██| 50/50 [00:28<00:00,  1.75it/s]\n"
     ]
    },
    {
     "name": "stdout",
     "output_type": "stream",
     "text": [
      "KAN 50\n"
     ]
    },
    {
     "name": "stderr",
     "output_type": "stream",
     "text": [
      "train loss: nan | test loss: nan | reg: nan : 100%|█████████████████| 50/50 [00:23<00:00,  2.11it/s]\n"
     ]
    },
    {
     "name": "stdout",
     "output_type": "stream",
     "text": [
      "base kan test loss 3.41E-02\n",
      "better kan test loss 1.25E-02\n",
      "base kan train loss 2.20E-02\n",
      "better kan train loss 5.46E-03\n",
      "base kan test loss 1.16E-03\n",
      "better kan test loss 1.57E-04\n",
      "base kan train loss 4.83E-04\n",
      "better kan train loss 2.98E-05\n",
      "tensor(0.4215, device='cuda:0') tensor(9.3096, device='cuda:0')\n",
      "BetterKAN 5\n"
     ]
    },
    {
     "name": "stderr",
     "output_type": "stream",
     "text": [
      "train loss: 1.06e-02 | test loss: 2.05e-02 | reg: 0.00e+00 : 100%|██| 50/50 [00:16<00:00,  2.98it/s]\n"
     ]
    },
    {
     "name": "stdout",
     "output_type": "stream",
     "text": [
      "BetterKAN 5 0.1\n"
     ]
    },
    {
     "name": "stderr",
     "output_type": "stream",
     "text": [
      "train loss: 1.92e-02 | test loss: 3.09e-02 | reg: 0.00e+00 : 100%|██| 50/50 [00:25<00:00,  1.94it/s]\n"
     ]
    },
    {
     "name": "stdout",
     "output_type": "stream",
     "text": [
      "KAN 5\n"
     ]
    },
    {
     "name": "stderr",
     "output_type": "stream",
     "text": [
      "train loss: 5.77e-02 | test loss: 6.67e-02 | reg: 1.91e+01 : 100%|██| 50/50 [00:22<00:00,  2.21it/s]\n"
     ]
    },
    {
     "name": "stdout",
     "output_type": "stream",
     "text": [
      "BetterKAN 10\n"
     ]
    },
    {
     "name": "stderr",
     "output_type": "stream",
     "text": [
      "train loss: 1.14e-02 | test loss: 2.29e-02 | reg: 0.00e+00 : 100%|██| 50/50 [00:10<00:00,  4.75it/s]\n"
     ]
    },
    {
     "name": "stdout",
     "output_type": "stream",
     "text": [
      "BetterKAN 10 0.1\n"
     ]
    },
    {
     "name": "stderr",
     "output_type": "stream",
     "text": [
      "train loss: 9.48e-03 | test loss: 1.77e-02 | reg: 0.00e+00 : 100%|██| 50/50 [00:36<00:00,  1.35it/s]\n"
     ]
    },
    {
     "name": "stdout",
     "output_type": "stream",
     "text": [
      "KAN 10\n"
     ]
    },
    {
     "name": "stderr",
     "output_type": "stream",
     "text": [
      "train loss: 1.49e-02 | test loss: 2.75e-02 | reg: 3.96e+00 : 100%|██| 50/50 [00:31<00:00,  1.58it/s]\n"
     ]
    },
    {
     "name": "stdout",
     "output_type": "stream",
     "text": [
      "BetterKAN 20\n"
     ]
    },
    {
     "name": "stderr",
     "output_type": "stream",
     "text": [
      "train loss: 1.14e-02 | test loss: 2.27e-02 | reg: 0.00e+00 : 100%|██| 50/50 [00:26<00:00,  1.90it/s]\n"
     ]
    },
    {
     "name": "stdout",
     "output_type": "stream",
     "text": [
      "BetterKAN 20 0.1\n"
     ]
    },
    {
     "name": "stderr",
     "output_type": "stream",
     "text": [
      "train loss: 9.50e-03 | test loss: 1.89e-02 | reg: 0.00e+00 : 100%|██| 50/50 [00:34<00:00,  1.46it/s]\n"
     ]
    },
    {
     "name": "stdout",
     "output_type": "stream",
     "text": [
      "KAN 20\n"
     ]
    },
    {
     "name": "stderr",
     "output_type": "stream",
     "text": [
      "train loss: nan | test loss: nan | reg: nan : 100%|█████████████████| 50/50 [00:27<00:00,  1.83it/s]\n"
     ]
    },
    {
     "name": "stdout",
     "output_type": "stream",
     "text": [
      "BetterKAN 50\n"
     ]
    },
    {
     "name": "stderr",
     "output_type": "stream",
     "text": [
      "train loss: 9.78e-03 | test loss: 2.08e-02 | reg: 0.00e+00 : 100%|██| 50/50 [00:35<00:00,  1.41it/s]\n"
     ]
    },
    {
     "name": "stdout",
     "output_type": "stream",
     "text": [
      "BetterKAN 50 0.1\n"
     ]
    },
    {
     "name": "stderr",
     "output_type": "stream",
     "text": [
      "train loss: 9.57e-03 | test loss: 2.08e-02 | reg: 0.00e+00 : 100%|██| 50/50 [00:31<00:00,  1.60it/s]\n"
     ]
    },
    {
     "name": "stdout",
     "output_type": "stream",
     "text": [
      "KAN 50\n"
     ]
    },
    {
     "name": "stderr",
     "output_type": "stream",
     "text": [
      "train loss: nan | test loss: nan | reg: nan : 100%|█████████████████| 50/50 [00:18<00:00,  2.75it/s]"
     ]
    },
    {
     "name": "stdout",
     "output_type": "stream",
     "text": [
      "base kan test loss 2.72E-02\n",
      "better kan test loss 1.74E-02\n",
      "base kan train loss 1.49E-02\n",
      "better kan train loss 9.48E-03\n",
      "base kan test loss 7.40E-04\n",
      "better kan test loss 3.04E-04\n",
      "base kan train loss 2.21E-04\n",
      "better kan train loss 8.98E-05\n"
     ]
    },
    {
     "name": "stderr",
     "output_type": "stream",
     "text": [
      "\n"
     ]
    }
   ],
   "source": [
    "test(kv,[2,2,1],[0,0],[0.1,1])\n",
    "test(kv,[2,1,1],[0,0],[0.1,1])"
   ]
  },
  {
   "cell_type": "code",
   "execution_count": null,
   "metadata": {},
   "outputs": [],
   "source": [
    "test(iv,[2,4,3,2,1,1],[0,0],[1,1])\n"
   ]
  },
  {
   "cell_type": "code",
   "execution_count": null,
   "metadata": {},
   "outputs": [],
   "source": [
    "test(lpmv0,[2,2,1],[-1,-1],[1,1])\n"
   ]
  },
  {
   "cell_type": "code",
   "execution_count": 19,
   "metadata": {},
   "outputs": [
    {
     "name": "stdout",
     "output_type": "stream",
     "text": [
      "tensor(-0.9997, device='cuda:0') tensor(-2.3353e-05, device='cuda:0')\n",
      "BetterKAN 5\n"
     ]
    },
    {
     "name": "stderr",
     "output_type": "stream",
     "text": [
      "description:   0%|                                                           | 0/50 [00:00<?, ?it/s]"
     ]
    },
    {
     "name": "stderr",
     "output_type": "stream",
     "text": [
      "train loss: 1.25e-03 | test loss: 1.08e-03 | reg: 0.00e+00 : 100%|██| 50/50 [00:30<00:00,  1.64it/s]\n"
     ]
    },
    {
     "name": "stdout",
     "output_type": "stream",
     "text": [
      "BetterKAN 5 0.1\n"
     ]
    },
    {
     "name": "stderr",
     "output_type": "stream",
     "text": [
      "train loss: 2.24e-03 | test loss: 2.09e-03 | reg: 0.00e+00 : 100%|██| 50/50 [00:29<00:00,  1.67it/s]\n"
     ]
    },
    {
     "name": "stdout",
     "output_type": "stream",
     "text": [
      "KAN 5\n"
     ]
    },
    {
     "name": "stderr",
     "output_type": "stream",
     "text": [
      "train loss: 7.63e-04 | test loss: 5.47e-04 | reg: 9.30e+00 : 100%|██| 50/50 [00:24<00:00,  2.05it/s]\n"
     ]
    },
    {
     "name": "stdout",
     "output_type": "stream",
     "text": [
      "BetterKAN 10\n"
     ]
    },
    {
     "name": "stderr",
     "output_type": "stream",
     "text": [
      "train loss: 2.25e-03 | test loss: 2.09e-03 | reg: 0.00e+00 : 100%|██| 50/50 [00:38<00:00,  1.29it/s]\n"
     ]
    },
    {
     "name": "stdout",
     "output_type": "stream",
     "text": [
      "BetterKAN 10 0.1\n"
     ]
    },
    {
     "name": "stderr",
     "output_type": "stream",
     "text": [
      "train loss: 1.21e-03 | test loss: 1.07e-03 | reg: 0.00e+00 : 100%|██| 50/50 [00:37<00:00,  1.33it/s]\n"
     ]
    },
    {
     "name": "stdout",
     "output_type": "stream",
     "text": [
      "KAN 10\n"
     ]
    },
    {
     "name": "stderr",
     "output_type": "stream",
     "text": [
      "train loss: 4.76e-04 | test loss: 5.19e-04 | reg: 9.28e+00 : 100%|██| 50/50 [00:28<00:00,  1.76it/s]\n"
     ]
    },
    {
     "name": "stdout",
     "output_type": "stream",
     "text": [
      "BetterKAN 20\n"
     ]
    },
    {
     "name": "stderr",
     "output_type": "stream",
     "text": [
      "train loss: 8.12e-04 | test loss: 6.98e-04 | reg: 0.00e+00 : 100%|██| 50/50 [00:31<00:00,  1.60it/s]\n"
     ]
    },
    {
     "name": "stdout",
     "output_type": "stream",
     "text": [
      "BetterKAN 20 0.1\n"
     ]
    },
    {
     "name": "stderr",
     "output_type": "stream",
     "text": [
      "train loss: 1.58e-03 | test loss: 1.44e-03 | reg: 0.00e+00 : 100%|██| 50/50 [00:29<00:00,  1.68it/s]\n"
     ]
    },
    {
     "name": "stdout",
     "output_type": "stream",
     "text": [
      "KAN 20\n"
     ]
    },
    {
     "name": "stderr",
     "output_type": "stream",
     "text": [
      "train loss: 3.72e-04 | test loss: 3.70e-04 | reg: 9.60e+00 : 100%|██| 50/50 [00:23<00:00,  2.08it/s]\n"
     ]
    },
    {
     "name": "stdout",
     "output_type": "stream",
     "text": [
      "BetterKAN 50\n"
     ]
    },
    {
     "name": "stderr",
     "output_type": "stream",
     "text": [
      "train loss: 1.54e-03 | test loss: 1.31e-03 | reg: 0.00e+00 : 100%|██| 50/50 [00:30<00:00,  1.65it/s]\n"
     ]
    },
    {
     "name": "stdout",
     "output_type": "stream",
     "text": [
      "BetterKAN 50 0.1\n"
     ]
    },
    {
     "name": "stderr",
     "output_type": "stream",
     "text": [
      "train loss: 1.64e-03 | test loss: 1.41e-03 | reg: 0.00e+00 : 100%|██| 50/50 [00:29<00:00,  1.70it/s]\n"
     ]
    },
    {
     "name": "stdout",
     "output_type": "stream",
     "text": [
      "KAN 50\n"
     ]
    },
    {
     "name": "stderr",
     "output_type": "stream",
     "text": [
      "train loss: nan | test loss: nan | reg: nan : 100%|█████████████████| 50/50 [00:24<00:00,  2.06it/s]"
     ]
    },
    {
     "name": "stdout",
     "output_type": "stream",
     "text": [
      "base kan test loss 3.70E-04\n",
      "better kan test loss 6.98E-04\n",
      "base kan train loss 3.72E-04\n",
      "better kan train loss 8.12E-04\n",
      "base kan test loss 1.37E-07\n",
      "better kan test loss 4.88E-07\n",
      "base kan train loss 1.39E-07\n",
      "better kan train loss 6.59E-07\n"
     ]
    },
    {
     "name": "stderr",
     "output_type": "stream",
     "text": [
      "\n"
     ]
    }
   ],
   "source": [
    "test(lpmv1,[2,3,1],[0,0],[1,1])"
   ]
  },
  {
   "cell_type": "code",
   "execution_count": 20,
   "metadata": {},
   "outputs": [
    {
     "name": "stdout",
     "output_type": "stream",
     "text": [
      "tensor(-0.4130, device='cuda:0') tensor(-6.8425e-06, device='cuda:0')\n",
      "BetterKAN 5\n"
     ]
    },
    {
     "name": "stderr",
     "output_type": "stream",
     "text": [
      "train loss: 1.37e-03 | test loss: 1.29e-03 | reg: 0.00e+00 : 100%|██| 50/50 [00:38<00:00,  1.32it/s]\n"
     ]
    },
    {
     "name": "stdout",
     "output_type": "stream",
     "text": [
      "BetterKAN 5 0.1\n"
     ]
    },
    {
     "name": "stderr",
     "output_type": "stream",
     "text": [
      "train loss: 3.08e-03 | test loss: 3.10e-03 | reg: 0.00e+00 : 100%|██| 50/50 [00:35<00:00,  1.42it/s]\n"
     ]
    },
    {
     "name": "stdout",
     "output_type": "stream",
     "text": [
      "KAN 5\n"
     ]
    },
    {
     "name": "stderr",
     "output_type": "stream",
     "text": [
      "train loss: 1.76e-04 | test loss: 1.85e-04 | reg: 1.28e+01 : 100%|██| 50/50 [00:34<00:00,  1.44it/s]\n"
     ]
    },
    {
     "name": "stdout",
     "output_type": "stream",
     "text": [
      "BetterKAN 10\n"
     ]
    },
    {
     "name": "stderr",
     "output_type": "stream",
     "text": [
      "train loss: 1.70e-03 | test loss: 1.65e-03 | reg: 0.00e+00 : 100%|██| 50/50 [00:36<00:00,  1.37it/s]\n"
     ]
    },
    {
     "name": "stdout",
     "output_type": "stream",
     "text": [
      "BetterKAN 10 0.1\n"
     ]
    },
    {
     "name": "stderr",
     "output_type": "stream",
     "text": [
      "train loss: 2.98e-03 | test loss: 2.75e-03 | reg: 0.00e+00 : 100%|██| 50/50 [00:37<00:00,  1.34it/s]\n"
     ]
    },
    {
     "name": "stdout",
     "output_type": "stream",
     "text": [
      "KAN 10\n"
     ]
    },
    {
     "name": "stderr",
     "output_type": "stream",
     "text": [
      "train loss: 4.02e-04 | test loss: 4.67e-04 | reg: 1.36e+01 : 100%|██| 50/50 [00:36<00:00,  1.35it/s]\n"
     ]
    },
    {
     "name": "stdout",
     "output_type": "stream",
     "text": [
      "BetterKAN 20\n"
     ]
    },
    {
     "name": "stderr",
     "output_type": "stream",
     "text": [
      "train loss: 2.12e-04 | test loss: 2.19e-04 | reg: 0.00e+00 : 100%|██| 50/50 [00:28<00:00,  1.74it/s]\n"
     ]
    },
    {
     "name": "stdout",
     "output_type": "stream",
     "text": [
      "BetterKAN 20 0.1\n"
     ]
    },
    {
     "name": "stderr",
     "output_type": "stream",
     "text": [
      "train loss: 6.32e-04 | test loss: 6.21e-04 | reg: 0.00e+00 : 100%|██| 50/50 [00:31<00:00,  1.58it/s]\n"
     ]
    },
    {
     "name": "stdout",
     "output_type": "stream",
     "text": [
      "KAN 20\n"
     ]
    },
    {
     "name": "stderr",
     "output_type": "stream",
     "text": [
      "train loss: 1.36e-03 | test loss: 1.85e-03 | reg: 1.34e+01 : 100%|██| 50/50 [00:57<00:00,  1.15s/it]\n"
     ]
    },
    {
     "name": "stdout",
     "output_type": "stream",
     "text": [
      "BetterKAN 50\n"
     ]
    },
    {
     "name": "stderr",
     "output_type": "stream",
     "text": [
      "train loss: 1.26e-04 | test loss: 1.32e-04 | reg: 0.00e+00 : 100%|██| 50/50 [01:06<00:00,  1.34s/it]\n"
     ]
    },
    {
     "name": "stdout",
     "output_type": "stream",
     "text": [
      "BetterKAN 50 0.1\n"
     ]
    },
    {
     "name": "stderr",
     "output_type": "stream",
     "text": [
      "train loss: 1.54e-04 | test loss: 1.53e-04 | reg: 0.00e+00 : 100%|██| 50/50 [01:06<00:00,  1.32s/it]\n"
     ]
    },
    {
     "name": "stdout",
     "output_type": "stream",
     "text": [
      "KAN 50\n"
     ]
    },
    {
     "name": "stderr",
     "output_type": "stream",
     "text": [
      "train loss: nan | test loss: nan | reg: nan : 100%|█████████████████| 50/50 [01:17<00:00,  1.56s/it]\n"
     ]
    },
    {
     "name": "stdout",
     "output_type": "stream",
     "text": [
      "base kan test loss 1.85E-04\n",
      "better kan test loss 1.32E-04\n",
      "base kan train loss 1.76E-04\n",
      "better kan train loss 1.26E-04\n",
      "base kan test loss 3.43E-08\n",
      "better kan test loss 1.74E-08\n",
      "base kan train loss 3.09E-08\n",
      "better kan train loss 1.59E-08\n",
      "tensor(-0.4130, device='cuda:0') tensor(-6.8425e-06, device='cuda:0')\n",
      "BetterKAN 5\n"
     ]
    },
    {
     "name": "stderr",
     "output_type": "stream",
     "text": [
      "train loss: 1.19e-03 | test loss: 1.22e-03 | reg: 0.00e+00 : 100%|██| 50/50 [00:50<00:00,  1.01s/it]\n"
     ]
    },
    {
     "name": "stdout",
     "output_type": "stream",
     "text": [
      "BetterKAN 5 0.1\n"
     ]
    },
    {
     "name": "stderr",
     "output_type": "stream",
     "text": [
      "train loss: 1.49e-03 | test loss: 1.50e-03 | reg: 0.00e+00 : 100%|██| 50/50 [00:51<00:00,  1.03s/it]\n"
     ]
    },
    {
     "name": "stdout",
     "output_type": "stream",
     "text": [
      "KAN 5\n"
     ]
    },
    {
     "name": "stderr",
     "output_type": "stream",
     "text": [
      "train loss: 8.34e-04 | test loss: 8.03e-04 | reg: 6.58e+00 : 100%|██| 50/50 [00:39<00:00,  1.25it/s]\n"
     ]
    },
    {
     "name": "stdout",
     "output_type": "stream",
     "text": [
      "BetterKAN 10\n"
     ]
    },
    {
     "name": "stderr",
     "output_type": "stream",
     "text": [
      "train loss: 9.03e-04 | test loss: 9.37e-04 | reg: 0.00e+00 : 100%|██| 50/50 [00:52<00:00,  1.05s/it]\n"
     ]
    },
    {
     "name": "stdout",
     "output_type": "stream",
     "text": [
      "BetterKAN 10 0.1\n"
     ]
    },
    {
     "name": "stderr",
     "output_type": "stream",
     "text": [
      "train loss: 1.31e-03 | test loss: 1.33e-03 | reg: 0.00e+00 : 100%|██| 50/50 [00:47<00:00,  1.05it/s]\n"
     ]
    },
    {
     "name": "stdout",
     "output_type": "stream",
     "text": [
      "KAN 10\n"
     ]
    },
    {
     "name": "stderr",
     "output_type": "stream",
     "text": [
      "train loss: 8.35e-04 | test loss: 8.91e-04 | reg: 5.91e+00 : 100%|██| 50/50 [00:38<00:00,  1.29it/s]\n"
     ]
    },
    {
     "name": "stdout",
     "output_type": "stream",
     "text": [
      "BetterKAN 20\n"
     ]
    },
    {
     "name": "stderr",
     "output_type": "stream",
     "text": [
      "train loss: 6.43e-04 | test loss: 6.65e-04 | reg: 0.00e+00 : 100%|██| 50/50 [00:48<00:00,  1.02it/s]\n"
     ]
    },
    {
     "name": "stdout",
     "output_type": "stream",
     "text": [
      "BetterKAN 20 0.1\n"
     ]
    },
    {
     "name": "stderr",
     "output_type": "stream",
     "text": [
      "train loss: 6.78e-04 | test loss: 6.89e-04 | reg: 0.00e+00 : 100%|██| 50/50 [00:48<00:00,  1.02it/s]\n"
     ]
    },
    {
     "name": "stdout",
     "output_type": "stream",
     "text": [
      "KAN 20\n"
     ]
    },
    {
     "name": "stderr",
     "output_type": "stream",
     "text": [
      "train loss: 8.01e-04 | test loss: 8.74e-04 | reg: 5.35e+00 : 100%|██| 50/50 [00:41<00:00,  1.19it/s]\n"
     ]
    },
    {
     "name": "stdout",
     "output_type": "stream",
     "text": [
      "BetterKAN 50\n"
     ]
    },
    {
     "name": "stderr",
     "output_type": "stream",
     "text": [
      "train loss: 3.78e-04 | test loss: 3.77e-04 | reg: 0.00e+00 : 100%|██| 50/50 [00:51<00:00,  1.03s/it]\n"
     ]
    },
    {
     "name": "stdout",
     "output_type": "stream",
     "text": [
      "BetterKAN 50 0.1\n"
     ]
    },
    {
     "name": "stderr",
     "output_type": "stream",
     "text": [
      "train loss: 4.48e-04 | test loss: 4.51e-04 | reg: 0.00e+00 : 100%|██| 50/50 [00:49<00:00,  1.00it/s]\n"
     ]
    },
    {
     "name": "stdout",
     "output_type": "stream",
     "text": [
      "KAN 50\n"
     ]
    },
    {
     "name": "stderr",
     "output_type": "stream",
     "text": [
      "train loss: 9.20e-04 | test loss: 1.09e-03 | reg: 6.39e+00 : 100%|██| 50/50 [00:45<00:00,  1.10it/s]"
     ]
    },
    {
     "name": "stdout",
     "output_type": "stream",
     "text": [
      "base kan test loss 7.95E-04\n",
      "better kan test loss 3.77E-04\n",
      "base kan train loss 8.01E-04\n",
      "better kan train loss 3.78E-04\n",
      "base kan test loss 6.31E-07\n",
      "better kan test loss 1.42E-07\n",
      "base kan train loss 6.42E-07\n",
      "better kan train loss 1.43E-07\n"
     ]
    },
    {
     "name": "stderr",
     "output_type": "stream",
     "text": [
      "\n"
     ]
    }
   ],
   "source": [
    "test(lpmv2,[2,3,2,1],[0,0],[1,1])\n",
    "test(lpmv2,[2,2,1],[0,0],[1,1])"
   ]
  },
  {
   "cell_type": "code",
   "execution_count": null,
   "metadata": {},
   "outputs": [],
   "source": [
    "# test(lpmv3,[2,3,2,1],[0,0],[1,1])\n",
    "# test(lpmv3,[2,2,1],[0,0],[1,1])"
   ]
  },
  {
   "cell_type": "code",
   "execution_count": null,
   "metadata": {},
   "outputs": [],
   "source": [
    "test(sph_harm11,[2,2,1],[0,0],[torch.pi,2*torch.pi])\n",
    "test(sph_harm11,[2,3,2,1],[0,0],[torch.pi,2*torch.pi])"
   ]
  },
  {
   "cell_type": "code",
   "execution_count": null,
   "metadata": {},
   "outputs": [],
   "source": [
    "test(sph_harm12,[2,2,1],[0,0],[torch.pi,2*torch.pi])\n",
    "test(sph_harm12,[2,2,1,1],[0,0],[torch.pi,2*torch.pi])"
   ]
  },
  {
   "cell_type": "code",
   "execution_count": null,
   "metadata": {},
   "outputs": [],
   "source": [
    "test(sph_harm22,[2,2,1],[0,0],[torch.pi,2*torch.pi])\n",
    "test(sph_harm22,[2,2,3,2,1],[0,0],[torch.pi,2*torch.pi])"
   ]
  },
  {
   "cell_type": "code",
   "execution_count": null,
   "metadata": {},
   "outputs": [],
   "source": []
  },
  {
   "cell_type": "code",
   "execution_count": null,
   "metadata": {},
   "outputs": [],
   "source": [
    "test(lpmv0,[2,2,1],[0,0],[1,1])\n",
    "test(lpmv0,[2,1,1],[0,0],[1,1])"
   ]
  },
  {
   "cell_type": "code",
   "execution_count": null,
   "metadata": {},
   "outputs": [],
   "source": [
    "test(test_accuracy_1,[1,1],input_min= [-1],input_max= [1],steps=200,degrees=[5,10,20,50,100,200],seed=0,name=\"J_0(20x)\")"
   ]
  },
  {
   "cell_type": "code",
   "execution_count": null,
   "metadata": {},
   "outputs": [],
   "source": [
    "test(test_accuracy_2,[2,2,1],input_min= [-2,-1],input_max= [1,1],steps=200,degrees=[5,10,20,50,100,200],seed=0,name=\"exp(sin(pi*x)+y^2)\")   "
   ]
  },
  {
   "cell_type": "code",
   "execution_count": null,
   "metadata": {},
   "outputs": [],
   "source": [
    "test(test_accuracy_3,[2,3,1],input_min= [-1,-1],input_max= [1,1],steps=200,degrees=[5,10,20,50,100,200],seed=0,name=\"xy\")"
   ]
  },
  {
   "cell_type": "code",
   "execution_count": null,
   "metadata": {},
   "outputs": [],
   "source": [
    "test(test_accuracy_4,[4,2,1,1],input_min= [-1,-1],input_max= [1,1],steps=200,degrees=[5,10,20,50,100,200],seed=0,name=\"exp(sin(x1^2+x2^2)+cos(x3^2+x4^2)\")    "
   ]
  },
  {
   "cell_type": "code",
   "execution_count": null,
   "metadata": {},
   "outputs": [],
   "source": []
  },
  {
   "cell_type": "code",
   "execution_count": null,
   "metadata": {},
   "outputs": [],
   "source": [
    "# test(I_6_2,[2,3,2,1,1,1],input_min=[-10,-10],input_max=[10,10])\n",
    "test(I_6_2,[2,2,1,1],input_min=[-1,0.1],input_max=[1,1])\n",
    "test(I_6_2,[2,3,2,1],input_min=[-1,0.1],input_max=[1,1])\n",
    "test(I_6_2,[2,3,3,2,1],input_min=[-1,0.1],input_max=[1,1])"
   ]
  },
  {
   "cell_type": "code",
   "execution_count": null,
   "metadata": {},
   "outputs": [],
   "source": [
    "# test(I_6_2b,[3,1,2,3,2,1],input_min=[-10,-10,-10],input_max=[10,10,10])\n",
    "test(I_6_2b,[3,3,3,2,1],input_min=[-1,-1,0.1],input_max=[1,1,1])\n",
    "\n",
    "test(I_6_2b,[3,3,2,1],input_min=[-1,-1,0.1],input_max=[1,1,1])\n",
    "\n",
    "test(I_6_2b,[3,2,2,1,1],input_min=[-1,-1,0.1],input_max=[1,1,1])\n"
   ]
  },
  {
   "cell_type": "code",
   "execution_count": null,
   "metadata": {},
   "outputs": [],
   "source": [
    "# test(I_9_18,[6,4,2,2,1],input_min=[-10,-10,-10,-10,-10,-10],input_max=[10,10,10,10,10,10])\n",
    "test(I_9_18,[6,4,1,1],input_min=[-10,0,0.9,-1,0.9,-1],input_max=[10,0.9,1,-0.9,1,-0.9])\n",
    "\n",
    "test(I_9_18,[6,4,2,1,1],input_min=[-10,0,0.9,-1,0.9,-1],input_max=[10,0.9,1,-0.9,1,-0.9])\n",
    "# test(I_9_18,[6,4,1,1],input_min=[-10,-10,-10,-10,-10,-10],input_max=[10,10,10,10,10,10])"
   ]
  },
  {
   "cell_type": "code",
   "execution_count": null,
   "metadata": {},
   "outputs": [],
   "source": [
    "test(I_12_11,[2,2,1],input_min=[-1,-torch.pi*2],input_max=[1,torch.pi*2])\n",
    "\n",
    "test(I_12_11,[2,2,2,1],input_min=[-1,-torch.pi*2],input_max=[1,torch.pi*2])\n",
    "\n",
    "\n"
   ]
  },
  {
   "cell_type": "code",
   "execution_count": null,
   "metadata": {},
   "outputs": [],
   "source": [
    "test(I_13_12,[2,2,1],input_min=[-1,0.5],input_max=[1,1])\n"
   ]
  },
  {
   "cell_type": "code",
   "execution_count": null,
   "metadata": {},
   "outputs": [],
   "source": [
    "test(I_15_3x,[2,2,1],input_min=[-1,0],input_max=[1,0.99])\n",
    "test(I_15_3x,[2,2,1,1,1],input_min=[-1,0],input_max=[1,0.99])"
   ]
  },
  {
   "cell_type": "code",
   "execution_count": null,
   "metadata": {},
   "outputs": [],
   "source": [
    "test(I_16_6,[2,2,1],input_min=[0,0],input_max=[1,1])\n",
    "\n",
    "test(I_16_6,[2,2,2,2,2,1],input_min=[0,0],input_max=[1,1])"
   ]
  },
  {
   "cell_type": "code",
   "execution_count": 21,
   "metadata": {},
   "outputs": [
    {
     "name": "stdout",
     "output_type": "stream",
     "text": [
      "tensor(0.0946, device='cuda:0') tensor(9.1280, device='cuda:0')\n",
      "BetterKAN 5\n"
     ]
    },
    {
     "name": "stderr",
     "output_type": "stream",
     "text": [
      "train loss: 7.84e-03 | test loss: 8.02e-03 | reg: 0.00e+00 : 100%|██| 50/50 [00:53<00:00,  1.06s/it]\n"
     ]
    },
    {
     "name": "stdout",
     "output_type": "stream",
     "text": [
      "BetterKAN 5 0.1\n"
     ]
    },
    {
     "name": "stderr",
     "output_type": "stream",
     "text": [
      "train loss: 8.08e-03 | test loss: 7.85e-03 | reg: 0.00e+00 : 100%|██| 50/50 [00:52<00:00,  1.06s/it]\n"
     ]
    },
    {
     "name": "stdout",
     "output_type": "stream",
     "text": [
      "KAN 5\n"
     ]
    },
    {
     "name": "stderr",
     "output_type": "stream",
     "text": [
      "train loss: 3.30e-02 | test loss: 3.07e-02 | reg: 8.39e+00 : 100%|██| 50/50 [00:43<00:00,  1.15it/s]\n"
     ]
    },
    {
     "name": "stdout",
     "output_type": "stream",
     "text": [
      "BetterKAN 10\n"
     ]
    },
    {
     "name": "stderr",
     "output_type": "stream",
     "text": [
      "train loss: 5.48e-03 | test loss: 5.70e-03 | reg: 0.00e+00 : 100%|██| 50/50 [00:52<00:00,  1.06s/it]\n"
     ]
    },
    {
     "name": "stdout",
     "output_type": "stream",
     "text": [
      "BetterKAN 10 0.1\n"
     ]
    },
    {
     "name": "stderr",
     "output_type": "stream",
     "text": [
      "train loss: 6.86e-03 | test loss: 6.72e-03 | reg: 0.00e+00 : 100%|██| 50/50 [00:51<00:00,  1.04s/it]\n"
     ]
    },
    {
     "name": "stdout",
     "output_type": "stream",
     "text": [
      "KAN 10\n"
     ]
    },
    {
     "name": "stderr",
     "output_type": "stream",
     "text": [
      "train loss: 1.25e-02 | test loss: 1.21e-02 | reg: 7.67e+00 : 100%|██| 50/50 [00:42<00:00,  1.18it/s]\n"
     ]
    },
    {
     "name": "stdout",
     "output_type": "stream",
     "text": [
      "BetterKAN 20\n"
     ]
    },
    {
     "name": "stderr",
     "output_type": "stream",
     "text": [
      "train loss: 2.56e-03 | test loss: 2.58e-03 | reg: 0.00e+00 : 100%|██| 50/50 [00:48<00:00,  1.02it/s]\n"
     ]
    },
    {
     "name": "stdout",
     "output_type": "stream",
     "text": [
      "BetterKAN 20 0.1\n"
     ]
    },
    {
     "name": "stderr",
     "output_type": "stream",
     "text": [
      "train loss: 4.89e-02 | test loss: 4.89e-02 | reg: 0.00e+00 : 100%|██| 50/50 [00:25<00:00,  1.98it/s]\n"
     ]
    },
    {
     "name": "stdout",
     "output_type": "stream",
     "text": [
      "KAN 20\n"
     ]
    },
    {
     "name": "stderr",
     "output_type": "stream",
     "text": [
      "train loss: 1.26e-02 | test loss: 1.38e-02 | reg: 7.25e+00 : 100%|██| 50/50 [00:21<00:00,  2.35it/s]\n"
     ]
    },
    {
     "name": "stdout",
     "output_type": "stream",
     "text": [
      "BetterKAN 50\n"
     ]
    },
    {
     "name": "stderr",
     "output_type": "stream",
     "text": [
      "train loss: 1.26e-02 | test loss: 1.13e-02 | reg: 0.00e+00 : 100%|██| 50/50 [00:33<00:00,  1.48it/s]\n"
     ]
    },
    {
     "name": "stdout",
     "output_type": "stream",
     "text": [
      "BetterKAN 50 0.1\n"
     ]
    },
    {
     "name": "stderr",
     "output_type": "stream",
     "text": [
      "train loss: 2.18e-02 | test loss: 2.01e-02 | reg: 0.00e+00 : 100%|██| 50/50 [00:33<00:00,  1.51it/s]\n"
     ]
    },
    {
     "name": "stdout",
     "output_type": "stream",
     "text": [
      "KAN 50\n"
     ]
    },
    {
     "name": "stderr",
     "output_type": "stream",
     "text": [
      "train loss: 2.85e-02 | test loss: 3.42e-02 | reg: 8.03e+00 : 100%|██| 50/50 [00:24<00:00,  2.01it/s]\n"
     ]
    },
    {
     "name": "stdout",
     "output_type": "stream",
     "text": [
      "base kan test loss 1.21E-02\n",
      "better kan test loss 2.58E-03\n",
      "base kan train loss 1.25E-02\n",
      "better kan train loss 2.56E-03\n",
      "base kan test loss 1.47E-04\n",
      "better kan test loss 6.66E-06\n",
      "base kan train loss 1.56E-04\n",
      "better kan train loss 6.53E-06\n",
      "tensor(0.0946, device='cuda:0') tensor(9.1280, device='cuda:0')\n",
      "BetterKAN 5\n"
     ]
    },
    {
     "name": "stderr",
     "output_type": "stream",
     "text": [
      "train loss: 7.15e-03 | test loss: 7.20e-03 | reg: 0.00e+00 : 100%|██| 50/50 [01:13<00:00,  1.48s/it]\n"
     ]
    },
    {
     "name": "stdout",
     "output_type": "stream",
     "text": [
      "BetterKAN 5 0.1\n"
     ]
    },
    {
     "name": "stderr",
     "output_type": "stream",
     "text": [
      "train loss: 8.55e-03 | test loss: 8.24e-03 | reg: 0.00e+00 : 100%|██| 50/50 [01:01<00:00,  1.23s/it]\n"
     ]
    },
    {
     "name": "stdout",
     "output_type": "stream",
     "text": [
      "KAN 5\n"
     ]
    },
    {
     "name": "stderr",
     "output_type": "stream",
     "text": [
      "train loss: 2.54e-02 | test loss: 2.08e-02 | reg: 1.56e+01 : 100%|██| 50/50 [00:50<00:00,  1.00s/it]\n"
     ]
    },
    {
     "name": "stdout",
     "output_type": "stream",
     "text": [
      "BetterKAN 10\n"
     ]
    },
    {
     "name": "stderr",
     "output_type": "stream",
     "text": [
      "train loss: 3.35e-02 | test loss: 3.39e-02 | reg: 0.00e+00 : 100%|██| 50/50 [00:40<00:00,  1.22it/s]\n"
     ]
    },
    {
     "name": "stdout",
     "output_type": "stream",
     "text": [
      "BetterKAN 10 0.1\n"
     ]
    },
    {
     "name": "stderr",
     "output_type": "stream",
     "text": [
      "train loss: 1.52e-02 | test loss: 1.36e-02 | reg: 0.00e+00 : 100%|██| 50/50 [00:37<00:00,  1.33it/s]\n"
     ]
    },
    {
     "name": "stdout",
     "output_type": "stream",
     "text": [
      "KAN 10\n"
     ]
    },
    {
     "name": "stderr",
     "output_type": "stream",
     "text": [
      "train loss: 1.73e-02 | test loss: 1.62e-02 | reg: 1.75e+01 : 100%|██| 50/50 [00:50<00:00,  1.01s/it]\n"
     ]
    },
    {
     "name": "stdout",
     "output_type": "stream",
     "text": [
      "BetterKAN 20\n"
     ]
    },
    {
     "name": "stderr",
     "output_type": "stream",
     "text": [
      "train loss: 9.99e-03 | test loss: 9.75e-03 | reg: 0.00e+00 : 100%|██| 50/50 [00:46<00:00,  1.07it/s]\n"
     ]
    },
    {
     "name": "stdout",
     "output_type": "stream",
     "text": [
      "BetterKAN 20 0.1\n"
     ]
    },
    {
     "name": "stderr",
     "output_type": "stream",
     "text": [
      "train loss: 2.47e-02 | test loss: 2.46e-02 | reg: 0.00e+00 : 100%|██| 50/50 [00:41<00:00,  1.21it/s]\n"
     ]
    },
    {
     "name": "stdout",
     "output_type": "stream",
     "text": [
      "KAN 20\n"
     ]
    },
    {
     "name": "stderr",
     "output_type": "stream",
     "text": [
      "train loss: 2.61e-02 | test loss: 2.87e-02 | reg: 1.64e+01 : 100%|██| 50/50 [00:49<00:00,  1.00it/s]\n"
     ]
    },
    {
     "name": "stdout",
     "output_type": "stream",
     "text": [
      "BetterKAN 50\n"
     ]
    },
    {
     "name": "stderr",
     "output_type": "stream",
     "text": [
      "train loss: 8.82e-03 | test loss: 8.46e-03 | reg: 0.00e+00 : 100%|██| 50/50 [00:42<00:00,  1.18it/s]\n"
     ]
    },
    {
     "name": "stdout",
     "output_type": "stream",
     "text": [
      "BetterKAN 50 0.1\n"
     ]
    },
    {
     "name": "stderr",
     "output_type": "stream",
     "text": [
      "train loss: 1.12e-02 | test loss: 1.05e-02 | reg: 0.00e+00 : 100%|██| 50/50 [00:41<00:00,  1.19it/s]\n"
     ]
    },
    {
     "name": "stdout",
     "output_type": "stream",
     "text": [
      "KAN 50\n"
     ]
    },
    {
     "name": "stderr",
     "output_type": "stream",
     "text": [
      "train loss: 1.62e-02 | test loss: 3.90e-02 | reg: 1.37e+01 : 100%|██| 50/50 [00:46<00:00,  1.07it/s]\n"
     ]
    },
    {
     "name": "stdout",
     "output_type": "stream",
     "text": [
      "base kan test loss 1.62E-02\n",
      "better kan test loss 7.20E-03\n",
      "base kan train loss 1.62E-02\n",
      "better kan train loss 7.15E-03\n",
      "base kan test loss 2.62E-04\n",
      "better kan test loss 5.18E-05\n",
      "base kan train loss 2.64E-04\n",
      "better kan train loss 5.11E-05\n",
      "tensor(0.0946, device='cuda:0') tensor(9.1280, device='cuda:0')\n",
      "BetterKAN 5\n"
     ]
    },
    {
     "name": "stderr",
     "output_type": "stream",
     "text": [
      "train loss: 7.84e-03 | test loss: 8.02e-03 | reg: 0.00e+00 : 100%|██| 50/50 [00:36<00:00,  1.36it/s]\n"
     ]
    },
    {
     "name": "stdout",
     "output_type": "stream",
     "text": [
      "BetterKAN 5 0.1\n"
     ]
    },
    {
     "name": "stderr",
     "output_type": "stream",
     "text": [
      "train loss: 8.08e-03 | test loss: 7.85e-03 | reg: 0.00e+00 : 100%|██| 50/50 [00:31<00:00,  1.61it/s]\n"
     ]
    },
    {
     "name": "stdout",
     "output_type": "stream",
     "text": [
      "KAN 5\n"
     ]
    },
    {
     "name": "stderr",
     "output_type": "stream",
     "text": [
      "train loss: 3.30e-02 | test loss: 3.07e-02 | reg: 8.39e+00 : 100%|██| 50/50 [00:29<00:00,  1.72it/s]\n"
     ]
    },
    {
     "name": "stdout",
     "output_type": "stream",
     "text": [
      "BetterKAN 10\n"
     ]
    },
    {
     "name": "stderr",
     "output_type": "stream",
     "text": [
      "train loss: 5.48e-03 | test loss: 5.70e-03 | reg: 0.00e+00 : 100%|██| 50/50 [00:33<00:00,  1.47it/s]\n"
     ]
    },
    {
     "name": "stdout",
     "output_type": "stream",
     "text": [
      "BetterKAN 10 0.1\n"
     ]
    },
    {
     "name": "stderr",
     "output_type": "stream",
     "text": [
      "train loss: 6.86e-03 | test loss: 6.72e-03 | reg: 0.00e+00 : 100%|██| 50/50 [00:25<00:00,  1.97it/s]\n"
     ]
    },
    {
     "name": "stdout",
     "output_type": "stream",
     "text": [
      "KAN 10\n"
     ]
    },
    {
     "name": "stderr",
     "output_type": "stream",
     "text": [
      "train loss: 1.25e-02 | test loss: 1.21e-02 | reg: 7.67e+00 : 100%|██| 50/50 [00:28<00:00,  1.75it/s]\n"
     ]
    },
    {
     "name": "stdout",
     "output_type": "stream",
     "text": [
      "BetterKAN 20\n"
     ]
    },
    {
     "name": "stderr",
     "output_type": "stream",
     "text": [
      "train loss: 2.56e-03 | test loss: 2.58e-03 | reg: 0.00e+00 : 100%|██| 50/50 [00:34<00:00,  1.43it/s]\n"
     ]
    },
    {
     "name": "stdout",
     "output_type": "stream",
     "text": [
      "BetterKAN 20 0.1\n"
     ]
    },
    {
     "name": "stderr",
     "output_type": "stream",
     "text": [
      "train loss: 4.89e-02 | test loss: 4.89e-02 | reg: 0.00e+00 : 100%|██| 50/50 [00:32<00:00,  1.56it/s]\n"
     ]
    },
    {
     "name": "stdout",
     "output_type": "stream",
     "text": [
      "KAN 20\n"
     ]
    },
    {
     "name": "stderr",
     "output_type": "stream",
     "text": [
      "train loss: 1.26e-02 | test loss: 1.38e-02 | reg: 7.25e+00 : 100%|██| 50/50 [00:22<00:00,  2.20it/s]\n"
     ]
    },
    {
     "name": "stdout",
     "output_type": "stream",
     "text": [
      "BetterKAN 50\n"
     ]
    },
    {
     "name": "stderr",
     "output_type": "stream",
     "text": [
      "train loss: 1.26e-02 | test loss: 1.13e-02 | reg: 0.00e+00 : 100%|██| 50/50 [00:28<00:00,  1.76it/s]\n"
     ]
    },
    {
     "name": "stdout",
     "output_type": "stream",
     "text": [
      "BetterKAN 50 0.1\n"
     ]
    },
    {
     "name": "stderr",
     "output_type": "stream",
     "text": [
      "train loss: 2.18e-02 | test loss: 2.01e-02 | reg: 0.00e+00 : 100%|██| 50/50 [00:26<00:00,  1.88it/s]\n"
     ]
    },
    {
     "name": "stdout",
     "output_type": "stream",
     "text": [
      "KAN 50\n"
     ]
    },
    {
     "name": "stderr",
     "output_type": "stream",
     "text": [
      "train loss: 2.85e-02 | test loss: 3.42e-02 | reg: 8.03e+00 : 100%|██| 50/50 [00:20<00:00,  2.46it/s]\n"
     ]
    },
    {
     "name": "stdout",
     "output_type": "stream",
     "text": [
      "base kan test loss 1.21E-02\n",
      "better kan test loss 2.58E-03\n",
      "base kan train loss 1.25E-02\n",
      "better kan train loss 2.56E-03\n",
      "base kan test loss 1.47E-04\n",
      "better kan test loss 6.66E-06\n",
      "base kan train loss 1.56E-04\n",
      "better kan train loss 6.53E-06\n",
      "tensor(0.0946, device='cuda:0') tensor(9.1280, device='cuda:0')\n",
      "BetterKAN 5\n"
     ]
    },
    {
     "name": "stderr",
     "output_type": "stream",
     "text": [
      "train loss: 7.15e-03 | test loss: 7.20e-03 | reg: 0.00e+00 : 100%|██| 50/50 [00:37<00:00,  1.32it/s]\n"
     ]
    },
    {
     "name": "stdout",
     "output_type": "stream",
     "text": [
      "BetterKAN 5 0.1\n"
     ]
    },
    {
     "name": "stderr",
     "output_type": "stream",
     "text": [
      "train loss: 8.55e-03 | test loss: 8.24e-03 | reg: 0.00e+00 : 100%|██| 50/50 [00:41<00:00,  1.19it/s]\n"
     ]
    },
    {
     "name": "stdout",
     "output_type": "stream",
     "text": [
      "KAN 5\n"
     ]
    },
    {
     "name": "stderr",
     "output_type": "stream",
     "text": [
      "train loss: 2.54e-02 | test loss: 2.08e-02 | reg: 1.56e+01 : 100%|██| 50/50 [00:40<00:00,  1.24it/s]\n"
     ]
    },
    {
     "name": "stdout",
     "output_type": "stream",
     "text": [
      "BetterKAN 10\n"
     ]
    },
    {
     "name": "stderr",
     "output_type": "stream",
     "text": [
      "train loss: 3.35e-02 | test loss: 3.39e-02 | reg: 0.00e+00 : 100%|██| 50/50 [00:36<00:00,  1.36it/s]\n"
     ]
    },
    {
     "name": "stdout",
     "output_type": "stream",
     "text": [
      "BetterKAN 10 0.1\n"
     ]
    },
    {
     "name": "stderr",
     "output_type": "stream",
     "text": [
      "train loss: 1.52e-02 | test loss: 1.36e-02 | reg: 0.00e+00 : 100%|██| 50/50 [00:42<00:00,  1.16it/s]\n"
     ]
    },
    {
     "name": "stdout",
     "output_type": "stream",
     "text": [
      "KAN 10\n"
     ]
    },
    {
     "name": "stderr",
     "output_type": "stream",
     "text": [
      "train loss: 1.73e-02 | test loss: 1.62e-02 | reg: 1.75e+01 : 100%|██| 50/50 [00:51<00:00,  1.02s/it]\n"
     ]
    },
    {
     "name": "stdout",
     "output_type": "stream",
     "text": [
      "BetterKAN 20\n"
     ]
    },
    {
     "name": "stderr",
     "output_type": "stream",
     "text": [
      "train loss: 9.99e-03 | test loss: 9.75e-03 | reg: 0.00e+00 : 100%|██| 50/50 [00:44<00:00,  1.12it/s]\n"
     ]
    },
    {
     "name": "stdout",
     "output_type": "stream",
     "text": [
      "BetterKAN 20 0.1\n"
     ]
    },
    {
     "name": "stderr",
     "output_type": "stream",
     "text": [
      "train loss: 2.47e-02 | test loss: 2.46e-02 | reg: 0.00e+00 : 100%|██| 50/50 [00:45<00:00,  1.09it/s]\n"
     ]
    },
    {
     "name": "stdout",
     "output_type": "stream",
     "text": [
      "KAN 20\n"
     ]
    },
    {
     "name": "stderr",
     "output_type": "stream",
     "text": [
      "train loss: 2.61e-02 | test loss: 2.87e-02 | reg: 1.64e+01 : 100%|██| 50/50 [00:52<00:00,  1.05s/it]\n"
     ]
    },
    {
     "name": "stdout",
     "output_type": "stream",
     "text": [
      "BetterKAN 50\n"
     ]
    },
    {
     "name": "stderr",
     "output_type": "stream",
     "text": [
      "train loss: 8.82e-03 | test loss: 8.46e-03 | reg: 0.00e+00 : 100%|██| 50/50 [00:49<00:00,  1.00it/s]\n"
     ]
    },
    {
     "name": "stdout",
     "output_type": "stream",
     "text": [
      "BetterKAN 50 0.1\n"
     ]
    },
    {
     "name": "stderr",
     "output_type": "stream",
     "text": [
      "train loss: 1.12e-02 | test loss: 1.05e-02 | reg: 0.00e+00 : 100%|██| 50/50 [00:46<00:00,  1.07it/s]\n"
     ]
    },
    {
     "name": "stdout",
     "output_type": "stream",
     "text": [
      "KAN 50\n"
     ]
    },
    {
     "name": "stderr",
     "output_type": "stream",
     "text": [
      "train loss: 1.62e-02 | test loss: 3.90e-02 | reg: 1.37e+01 : 100%|██| 50/50 [00:54<00:00,  1.10s/it]"
     ]
    },
    {
     "name": "stdout",
     "output_type": "stream",
     "text": [
      "base kan test loss 1.62E-02\n",
      "better kan test loss 7.20E-03\n",
      "base kan train loss 1.62E-02\n",
      "better kan train loss 7.15E-03\n",
      "base kan test loss 2.62E-04\n",
      "better kan test loss 5.18E-05\n",
      "base kan train loss 2.64E-04\n",
      "better kan train loss 5.11E-05\n"
     ]
    },
    {
     "name": "stderr",
     "output_type": "stream",
     "text": [
      "\n"
     ]
    }
   ],
   "source": [
    "test(I_18_4,[2,2,1],input_min=[0,0],input_max=[10,10])\n",
    "test(I_18_4,[2,2,2,2,1],input_min=[0,0],input_max=[10,10])\n",
    "test(I_18_4,[2,2,1],input_min=[0,0],input_max=[10,10])\n",
    "test(I_18_4,[2,2,2,2,1],input_min=[0,0],input_max=[10,10])"
   ]
  },
  {
   "cell_type": "code",
   "execution_count": 22,
   "metadata": {},
   "outputs": [
    {
     "name": "stdout",
     "output_type": "stream",
     "text": [
      "tensor(-1.3747, device='cuda:0') tensor(1.4451, device='cuda:0')\n",
      "BetterKAN 5\n"
     ]
    },
    {
     "name": "stderr",
     "output_type": "stream",
     "text": [
      "train loss: 6.12e-03 | test loss: 7.34e-03 | reg: 0.00e+00 : 100%|██| 50/50 [01:00<00:00,  1.22s/it]\n"
     ]
    },
    {
     "name": "stdout",
     "output_type": "stream",
     "text": [
      "BetterKAN 5 0.1\n"
     ]
    },
    {
     "name": "stderr",
     "output_type": "stream",
     "text": [
      "train loss: 8.77e-03 | test loss: 1.03e-02 | reg: 0.00e+00 : 100%|██| 50/50 [01:01<00:00,  1.23s/it]\n"
     ]
    },
    {
     "name": "stdout",
     "output_type": "stream",
     "text": [
      "KAN 5\n"
     ]
    },
    {
     "name": "stderr",
     "output_type": "stream",
     "text": [
      "train loss: 9.54e-02 | test loss: 1.04e-01 | reg: 1.04e+01 : 100%|██| 50/50 [01:07<00:00,  1.36s/it]\n"
     ]
    },
    {
     "name": "stdout",
     "output_type": "stream",
     "text": [
      "BetterKAN 10\n"
     ]
    },
    {
     "name": "stderr",
     "output_type": "stream",
     "text": [
      "train loss: 3.18e-03 | test loss: 3.81e-03 | reg: 0.00e+00 : 100%|██| 50/50 [01:04<00:00,  1.30s/it]\n"
     ]
    },
    {
     "name": "stdout",
     "output_type": "stream",
     "text": [
      "BetterKAN 10 0.1\n"
     ]
    },
    {
     "name": "stderr",
     "output_type": "stream",
     "text": [
      "train loss: 5.29e-03 | test loss: 6.83e-03 | reg: 0.00e+00 : 100%|██| 50/50 [01:02<00:00,  1.25s/it]\n"
     ]
    },
    {
     "name": "stdout",
     "output_type": "stream",
     "text": [
      "KAN 10\n"
     ]
    },
    {
     "name": "stderr",
     "output_type": "stream",
     "text": [
      "train loss: 5.83e-03 | test loss: 6.39e-03 | reg: 1.14e+01 : 100%|██| 50/50 [01:03<00:00,  1.28s/it]\n"
     ]
    },
    {
     "name": "stdout",
     "output_type": "stream",
     "text": [
      "BetterKAN 20\n"
     ]
    },
    {
     "name": "stderr",
     "output_type": "stream",
     "text": [
      "train loss: 2.78e-03 | test loss: 3.93e-03 | reg: 0.00e+00 : 100%|██| 50/50 [00:44<00:00,  1.11it/s]\n"
     ]
    },
    {
     "name": "stdout",
     "output_type": "stream",
     "text": [
      "BetterKAN 20 0.1\n"
     ]
    },
    {
     "name": "stderr",
     "output_type": "stream",
     "text": [
      "train loss: 4.19e-02 | test loss: 4.35e-02 | reg: 0.00e+00 : 100%|██| 50/50 [00:44<00:00,  1.13it/s]\n"
     ]
    },
    {
     "name": "stdout",
     "output_type": "stream",
     "text": [
      "KAN 20\n"
     ]
    },
    {
     "name": "stderr",
     "output_type": "stream",
     "text": [
      "train loss: 4.33e-02 | test loss: 9.94e-02 | reg: 1.09e+01 : 100%|██| 50/50 [00:53<00:00,  1.06s/it]\n"
     ]
    },
    {
     "name": "stdout",
     "output_type": "stream",
     "text": [
      "BetterKAN 50\n"
     ]
    },
    {
     "name": "stderr",
     "output_type": "stream",
     "text": [
      "train loss: 3.44e-03 | test loss: 4.01e-03 | reg: 0.00e+00 : 100%|██| 50/50 [00:45<00:00,  1.10it/s]\n"
     ]
    },
    {
     "name": "stdout",
     "output_type": "stream",
     "text": [
      "BetterKAN 50 0.1\n"
     ]
    },
    {
     "name": "stderr",
     "output_type": "stream",
     "text": [
      "train loss: 4.84e-02 | test loss: 7.24e-02 | reg: 0.00e+00 : 100%|██| 50/50 [00:45<00:00,  1.09it/s]\n"
     ]
    },
    {
     "name": "stdout",
     "output_type": "stream",
     "text": [
      "KAN 50\n"
     ]
    },
    {
     "name": "stderr",
     "output_type": "stream",
     "text": [
      "train loss: nan | test loss: nan | reg: nan : 100%|█████████████████| 50/50 [00:58<00:00,  1.17s/it]\n"
     ]
    },
    {
     "name": "stdout",
     "output_type": "stream",
     "text": [
      "base kan test loss 6.39E-03\n",
      "better kan test loss 3.81E-03\n",
      "base kan train loss 5.83E-03\n",
      "better kan train loss 2.78E-03\n",
      "base kan test loss 4.08E-05\n",
      "better kan test loss 1.45E-05\n",
      "base kan train loss 3.40E-05\n",
      "better kan train loss 7.73E-06\n",
      "tensor(-1.4885, device='cuda:0') tensor(1.5351, device='cuda:0')\n",
      "BetterKAN 5\n"
     ]
    },
    {
     "name": "stderr",
     "output_type": "stream",
     "text": [
      "train loss: 9.03e-03 | test loss: 1.13e-02 | reg: 0.00e+00 : 100%|██| 50/50 [00:35<00:00,  1.41it/s]\n"
     ]
    },
    {
     "name": "stdout",
     "output_type": "stream",
     "text": [
      "BetterKAN 5 0.1\n"
     ]
    },
    {
     "name": "stderr",
     "output_type": "stream",
     "text": [
      "train loss: 1.70e-02 | test loss: 1.80e-02 | reg: 0.00e+00 : 100%|██| 50/50 [00:33<00:00,  1.48it/s]\n"
     ]
    },
    {
     "name": "stdout",
     "output_type": "stream",
     "text": [
      "KAN 5\n"
     ]
    },
    {
     "name": "stderr",
     "output_type": "stream",
     "text": [
      "train loss: 2.13e-02 | test loss: 2.26e-02 | reg: 8.96e+00 : 100%|██| 50/50 [00:27<00:00,  1.79it/s]\n"
     ]
    },
    {
     "name": "stdout",
     "output_type": "stream",
     "text": [
      "BetterKAN 10\n"
     ]
    },
    {
     "name": "stderr",
     "output_type": "stream",
     "text": [
      "train loss: 2.22e-02 | test loss: 2.12e-02 | reg: 0.00e+00 : 100%|██| 50/50 [00:35<00:00,  1.41it/s]\n"
     ]
    },
    {
     "name": "stdout",
     "output_type": "stream",
     "text": [
      "BetterKAN 10 0.1\n"
     ]
    },
    {
     "name": "stderr",
     "output_type": "stream",
     "text": [
      "train loss: 1.64e-02 | test loss: 1.75e-02 | reg: 0.00e+00 : 100%|██| 50/50 [00:34<00:00,  1.46it/s]\n"
     ]
    },
    {
     "name": "stdout",
     "output_type": "stream",
     "text": [
      "KAN 10\n"
     ]
    },
    {
     "name": "stderr",
     "output_type": "stream",
     "text": [
      "train loss: 6.14e-03 | test loss: 6.21e-03 | reg: 8.15e+00 : 100%|██| 50/50 [00:36<00:00,  1.36it/s]\n"
     ]
    },
    {
     "name": "stdout",
     "output_type": "stream",
     "text": [
      "BetterKAN 20\n"
     ]
    },
    {
     "name": "stderr",
     "output_type": "stream",
     "text": [
      "train loss: 2.73e-03 | test loss: 4.45e-03 | reg: 0.00e+00 : 100%|██| 50/50 [00:37<00:00,  1.33it/s]\n"
     ]
    },
    {
     "name": "stdout",
     "output_type": "stream",
     "text": [
      "BetterKAN 20 0.1\n"
     ]
    },
    {
     "name": "stderr",
     "output_type": "stream",
     "text": [
      "train loss: 4.86e-03 | test loss: 5.89e-03 | reg: 0.00e+00 : 100%|██| 50/50 [00:45<00:00,  1.10it/s]\n"
     ]
    },
    {
     "name": "stdout",
     "output_type": "stream",
     "text": [
      "KAN 20\n"
     ]
    },
    {
     "name": "stderr",
     "output_type": "stream",
     "text": [
      "train loss: 7.58e-02 | test loss: 9.24e-02 | reg: 5.86e+00 : 100%|██| 50/50 [00:29<00:00,  1.68it/s]\n"
     ]
    },
    {
     "name": "stdout",
     "output_type": "stream",
     "text": [
      "BetterKAN 50\n"
     ]
    },
    {
     "name": "stderr",
     "output_type": "stream",
     "text": [
      "train loss: 4.66e-02 | test loss: 5.98e-02 | reg: 0.00e+00 : 100%|██| 50/50 [00:42<00:00,  1.18it/s]\n"
     ]
    },
    {
     "name": "stdout",
     "output_type": "stream",
     "text": [
      "BetterKAN 50 0.1\n"
     ]
    },
    {
     "name": "stderr",
     "output_type": "stream",
     "text": [
      "train loss: 1.55e-02 | test loss: 5.45e-02 | reg: 0.00e+00 : 100%|██| 50/50 [00:47<00:00,  1.06it/s]\n"
     ]
    },
    {
     "name": "stdout",
     "output_type": "stream",
     "text": [
      "KAN 50\n"
     ]
    },
    {
     "name": "stderr",
     "output_type": "stream",
     "text": [
      "train loss: 9.82e-02 | test loss: 1.38e-01 | reg: 5.20e+00 : 100%|██| 50/50 [00:35<00:00,  1.40it/s]"
     ]
    },
    {
     "name": "stdout",
     "output_type": "stream",
     "text": [
      "base kan test loss 6.21E-03\n",
      "better kan test loss 4.44E-03\n",
      "base kan train loss 6.14E-03\n",
      "better kan train loss 2.73E-03\n",
      "base kan test loss 3.86E-05\n",
      "better kan test loss 1.97E-05\n",
      "base kan train loss 3.76E-05\n",
      "better kan train loss 7.48E-06\n"
     ]
    },
    {
     "name": "stderr",
     "output_type": "stream",
     "text": [
      "\n"
     ]
    }
   ],
   "source": [
    "test(I_26_2,[2,2,2,1,1],input_min=[-1,-torch.pi],input_max=[1,torch.pi])\n",
    "test(I_26_2,[2,2,1],input_min=[-1,-2*torch.pi],input_max=[1,torch.pi])\n",
    "\n"
   ]
  },
  {
   "cell_type": "code",
   "execution_count": 23,
   "metadata": {},
   "outputs": [
    {
     "name": "stdout",
     "output_type": "stream",
     "text": [
      "tensor(0.0103, device='cuda:0') tensor(0.9999, device='cuda:0')\n",
      "BetterKAN 5\n"
     ]
    },
    {
     "name": "stderr",
     "output_type": "stream",
     "text": [
      "train loss: 2.34e-03 | test loss: 2.23e-03 | reg: 0.00e+00 : 100%|██| 50/50 [00:50<00:00,  1.02s/it]\n"
     ]
    },
    {
     "name": "stdout",
     "output_type": "stream",
     "text": [
      "BetterKAN 5 0.1\n"
     ]
    },
    {
     "name": "stderr",
     "output_type": "stream",
     "text": [
      "train loss: 1.43e-03 | test loss: 1.26e-03 | reg: 0.00e+00 : 100%|██| 50/50 [00:51<00:00,  1.02s/it]\n"
     ]
    },
    {
     "name": "stdout",
     "output_type": "stream",
     "text": [
      "KAN 5\n"
     ]
    },
    {
     "name": "stderr",
     "output_type": "stream",
     "text": [
      "train loss: 2.78e-02 | test loss: 2.86e-02 | reg: 6.21e+00 : 100%|██| 50/50 [00:41<00:00,  1.20it/s]\n"
     ]
    },
    {
     "name": "stdout",
     "output_type": "stream",
     "text": [
      "BetterKAN 10\n"
     ]
    },
    {
     "name": "stderr",
     "output_type": "stream",
     "text": [
      "train loss: 1.30e-03 | test loss: 1.60e-03 | reg: 0.00e+00 : 100%|██| 50/50 [00:49<00:00,  1.00it/s]\n"
     ]
    },
    {
     "name": "stdout",
     "output_type": "stream",
     "text": [
      "BetterKAN 10 0.1\n"
     ]
    },
    {
     "name": "stderr",
     "output_type": "stream",
     "text": [
      "train loss: 1.74e-03 | test loss: 2.03e-03 | reg: 0.00e+00 : 100%|██| 50/50 [00:34<00:00,  1.45it/s]\n"
     ]
    },
    {
     "name": "stdout",
     "output_type": "stream",
     "text": [
      "KAN 10\n"
     ]
    },
    {
     "name": "stderr",
     "output_type": "stream",
     "text": [
      "train loss: 1.27e-02 | test loss: 1.27e-02 | reg: 6.17e+00 : 100%|██| 50/50 [00:21<00:00,  2.36it/s]\n"
     ]
    },
    {
     "name": "stdout",
     "output_type": "stream",
     "text": [
      "BetterKAN 20\n"
     ]
    },
    {
     "name": "stderr",
     "output_type": "stream",
     "text": [
      "train loss: 8.93e-03 | test loss: 1.02e-02 | reg: 0.00e+00 : 100%|██| 50/50 [00:41<00:00,  1.20it/s]\n"
     ]
    },
    {
     "name": "stdout",
     "output_type": "stream",
     "text": [
      "BetterKAN 20 0.1\n"
     ]
    },
    {
     "name": "stderr",
     "output_type": "stream",
     "text": [
      "train loss: 1.22e-02 | test loss: 1.35e-02 | reg: 0.00e+00 : 100%|██| 50/50 [00:58<00:00,  1.16s/it]\n"
     ]
    },
    {
     "name": "stdout",
     "output_type": "stream",
     "text": [
      "KAN 20\n"
     ]
    },
    {
     "name": "stderr",
     "output_type": "stream",
     "text": [
      "train loss: nan | test loss: nan | reg: nan : 100%|█████████████████| 50/50 [00:27<00:00,  1.81it/s]\n"
     ]
    },
    {
     "name": "stdout",
     "output_type": "stream",
     "text": [
      "BetterKAN 50\n"
     ]
    },
    {
     "name": "stderr",
     "output_type": "stream",
     "text": [
      "train loss: 1.32e-02 | test loss: 2.30e-02 | reg: 0.00e+00 : 100%|██| 50/50 [00:31<00:00,  1.59it/s]\n"
     ]
    },
    {
     "name": "stdout",
     "output_type": "stream",
     "text": [
      "BetterKAN 50 0.1\n"
     ]
    },
    {
     "name": "stderr",
     "output_type": "stream",
     "text": [
      "train loss: 2.22e-02 | test loss: 2.81e-02 | reg: 0.00e+00 : 100%|██| 50/50 [00:30<00:00,  1.61it/s]\n"
     ]
    },
    {
     "name": "stdout",
     "output_type": "stream",
     "text": [
      "KAN 50\n"
     ]
    },
    {
     "name": "stderr",
     "output_type": "stream",
     "text": [
      "train loss: 1.06e-02 | test loss: 1.92e-02 | reg: 3.65e+00 : 100%|██| 50/50 [00:27<00:00,  1.80it/s]\n"
     ]
    },
    {
     "name": "stdout",
     "output_type": "stream",
     "text": [
      "base kan test loss 1.27E-02\n",
      "better kan test loss 1.23E-03\n",
      "base kan train loss 1.06E-02\n",
      "better kan train loss 1.30E-03\n",
      "base kan test loss 1.61E-04\n",
      "better kan test loss 1.50E-06\n",
      "base kan train loss 1.13E-04\n",
      "better kan train loss 1.68E-06\n",
      "tensor(0.0103, device='cuda:0') tensor(0.9999, device='cuda:0')\n",
      "BetterKAN 5\n"
     ]
    },
    {
     "name": "stderr",
     "output_type": "stream",
     "text": [
      "train loss: 1.59e-03 | test loss: 1.41e-03 | reg: 0.00e+00 : 100%|██| 50/50 [00:39<00:00,  1.26it/s]\n"
     ]
    },
    {
     "name": "stdout",
     "output_type": "stream",
     "text": [
      "BetterKAN 5 0.1\n"
     ]
    },
    {
     "name": "stderr",
     "output_type": "stream",
     "text": [
      "train loss: 2.54e-03 | test loss: 2.52e-03 | reg: 0.00e+00 : 100%|██| 50/50 [00:41<00:00,  1.21it/s]\n"
     ]
    },
    {
     "name": "stdout",
     "output_type": "stream",
     "text": [
      "KAN 5\n"
     ]
    },
    {
     "name": "stderr",
     "output_type": "stream",
     "text": [
      "train loss: 8.13e-03 | test loss: 8.30e-03 | reg: 9.49e+00 : 100%|██| 50/50 [00:41<00:00,  1.22it/s]\n"
     ]
    },
    {
     "name": "stdout",
     "output_type": "stream",
     "text": [
      "BetterKAN 10\n"
     ]
    },
    {
     "name": "stderr",
     "output_type": "stream",
     "text": [
      "train loss: 1.19e-03 | test loss: 1.10e-03 | reg: 0.00e+00 : 100%|██| 50/50 [00:37<00:00,  1.32it/s]\n"
     ]
    },
    {
     "name": "stdout",
     "output_type": "stream",
     "text": [
      "BetterKAN 10 0.1\n"
     ]
    },
    {
     "name": "stderr",
     "output_type": "stream",
     "text": [
      "train loss: 2.41e-03 | test loss: 2.31e-03 | reg: 0.00e+00 : 100%|██| 50/50 [00:36<00:00,  1.37it/s]\n"
     ]
    },
    {
     "name": "stdout",
     "output_type": "stream",
     "text": [
      "KAN 10\n"
     ]
    },
    {
     "name": "stderr",
     "output_type": "stream",
     "text": [
      "train loss: 1.77e-03 | test loss: 2.44e-03 | reg: 1.06e+01 : 100%|██| 50/50 [00:46<00:00,  1.07it/s]\n"
     ]
    },
    {
     "name": "stdout",
     "output_type": "stream",
     "text": [
      "BetterKAN 20\n"
     ]
    },
    {
     "name": "stderr",
     "output_type": "stream",
     "text": [
      "train loss: 9.61e-04 | test loss: 1.05e-03 | reg: 0.00e+00 : 100%|██| 50/50 [01:09<00:00,  1.38s/it]\n"
     ]
    },
    {
     "name": "stdout",
     "output_type": "stream",
     "text": [
      "BetterKAN 20 0.1\n"
     ]
    },
    {
     "name": "stderr",
     "output_type": "stream",
     "text": [
      "train loss: 1.50e-03 | test loss: 1.56e-03 | reg: 0.00e+00 : 100%|██| 50/50 [01:08<00:00,  1.36s/it]\n"
     ]
    },
    {
     "name": "stdout",
     "output_type": "stream",
     "text": [
      "KAN 20\n"
     ]
    },
    {
     "name": "stderr",
     "output_type": "stream",
     "text": [
      "train loss: 1.53e-02 | test loss: 1.81e-02 | reg: 9.97e+00 : 100%|██| 50/50 [01:16<00:00,  1.53s/it]\n"
     ]
    },
    {
     "name": "stdout",
     "output_type": "stream",
     "text": [
      "BetterKAN 50\n"
     ]
    },
    {
     "name": "stderr",
     "output_type": "stream",
     "text": [
      "train loss: 7.63e-04 | test loss: 1.36e-03 | reg: 0.00e+00 : 100%|██| 50/50 [01:11<00:00,  1.43s/it]\n"
     ]
    },
    {
     "name": "stdout",
     "output_type": "stream",
     "text": [
      "BetterKAN 50 0.1\n"
     ]
    },
    {
     "name": "stderr",
     "output_type": "stream",
     "text": [
      "train loss: 9.92e-04 | test loss: 8.85e-04 | reg: 0.00e+00 : 100%|██| 50/50 [01:08<00:00,  1.38s/it]\n"
     ]
    },
    {
     "name": "stdout",
     "output_type": "stream",
     "text": [
      "KAN 50\n"
     ]
    },
    {
     "name": "stderr",
     "output_type": "stream",
     "text": [
      "train loss: nan | test loss: nan | reg: nan : 100%|█████████████████| 50/50 [01:23<00:00,  1.67s/it]"
     ]
    },
    {
     "name": "stdout",
     "output_type": "stream",
     "text": [
      "base kan test loss 2.44E-03\n",
      "better kan test loss 8.85E-04\n",
      "base kan train loss 1.77E-03\n",
      "better kan train loss 7.63E-04\n",
      "base kan test loss 5.95E-06\n",
      "better kan test loss 7.83E-07\n",
      "base kan train loss 3.13E-06\n",
      "better kan train loss 5.81E-07\n"
     ]
    },
    {
     "name": "stderr",
     "output_type": "stream",
     "text": [
      "\n"
     ]
    }
   ],
   "source": [
    "test(I_27_6,[2,2,1],input_min=[0,0],input_max=[10,10])\n",
    "test(I_27_6,[2,2,2,1],input_min=[0,0],input_max=[10,10])\n",
    "# test(I_27_6,[2,2,1],input_min=[0,0],input_max=[1,1])\n",
    "# test(I_27_6,[2,2,2,1],input_min=[0,0],input_max=[1,1])"
   ]
  },
  {
   "cell_type": "code",
   "execution_count": 24,
   "metadata": {},
   "outputs": [
    {
     "name": "stdout",
     "output_type": "stream",
     "text": [
      "tensor(-3.0673, device='cuda:0') tensor(3.1031, device='cuda:0')\n",
      "BetterKAN 5\n"
     ]
    },
    {
     "name": "stderr",
     "output_type": "stream",
     "text": [
      "train loss: 8.33e-03 | test loss: 8.95e-03 | reg: 0.00e+00 : 100%|██| 50/50 [01:33<00:00,  1.87s/it]\n"
     ]
    },
    {
     "name": "stdout",
     "output_type": "stream",
     "text": [
      "BetterKAN 5 0.1\n"
     ]
    },
    {
     "name": "stderr",
     "output_type": "stream",
     "text": [
      "train loss: 1.47e-02 | test loss: 1.55e-02 | reg: 0.00e+00 : 100%|██| 50/50 [01:30<00:00,  1.82s/it]\n"
     ]
    },
    {
     "name": "stdout",
     "output_type": "stream",
     "text": [
      "KAN 5\n"
     ]
    },
    {
     "name": "stderr",
     "output_type": "stream",
     "text": [
      "train loss: 1.02e-02 | test loss: 1.05e-02 | reg: 1.77e+01 : 100%|██| 50/50 [01:39<00:00,  2.00s/it]\n"
     ]
    },
    {
     "name": "stdout",
     "output_type": "stream",
     "text": [
      "BetterKAN 10\n"
     ]
    },
    {
     "name": "stderr",
     "output_type": "stream",
     "text": [
      "train loss: 2.20e-03 | test loss: 2.55e-03 | reg: 0.00e+00 : 100%|██| 50/50 [01:30<00:00,  1.82s/it]\n"
     ]
    },
    {
     "name": "stdout",
     "output_type": "stream",
     "text": [
      "BetterKAN 10 0.1\n"
     ]
    },
    {
     "name": "stderr",
     "output_type": "stream",
     "text": [
      "train loss: 5.24e-03 | test loss: 5.48e-03 | reg: 0.00e+00 : 100%|██| 50/50 [01:30<00:00,  1.81s/it]\n"
     ]
    },
    {
     "name": "stdout",
     "output_type": "stream",
     "text": [
      "KAN 10\n"
     ]
    },
    {
     "name": "stderr",
     "output_type": "stream",
     "text": [
      "train loss: 4.17e-03 | test loss: 4.55e-03 | reg: 1.72e+01 : 100%|██| 50/50 [01:41<00:00,  2.04s/it]\n"
     ]
    },
    {
     "name": "stdout",
     "output_type": "stream",
     "text": [
      "BetterKAN 20\n"
     ]
    },
    {
     "name": "stderr",
     "output_type": "stream",
     "text": [
      "train loss: 1.28e-03 | test loss: 1.36e-03 | reg: 0.00e+00 : 100%|██| 50/50 [01:32<00:00,  1.84s/it]\n"
     ]
    },
    {
     "name": "stdout",
     "output_type": "stream",
     "text": [
      "BetterKAN 20 0.1\n"
     ]
    },
    {
     "name": "stderr",
     "output_type": "stream",
     "text": [
      "train loss: 2.52e-03 | test loss: 2.74e-03 | reg: 0.00e+00 : 100%|██| 50/50 [01:32<00:00,  1.86s/it]\n"
     ]
    },
    {
     "name": "stdout",
     "output_type": "stream",
     "text": [
      "KAN 20\n"
     ]
    },
    {
     "name": "stderr",
     "output_type": "stream",
     "text": [
      "train loss: 3.77e-03 | test loss: 4.36e-03 | reg: 1.74e+01 : 100%|██| 50/50 [01:51<00:00,  2.22s/it]\n"
     ]
    },
    {
     "name": "stdout",
     "output_type": "stream",
     "text": [
      "BetterKAN 50\n"
     ]
    },
    {
     "name": "stderr",
     "output_type": "stream",
     "text": [
      "train loss: 2.83e-03 | test loss: 3.32e-03 | reg: 0.00e+00 : 100%|██| 50/50 [01:34<00:00,  1.88s/it]\n"
     ]
    },
    {
     "name": "stdout",
     "output_type": "stream",
     "text": [
      "BetterKAN 50 0.1\n"
     ]
    },
    {
     "name": "stderr",
     "output_type": "stream",
     "text": [
      "train loss: 1.25e-03 | test loss: 1.32e-03 | reg: 0.00e+00 : 100%|██| 50/50 [01:32<00:00,  1.86s/it]\n"
     ]
    },
    {
     "name": "stdout",
     "output_type": "stream",
     "text": [
      "KAN 50\n"
     ]
    },
    {
     "name": "stderr",
     "output_type": "stream",
     "text": [
      "train loss: 1.57e-02 | test loss: 3.61e-02 | reg: 1.74e+01 : 100%|██| 50/50 [01:40<00:00,  2.02s/it]\n"
     ]
    },
    {
     "name": "stdout",
     "output_type": "stream",
     "text": [
      "base kan test loss 4.36E-03\n",
      "better kan test loss 1.32E-03\n",
      "base kan train loss 3.77E-03\n",
      "better kan train loss 1.25E-03\n",
      "base kan test loss 1.90E-05\n",
      "better kan test loss 1.75E-06\n",
      "base kan train loss 1.42E-05\n",
      "better kan train loss 1.57E-06\n",
      "tensor(-9.5865, device='cuda:0') tensor(9.4197, device='cuda:0')\n",
      "BetterKAN 5\n"
     ]
    },
    {
     "name": "stderr",
     "output_type": "stream",
     "text": [
      "train loss: 3.32e-01 | test loss: 3.25e-01 | reg: 0.00e+00 : 100%|██| 50/50 [01:38<00:00,  1.96s/it]\n"
     ]
    },
    {
     "name": "stdout",
     "output_type": "stream",
     "text": [
      "BetterKAN 5 0.1\n"
     ]
    },
    {
     "name": "stderr",
     "output_type": "stream",
     "text": [
      "train loss: 6.91e-01 | test loss: 7.84e-01 | reg: 0.00e+00 : 100%|██| 50/50 [01:33<00:00,  1.86s/it]\n"
     ]
    },
    {
     "name": "stdout",
     "output_type": "stream",
     "text": [
      "KAN 5\n"
     ]
    },
    {
     "name": "stderr",
     "output_type": "stream",
     "text": [
      "train loss: 6.68e-01 | test loss: 6.85e-01 | reg: 1.97e+01 : 100%|██| 50/50 [02:05<00:00,  2.52s/it]\n"
     ]
    },
    {
     "name": "stdout",
     "output_type": "stream",
     "text": [
      "BetterKAN 10\n"
     ]
    },
    {
     "name": "stderr",
     "output_type": "stream",
     "text": [
      "train loss: 2.96e-01 | test loss: 3.01e-01 | reg: 0.00e+00 : 100%|██| 50/50 [01:31<00:00,  1.82s/it]\n"
     ]
    },
    {
     "name": "stdout",
     "output_type": "stream",
     "text": [
      "BetterKAN 10 0.1\n"
     ]
    },
    {
     "name": "stderr",
     "output_type": "stream",
     "text": [
      "train loss: 6.34e-01 | test loss: 6.90e-01 | reg: 0.00e+00 : 100%|██| 50/50 [01:28<00:00,  1.78s/it]\n"
     ]
    },
    {
     "name": "stdout",
     "output_type": "stream",
     "text": [
      "KAN 10\n"
     ]
    },
    {
     "name": "stderr",
     "output_type": "stream",
     "text": [
      "train loss: 4.98e-01 | test loss: 5.35e-01 | reg: 1.74e+01 : 100%|██| 50/50 [02:01<00:00,  2.42s/it]\n"
     ]
    },
    {
     "name": "stdout",
     "output_type": "stream",
     "text": [
      "BetterKAN 20\n"
     ]
    },
    {
     "name": "stderr",
     "output_type": "stream",
     "text": [
      "train loss: 3.66e-01 | test loss: 5.36e-01 | reg: 0.00e+00 : 100%|██| 50/50 [01:30<00:00,  1.82s/it]\n"
     ]
    },
    {
     "name": "stdout",
     "output_type": "stream",
     "text": [
      "BetterKAN 20 0.1\n"
     ]
    },
    {
     "name": "stderr",
     "output_type": "stream",
     "text": [
      "train loss: 6.51e-01 | test loss: 7.54e-01 | reg: 0.00e+00 : 100%|██| 50/50 [01:29<00:00,  1.78s/it]\n"
     ]
    },
    {
     "name": "stdout",
     "output_type": "stream",
     "text": [
      "KAN 20\n"
     ]
    },
    {
     "name": "stderr",
     "output_type": "stream",
     "text": [
      "train loss: 9.66e-01 | test loss: 1.23e+00 | reg: 1.74e+01 : 100%|██| 50/50 [02:00<00:00,  2.41s/it]\n"
     ]
    },
    {
     "name": "stdout",
     "output_type": "stream",
     "text": [
      "BetterKAN 50\n"
     ]
    },
    {
     "name": "stderr",
     "output_type": "stream",
     "text": [
      "train loss: 4.31e-01 | test loss: 6.21e-01 | reg: 0.00e+00 : 100%|██| 50/50 [01:30<00:00,  1.80s/it]\n"
     ]
    },
    {
     "name": "stdout",
     "output_type": "stream",
     "text": [
      "BetterKAN 50 0.1\n"
     ]
    },
    {
     "name": "stderr",
     "output_type": "stream",
     "text": [
      "train loss: 8.42e-01 | test loss: 9.96e-01 | reg: 0.00e+00 : 100%|██| 50/50 [01:26<00:00,  1.73s/it]\n"
     ]
    },
    {
     "name": "stdout",
     "output_type": "stream",
     "text": [
      "KAN 50\n"
     ]
    },
    {
     "name": "stderr",
     "output_type": "stream",
     "text": [
      "train loss: nan | test loss: nan | reg: nan : 100%|█████████████████| 50/50 [02:04<00:00,  2.49s/it]\n"
     ]
    },
    {
     "name": "stdout",
     "output_type": "stream",
     "text": [
      "base kan test loss 5.35E-01\n",
      "better kan test loss 3.01E-01\n",
      "base kan train loss 4.98E-01\n",
      "better kan train loss 2.96E-01\n",
      "base kan test loss 2.86E-01\n",
      "better kan test loss 9.04E-02\n",
      "base kan train loss 2.48E-01\n",
      "better kan train loss 8.74E-02\n",
      "tensor(-1.0000, device='cuda:0') tensor(1.0000, device='cuda:0')\n",
      "BetterKAN 5\n"
     ]
    },
    {
     "name": "stderr",
     "output_type": "stream",
     "text": [
      "train loss: 8.55e-04 | test loss: 8.89e-04 | reg: 0.00e+00 : 100%|██| 50/50 [01:31<00:00,  1.83s/it]\n"
     ]
    },
    {
     "name": "stdout",
     "output_type": "stream",
     "text": [
      "BetterKAN 5 0.1\n"
     ]
    },
    {
     "name": "stderr",
     "output_type": "stream",
     "text": [
      "train loss: 1.10e-03 | test loss: 1.06e-03 | reg: 0.00e+00 : 100%|██| 50/50 [01:25<00:00,  1.72s/it]\n"
     ]
    },
    {
     "name": "stdout",
     "output_type": "stream",
     "text": [
      "KAN 5\n"
     ]
    },
    {
     "name": "stderr",
     "output_type": "stream",
     "text": [
      "train loss: 4.69e-04 | test loss: 4.68e-04 | reg: 1.73e+01 : 100%|██| 50/50 [01:38<00:00,  1.97s/it]\n"
     ]
    },
    {
     "name": "stdout",
     "output_type": "stream",
     "text": [
      "BetterKAN 10\n"
     ]
    },
    {
     "name": "stderr",
     "output_type": "stream",
     "text": [
      "train loss: 8.61e-04 | test loss: 8.82e-04 | reg: 0.00e+00 : 100%|██| 50/50 [01:29<00:00,  1.79s/it]\n"
     ]
    },
    {
     "name": "stdout",
     "output_type": "stream",
     "text": [
      "BetterKAN 10 0.1\n"
     ]
    },
    {
     "name": "stderr",
     "output_type": "stream",
     "text": [
      "train loss: 7.55e-04 | test loss: 7.62e-04 | reg: 0.00e+00 : 100%|██| 50/50 [01:26<00:00,  1.73s/it]\n"
     ]
    },
    {
     "name": "stdout",
     "output_type": "stream",
     "text": [
      "KAN 10\n"
     ]
    },
    {
     "name": "stderr",
     "output_type": "stream",
     "text": [
      "train loss: 7.65e-04 | test loss: 8.96e-04 | reg: 1.66e+01 : 100%|██| 50/50 [01:35<00:00,  1.91s/it]\n"
     ]
    },
    {
     "name": "stdout",
     "output_type": "stream",
     "text": [
      "BetterKAN 20\n"
     ]
    },
    {
     "name": "stderr",
     "output_type": "stream",
     "text": [
      "train loss: 2.37e-04 | test loss: 2.51e-04 | reg: 0.00e+00 : 100%|██| 50/50 [01:29<00:00,  1.79s/it]\n"
     ]
    },
    {
     "name": "stdout",
     "output_type": "stream",
     "text": [
      "BetterKAN 20 0.1\n"
     ]
    },
    {
     "name": "stderr",
     "output_type": "stream",
     "text": [
      "train loss: 5.04e-04 | test loss: 5.18e-04 | reg: 0.00e+00 : 100%|██| 50/50 [01:26<00:00,  1.74s/it]\n"
     ]
    },
    {
     "name": "stdout",
     "output_type": "stream",
     "text": [
      "KAN 20\n"
     ]
    },
    {
     "name": "stderr",
     "output_type": "stream",
     "text": [
      "train loss: 2.21e-04 | test loss: 2.75e-04 | reg: 1.67e+01 : 100%|██| 50/50 [01:45<00:00,  2.12s/it]\n"
     ]
    },
    {
     "name": "stdout",
     "output_type": "stream",
     "text": [
      "BetterKAN 50\n"
     ]
    },
    {
     "name": "stderr",
     "output_type": "stream",
     "text": [
      "train loss: 1.54e-04 | test loss: 1.63e-04 | reg: 0.00e+00 : 100%|██| 50/50 [01:28<00:00,  1.77s/it]\n"
     ]
    },
    {
     "name": "stdout",
     "output_type": "stream",
     "text": [
      "BetterKAN 50 0.1\n"
     ]
    },
    {
     "name": "stderr",
     "output_type": "stream",
     "text": [
      "train loss: 4.04e-04 | test loss: 4.25e-04 | reg: 0.00e+00 : 100%|██| 50/50 [01:20<00:00,  1.60s/it]\n"
     ]
    },
    {
     "name": "stdout",
     "output_type": "stream",
     "text": [
      "KAN 50\n"
     ]
    },
    {
     "name": "stderr",
     "output_type": "stream",
     "text": [
      "train loss: 3.09e-03 | test loss: 1.99e-02 | reg: 1.72e+01 : 100%|██| 50/50 [01:00<00:00,  1.22s/it]\n"
     ]
    },
    {
     "name": "stdout",
     "output_type": "stream",
     "text": [
      "base kan test loss 2.75E-04\n",
      "better kan test loss 1.63E-04\n",
      "base kan train loss 2.21E-04\n",
      "better kan train loss 1.54E-04\n",
      "base kan test loss 7.59E-08\n",
      "better kan test loss 2.66E-08\n",
      "base kan train loss 4.89E-08\n",
      "better kan train loss 2.37E-08\n",
      "tensor(-1.0000, device='cuda:0') tensor(1.0000, device='cuda:0')\n",
      "BetterKAN 5\n"
     ]
    },
    {
     "name": "stderr",
     "output_type": "stream",
     "text": [
      "train loss: 2.20e-03 | test loss: 2.26e-03 | reg: 0.00e+00 : 100%|██| 50/50 [00:56<00:00,  1.12s/it]\n"
     ]
    },
    {
     "name": "stdout",
     "output_type": "stream",
     "text": [
      "BetterKAN 5 0.1\n"
     ]
    },
    {
     "name": "stderr",
     "output_type": "stream",
     "text": [
      "train loss: 3.42e-03 | test loss: 3.42e-03 | reg: 0.00e+00 : 100%|██| 50/50 [00:48<00:00,  1.04it/s]\n"
     ]
    },
    {
     "name": "stdout",
     "output_type": "stream",
     "text": [
      "KAN 5\n"
     ]
    },
    {
     "name": "stderr",
     "output_type": "stream",
     "text": [
      "train loss: 1.18e-03 | test loss: 1.28e-03 | reg: 1.90e+01 : 100%|██| 50/50 [01:09<00:00,  1.39s/it]\n"
     ]
    },
    {
     "name": "stdout",
     "output_type": "stream",
     "text": [
      "BetterKAN 10\n"
     ]
    },
    {
     "name": "stderr",
     "output_type": "stream",
     "text": [
      "train loss: 1.98e-03 | test loss: 2.14e-03 | reg: 0.00e+00 : 100%|██| 50/50 [00:56<00:00,  1.12s/it]\n"
     ]
    },
    {
     "name": "stdout",
     "output_type": "stream",
     "text": [
      "BetterKAN 10 0.1\n"
     ]
    },
    {
     "name": "stderr",
     "output_type": "stream",
     "text": [
      "train loss: 1.17e-02 | test loss: 1.18e-02 | reg: 0.00e+00 : 100%|██| 50/50 [00:17<00:00,  2.81it/s]\n"
     ]
    },
    {
     "name": "stdout",
     "output_type": "stream",
     "text": [
      "KAN 10\n"
     ]
    },
    {
     "name": "stderr",
     "output_type": "stream",
     "text": [
      "train loss: 8.87e-03 | test loss: 4.30e-02 | reg: 1.66e+01 : 100%|██| 50/50 [01:13<00:00,  1.47s/it]\n"
     ]
    },
    {
     "name": "stdout",
     "output_type": "stream",
     "text": [
      "BetterKAN 20\n"
     ]
    },
    {
     "name": "stderr",
     "output_type": "stream",
     "text": [
      "train loss: 1.39e-03 | test loss: 1.54e-03 | reg: 0.00e+00 : 100%|██| 50/50 [01:05<00:00,  1.31s/it]\n"
     ]
    },
    {
     "name": "stdout",
     "output_type": "stream",
     "text": [
      "BetterKAN 20 0.1\n"
     ]
    },
    {
     "name": "stderr",
     "output_type": "stream",
     "text": [
      "train loss: 9.94e-04 | test loss: 9.52e-04 | reg: 0.00e+00 : 100%|██| 50/50 [00:54<00:00,  1.09s/it]\n"
     ]
    },
    {
     "name": "stdout",
     "output_type": "stream",
     "text": [
      "KAN 20\n"
     ]
    },
    {
     "name": "stderr",
     "output_type": "stream",
     "text": [
      "train loss: 4.54e-02 | test loss: 7.83e-02 | reg: 1.68e+01 : 100%|██| 50/50 [01:08<00:00,  1.37s/it]\n"
     ]
    },
    {
     "name": "stdout",
     "output_type": "stream",
     "text": [
      "BetterKAN 50\n"
     ]
    },
    {
     "name": "stderr",
     "output_type": "stream",
     "text": [
      "train loss: 3.30e-04 | test loss: 3.39e-04 | reg: 0.00e+00 : 100%|██| 50/50 [00:55<00:00,  1.11s/it]\n"
     ]
    },
    {
     "name": "stdout",
     "output_type": "stream",
     "text": [
      "BetterKAN 50 0.1\n"
     ]
    },
    {
     "name": "stderr",
     "output_type": "stream",
     "text": [
      "train loss: 5.84e-04 | test loss: 5.98e-04 | reg: 0.00e+00 : 100%|██| 50/50 [00:52<00:00,  1.05s/it]\n"
     ]
    },
    {
     "name": "stdout",
     "output_type": "stream",
     "text": [
      "KAN 50\n"
     ]
    },
    {
     "name": "stderr",
     "output_type": "stream",
     "text": [
      "train loss: nan | test loss: nan | reg: nan : 100%|█████████████████| 50/50 [01:12<00:00,  1.45s/it]"
     ]
    },
    {
     "name": "stdout",
     "output_type": "stream",
     "text": [
      "base kan test loss 1.28E-03\n",
      "better kan test loss 3.39E-04\n",
      "base kan train loss 1.18E-03\n",
      "better kan train loss 3.30E-04\n",
      "base kan test loss 1.63E-06\n",
      "better kan test loss 1.15E-07\n",
      "base kan train loss 1.39E-06\n",
      "better kan train loss 1.09E-07\n"
     ]
    },
    {
     "name": "stderr",
     "output_type": "stream",
     "text": [
      "\n"
     ]
    }
   ],
   "source": [
    "# test(I_30_3,[2,4,3,1],input_min=[-1,-2*torch.pi],input_max=[10,2*torch.pi])\n",
    "# test(I_30_3,[2,2,3,2,1,1],input_min=[-1,-2*torch.pi],input_max=[10,2*torch.pi])\n",
    "test(I_30_3,[2,4,3,1],input_min=[-torch.pi,-torch.pi+0.001],input_max=[torch.pi,torch.pi-0.001])\n",
    "test(I_30_3,[2,2,3,2,1,1],input_min=[-10,-torch.pi+0.001],input_max=[10,torch.pi-0.001])\n",
    "test(I_30_3,[2,4,3,1],input_min=[-1,-torch.pi+0.001],input_max=[1,torch.pi-0.001])\n",
    "test(I_30_3,[2,2,3,2,1,1],input_min=[-1,-torch.pi+0.001],input_max=[1,torch.pi-0.001])"
   ]
  },
  {
   "cell_type": "code",
   "execution_count": 25,
   "metadata": {},
   "outputs": [
    {
     "name": "stdout",
     "output_type": "stream",
     "text": [
      "tensor(-0.3454, device='cuda:0') tensor(0.3447, device='cuda:0')\n",
      "BetterKAN 5\n"
     ]
    },
    {
     "name": "stderr",
     "output_type": "stream",
     "text": [
      "train loss: 5.04e-02 | test loss: 5.09e-02 | reg: 0.00e+00 : 100%|██| 50/50 [00:18<00:00,  2.73it/s]\n"
     ]
    },
    {
     "name": "stdout",
     "output_type": "stream",
     "text": [
      "BetterKAN 5 0.1\n"
     ]
    },
    {
     "name": "stderr",
     "output_type": "stream",
     "text": [
      "train loss: 5.94e-02 | test loss: 6.01e-02 | reg: 0.00e+00 : 100%|██| 50/50 [00:25<00:00,  1.94it/s]\n"
     ]
    },
    {
     "name": "stdout",
     "output_type": "stream",
     "text": [
      "KAN 5\n"
     ]
    },
    {
     "name": "stderr",
     "output_type": "stream",
     "text": [
      "train loss: 4.64e-02 | test loss: 4.85e-02 | reg: 8.28e-01 : 100%|██| 50/50 [00:22<00:00,  2.23it/s]\n"
     ]
    },
    {
     "name": "stdout",
     "output_type": "stream",
     "text": [
      "BetterKAN 10\n"
     ]
    },
    {
     "name": "stderr",
     "output_type": "stream",
     "text": [
      "train loss: 2.38e-02 | test loss: 2.58e-02 | reg: 0.00e+00 : 100%|██| 50/50 [00:30<00:00,  1.64it/s]\n"
     ]
    },
    {
     "name": "stdout",
     "output_type": "stream",
     "text": [
      "BetterKAN 10 0.1\n"
     ]
    },
    {
     "name": "stderr",
     "output_type": "stream",
     "text": [
      "train loss: 2.76e-02 | test loss: 3.19e-02 | reg: 0.00e+00 : 100%|██| 50/50 [00:29<00:00,  1.68it/s]\n"
     ]
    },
    {
     "name": "stdout",
     "output_type": "stream",
     "text": [
      "KAN 10\n"
     ]
    },
    {
     "name": "stderr",
     "output_type": "stream",
     "text": [
      "train loss: 3.27e-02 | test loss: 3.53e-02 | reg: 1.44e+00 : 100%|██| 50/50 [00:24<00:00,  2.02it/s]\n"
     ]
    },
    {
     "name": "stdout",
     "output_type": "stream",
     "text": [
      "BetterKAN 20\n"
     ]
    },
    {
     "name": "stderr",
     "output_type": "stream",
     "text": [
      "train loss: 3.39e-02 | test loss: 3.85e-02 | reg: 0.00e+00 : 100%|██| 50/50 [00:29<00:00,  1.70it/s]\n"
     ]
    },
    {
     "name": "stdout",
     "output_type": "stream",
     "text": [
      "BetterKAN 20 0.1\n"
     ]
    },
    {
     "name": "stderr",
     "output_type": "stream",
     "text": [
      "train loss: 3.56e-02 | test loss: 3.91e-02 | reg: 0.00e+00 : 100%|██| 50/50 [00:26<00:00,  1.89it/s]\n"
     ]
    },
    {
     "name": "stdout",
     "output_type": "stream",
     "text": [
      "KAN 20\n"
     ]
    },
    {
     "name": "stderr",
     "output_type": "stream",
     "text": [
      "train loss: 3.04e-02 | test loss: 3.37e-02 | reg: 8.24e-01 : 100%|██| 50/50 [00:20<00:00,  2.44it/s]\n"
     ]
    },
    {
     "name": "stdout",
     "output_type": "stream",
     "text": [
      "BetterKAN 50\n"
     ]
    },
    {
     "name": "stderr",
     "output_type": "stream",
     "text": [
      "train loss: 2.63e-02 | test loss: 3.44e-02 | reg: 0.00e+00 : 100%|██| 50/50 [00:31<00:00,  1.59it/s]\n"
     ]
    },
    {
     "name": "stdout",
     "output_type": "stream",
     "text": [
      "BetterKAN 50 0.1\n"
     ]
    },
    {
     "name": "stderr",
     "output_type": "stream",
     "text": [
      "train loss: 2.88e-02 | test loss: 3.36e-02 | reg: 0.00e+00 : 100%|██| 50/50 [00:30<00:00,  1.65it/s]\n"
     ]
    },
    {
     "name": "stdout",
     "output_type": "stream",
     "text": [
      "KAN 50\n"
     ]
    },
    {
     "name": "stderr",
     "output_type": "stream",
     "text": [
      "train loss: 1.99e-02 | test loss: 2.92e-02 | reg: 9.62e-01 : 100%|██| 50/50 [00:24<00:00,  2.03it/s]\n"
     ]
    },
    {
     "name": "stdout",
     "output_type": "stream",
     "text": [
      "base kan test loss 2.80E-02\n",
      "better kan test loss 2.58E-02\n",
      "base kan train loss 1.98E-02\n",
      "better kan train loss 2.38E-02\n",
      "base kan test loss 7.84E-04\n",
      "better kan test loss 6.67E-04\n",
      "base kan train loss 3.94E-04\n",
      "better kan train loss 5.68E-04\n",
      "tensor(-0.3454, device='cuda:0') tensor(0.3447, device='cuda:0')\n",
      "BetterKAN 5\n"
     ]
    },
    {
     "name": "stderr",
     "output_type": "stream",
     "text": [
      "train loss: 3.75e-03 | test loss: 3.81e-03 | reg: 0.00e+00 : 100%|██| 50/50 [00:43<00:00,  1.16it/s]\n"
     ]
    },
    {
     "name": "stdout",
     "output_type": "stream",
     "text": [
      "BetterKAN 5 0.1\n"
     ]
    },
    {
     "name": "stderr",
     "output_type": "stream",
     "text": [
      "train loss: 4.84e-03 | test loss: 4.91e-03 | reg: 0.00e+00 : 100%|██| 50/50 [00:44<00:00,  1.12it/s]\n"
     ]
    },
    {
     "name": "stdout",
     "output_type": "stream",
     "text": [
      "KAN 5\n"
     ]
    },
    {
     "name": "stderr",
     "output_type": "stream",
     "text": [
      "train loss: 6.96e-03 | test loss: 7.11e-03 | reg: 1.25e+01 : 100%|██| 50/50 [00:42<00:00,  1.18it/s]\n"
     ]
    },
    {
     "name": "stdout",
     "output_type": "stream",
     "text": [
      "BetterKAN 10\n"
     ]
    },
    {
     "name": "stderr",
     "output_type": "stream",
     "text": [
      "train loss: 1.59e-03 | test loss: 1.59e-03 | reg: 0.00e+00 : 100%|██| 50/50 [00:43<00:00,  1.15it/s]\n"
     ]
    },
    {
     "name": "stdout",
     "output_type": "stream",
     "text": [
      "BetterKAN 10 0.1\n"
     ]
    },
    {
     "name": "stderr",
     "output_type": "stream",
     "text": [
      "train loss: 1.39e-03 | test loss: 1.41e-03 | reg: 0.00e+00 : 100%|██| 50/50 [00:40<00:00,  1.23it/s]\n"
     ]
    },
    {
     "name": "stdout",
     "output_type": "stream",
     "text": [
      "KAN 10\n"
     ]
    },
    {
     "name": "stderr",
     "output_type": "stream",
     "text": [
      "train loss: 1.95e-03 | test loss: 2.08e-03 | reg: 1.31e+01 : 100%|██| 50/50 [00:43<00:00,  1.15it/s]\n"
     ]
    },
    {
     "name": "stdout",
     "output_type": "stream",
     "text": [
      "BetterKAN 20\n"
     ]
    },
    {
     "name": "stderr",
     "output_type": "stream",
     "text": [
      "train loss: 1.22e-03 | test loss: 1.17e-03 | reg: 0.00e+00 : 100%|██| 50/50 [00:43<00:00,  1.15it/s]\n"
     ]
    },
    {
     "name": "stdout",
     "output_type": "stream",
     "text": [
      "BetterKAN 20 0.1\n"
     ]
    },
    {
     "name": "stderr",
     "output_type": "stream",
     "text": [
      "train loss: 1.84e-03 | test loss: 1.94e-03 | reg: 0.00e+00 : 100%|██| 50/50 [00:39<00:00,  1.26it/s]\n"
     ]
    },
    {
     "name": "stdout",
     "output_type": "stream",
     "text": [
      "KAN 20\n"
     ]
    },
    {
     "name": "stderr",
     "output_type": "stream",
     "text": [
      "train loss: 1.10e-03 | test loss: 1.22e-03 | reg: 1.14e+01 : 100%|██| 50/50 [00:44<00:00,  1.12it/s]\n"
     ]
    },
    {
     "name": "stdout",
     "output_type": "stream",
     "text": [
      "BetterKAN 50\n"
     ]
    },
    {
     "name": "stderr",
     "output_type": "stream",
     "text": [
      "train loss: 6.35e-04 | test loss: 6.45e-04 | reg: 0.00e+00 : 100%|██| 50/50 [00:46<00:00,  1.07it/s]\n"
     ]
    },
    {
     "name": "stdout",
     "output_type": "stream",
     "text": [
      "BetterKAN 50 0.1\n"
     ]
    },
    {
     "name": "stderr",
     "output_type": "stream",
     "text": [
      "train loss: 1.12e-03 | test loss: 1.14e-03 | reg: 0.00e+00 : 100%|██| 50/50 [00:34<00:00,  1.45it/s]\n"
     ]
    },
    {
     "name": "stdout",
     "output_type": "stream",
     "text": [
      "KAN 50\n"
     ]
    },
    {
     "name": "stderr",
     "output_type": "stream",
     "text": [
      "train loss: 1.11e-03 | test loss: 1.46e-03 | reg: 1.21e+01 : 100%|██| 50/50 [00:35<00:00,  1.39it/s]"
     ]
    },
    {
     "name": "stdout",
     "output_type": "stream",
     "text": [
      "base kan test loss 1.22E-03\n",
      "better kan test loss 6.45E-04\n",
      "base kan train loss 1.10E-03\n",
      "better kan train loss 6.35E-04\n",
      "base kan test loss 1.49E-06\n",
      "better kan test loss 4.16E-07\n",
      "base kan train loss 1.21E-06\n",
      "better kan train loss 4.03E-07\n"
     ]
    },
    {
     "name": "stderr",
     "output_type": "stream",
     "text": [
      "\n"
     ]
    }
   ],
   "source": [
    "test(sph_harm11,[2,1,1],input_min=[0,0],input_max=[torch.pi,2*torch.pi])\n",
    "test(sph_harm11,[2,3,2,1],input_min=[0,0],input_max=[torch.pi,2*torch.pi])"
   ]
  },
  {
   "cell_type": "code",
   "execution_count": 26,
   "metadata": {},
   "outputs": [
    {
     "name": "stdout",
     "output_type": "stream",
     "text": [
      "tensor(-1.3649, device='cuda:0') tensor(1.3425, device='cuda:0')\n",
      "BetterKAN 5\n"
     ]
    },
    {
     "name": "stderr",
     "output_type": "stream",
     "text": [
      "train loss: 5.89e-02 | test loss: 6.70e-02 | reg: 0.00e+00 : 100%|██| 50/50 [00:24<00:00,  2.01it/s]\n"
     ]
    },
    {
     "name": "stdout",
     "output_type": "stream",
     "text": [
      "BetterKAN 5 0.1\n"
     ]
    },
    {
     "name": "stderr",
     "output_type": "stream",
     "text": [
      "train loss: 8.44e-02 | test loss: 8.73e-02 | reg: 0.00e+00 : 100%|██| 50/50 [00:19<00:00,  2.57it/s]\n"
     ]
    },
    {
     "name": "stdout",
     "output_type": "stream",
     "text": [
      "KAN 5\n"
     ]
    },
    {
     "name": "stderr",
     "output_type": "stream",
     "text": [
      "train loss: 7.93e-02 | test loss: 7.94e-02 | reg: 2.14e+00 : 100%|██| 50/50 [00:18<00:00,  2.76it/s]\n"
     ]
    },
    {
     "name": "stdout",
     "output_type": "stream",
     "text": [
      "BetterKAN 10\n"
     ]
    },
    {
     "name": "stderr",
     "output_type": "stream",
     "text": [
      "train loss: 4.55e-02 | test loss: 5.95e-02 | reg: 0.00e+00 : 100%|██| 50/50 [00:24<00:00,  2.05it/s]\n"
     ]
    },
    {
     "name": "stdout",
     "output_type": "stream",
     "text": [
      "BetterKAN 10 0.1\n"
     ]
    },
    {
     "name": "stderr",
     "output_type": "stream",
     "text": [
      "train loss: 4.81e-02 | test loss: 6.11e-02 | reg: 0.00e+00 : 100%|██| 50/50 [00:23<00:00,  2.12it/s]\n"
     ]
    },
    {
     "name": "stdout",
     "output_type": "stream",
     "text": [
      "KAN 10\n"
     ]
    },
    {
     "name": "stderr",
     "output_type": "stream",
     "text": [
      "train loss: 6.65e-02 | test loss: 6.95e-02 | reg: 1.66e+00 : 100%|██| 50/50 [00:17<00:00,  2.80it/s]\n"
     ]
    },
    {
     "name": "stdout",
     "output_type": "stream",
     "text": [
      "BetterKAN 20\n"
     ]
    },
    {
     "name": "stderr",
     "output_type": "stream",
     "text": [
      "train loss: 3.78e-02 | test loss: 5.38e-02 | reg: 0.00e+00 : 100%|██| 50/50 [00:24<00:00,  2.04it/s]\n"
     ]
    },
    {
     "name": "stdout",
     "output_type": "stream",
     "text": [
      "BetterKAN 20 0.1\n"
     ]
    },
    {
     "name": "stderr",
     "output_type": "stream",
     "text": [
      "train loss: 1.94e-02 | test loss: 6.07e-02 | reg: 0.00e+00 : 100%|██| 50/50 [00:24<00:00,  2.07it/s]\n"
     ]
    },
    {
     "name": "stdout",
     "output_type": "stream",
     "text": [
      "KAN 20\n"
     ]
    },
    {
     "name": "stderr",
     "output_type": "stream",
     "text": [
      "train loss: 4.54e-02 | test loss: 5.45e-02 | reg: 1.61e+00 : 100%|██| 50/50 [00:18<00:00,  2.74it/s]\n"
     ]
    },
    {
     "name": "stdout",
     "output_type": "stream",
     "text": [
      "BetterKAN 50\n"
     ]
    },
    {
     "name": "stderr",
     "output_type": "stream",
     "text": [
      "train loss: 7.78e-02 | test loss: 8.59e-02 | reg: 0.00e+00 : 100%|██| 50/50 [00:24<00:00,  2.03it/s]\n"
     ]
    },
    {
     "name": "stdout",
     "output_type": "stream",
     "text": [
      "BetterKAN 50 0.1\n"
     ]
    },
    {
     "name": "stderr",
     "output_type": "stream",
     "text": [
      "train loss: 8.95e-02 | test loss: 9.12e-02 | reg: 0.00e+00 : 100%|██| 50/50 [00:24<00:00,  2.07it/s]\n"
     ]
    },
    {
     "name": "stdout",
     "output_type": "stream",
     "text": [
      "KAN 50\n"
     ]
    },
    {
     "name": "stderr",
     "output_type": "stream",
     "text": [
      "train loss: 5.01e-02 | test loss: 7.16e-02 | reg: 6.93e-01 : 100%|██| 50/50 [00:18<00:00,  2.71it/s]\n"
     ]
    },
    {
     "name": "stdout",
     "output_type": "stream",
     "text": [
      "base kan test loss 5.23E-02\n",
      "better kan test loss 5.27E-02\n",
      "base kan train loss 4.54E-02\n",
      "better kan train loss 1.94E-02\n",
      "base kan test loss 2.73E-03\n",
      "better kan test loss 2.78E-03\n",
      "base kan train loss 2.06E-03\n",
      "better kan train loss 3.78E-04\n",
      "tensor(-1.3649, device='cuda:0') tensor(1.3425, device='cuda:0')\n",
      "BetterKAN 5\n"
     ]
    },
    {
     "name": "stderr",
     "output_type": "stream",
     "text": [
      "train loss: 5.96e-02 | test loss: 6.84e-02 | reg: 0.00e+00 : 100%|██| 50/50 [00:30<00:00,  1.62it/s]\n"
     ]
    },
    {
     "name": "stdout",
     "output_type": "stream",
     "text": [
      "BetterKAN 5 0.1\n"
     ]
    },
    {
     "name": "stderr",
     "output_type": "stream",
     "text": [
      "train loss: 9.74e-02 | test loss: 9.81e-02 | reg: 0.00e+00 : 100%|██| 50/50 [00:06<00:00,  7.57it/s]\n"
     ]
    },
    {
     "name": "stdout",
     "output_type": "stream",
     "text": [
      "KAN 5\n"
     ]
    },
    {
     "name": "stderr",
     "output_type": "stream",
     "text": [
      "train loss: 6.87e-02 | test loss: 7.41e-02 | reg: 2.39e+00 : 100%|██| 50/50 [00:39<00:00,  1.26it/s]\n"
     ]
    },
    {
     "name": "stdout",
     "output_type": "stream",
     "text": [
      "BetterKAN 10\n"
     ]
    },
    {
     "name": "stderr",
     "output_type": "stream",
     "text": [
      "train loss: 5.68e-02 | test loss: 6.39e-02 | reg: 0.00e+00 : 100%|██| 50/50 [00:32<00:00,  1.54it/s]\n"
     ]
    },
    {
     "name": "stdout",
     "output_type": "stream",
     "text": [
      "BetterKAN 10 0.1\n"
     ]
    },
    {
     "name": "stderr",
     "output_type": "stream",
     "text": [
      "train loss: 6.41e-02 | test loss: 6.93e-02 | reg: 0.00e+00 : 100%|██| 50/50 [00:21<00:00,  2.28it/s]\n"
     ]
    },
    {
     "name": "stdout",
     "output_type": "stream",
     "text": [
      "KAN 10\n"
     ]
    },
    {
     "name": "stderr",
     "output_type": "stream",
     "text": [
      "train loss: 6.17e-02 | test loss: 7.17e-02 | reg: 4.97e+00 : 100%|██| 50/50 [00:39<00:00,  1.28it/s]\n"
     ]
    },
    {
     "name": "stdout",
     "output_type": "stream",
     "text": [
      "BetterKAN 20\n"
     ]
    },
    {
     "name": "stderr",
     "output_type": "stream",
     "text": [
      "train loss: 9.32e-02 | test loss: 9.63e-02 | reg: 0.00e+00 : 100%|██| 50/50 [00:32<00:00,  1.54it/s]\n"
     ]
    },
    {
     "name": "stdout",
     "output_type": "stream",
     "text": [
      "BetterKAN 20 0.1\n"
     ]
    },
    {
     "name": "stderr",
     "output_type": "stream",
     "text": [
      "train loss: 9.18e-02 | test loss: 9.65e-02 | reg: 0.00e+00 : 100%|██| 50/50 [00:17<00:00,  2.81it/s]\n"
     ]
    },
    {
     "name": "stdout",
     "output_type": "stream",
     "text": [
      "KAN 20\n"
     ]
    },
    {
     "name": "stderr",
     "output_type": "stream",
     "text": [
      "train loss: nan | test loss: nan | reg: nan : 100%|█████████████████| 50/50 [00:41<00:00,  1.20it/s]\n"
     ]
    },
    {
     "name": "stdout",
     "output_type": "stream",
     "text": [
      "BetterKAN 50\n"
     ]
    },
    {
     "name": "stderr",
     "output_type": "stream",
     "text": [
      "train loss: 7.02e-02 | test loss: 1.44e-01 | reg: 0.00e+00 : 100%|██| 50/50 [00:32<00:00,  1.56it/s]\n"
     ]
    },
    {
     "name": "stdout",
     "output_type": "stream",
     "text": [
      "BetterKAN 50 0.1\n"
     ]
    },
    {
     "name": "stderr",
     "output_type": "stream",
     "text": [
      "train loss: 1.02e-01 | test loss: 1.24e-01 | reg: 0.00e+00 : 100%|██| 50/50 [00:31<00:00,  1.58it/s]\n"
     ]
    },
    {
     "name": "stdout",
     "output_type": "stream",
     "text": [
      "KAN 50\n"
     ]
    },
    {
     "name": "stderr",
     "output_type": "stream",
     "text": [
      "train loss: nan | test loss: nan | reg: nan : 100%|█████████████████| 50/50 [00:43<00:00,  1.14it/s]"
     ]
    },
    {
     "name": "stdout",
     "output_type": "stream",
     "text": [
      "base kan test loss 7.02E-02\n",
      "better kan test loss 6.38E-02\n",
      "base kan train loss 6.17E-02\n",
      "better kan train loss 5.68E-02\n",
      "base kan test loss 4.93E-03\n",
      "better kan test loss 4.07E-03\n",
      "base kan train loss 3.81E-03\n",
      "better kan train loss 3.23E-03\n"
     ]
    },
    {
     "name": "stderr",
     "output_type": "stream",
     "text": [
      "\n"
     ]
    }
   ],
   "source": [
    "test(I_30_5, [2,1,1],input_min=[-1,1],input_max=[1,10])\n",
    "test(I_30_5,  [2,1,1,1,1,1],input_min=[-1,1],input_max=[1,10])"
   ]
  },
  {
   "cell_type": "code",
   "execution_count": 45,
   "metadata": {},
   "outputs": [
    {
     "name": "stdout",
     "output_type": "stream",
     "text": [
      "tensor(-0.9967, device='cuda:0') tensor(2.9824, device='cuda:0')\n",
      "BetterKAN 5\n"
     ]
    },
    {
     "name": "stderr",
     "output_type": "stream",
     "text": [
      "train loss: 7.26e-04 | test loss: 7.27e-04 | reg: 0.00e+00 : 100%|██| 50/50 [00:44<00:00,  1.12it/s]\n"
     ]
    },
    {
     "name": "stdout",
     "output_type": "stream",
     "text": [
      "BetterKAN 5 0.1\n"
     ]
    },
    {
     "name": "stderr",
     "output_type": "stream",
     "text": [
      "train loss: 1.06e-03 | test loss: 1.06e-03 | reg: 0.00e+00 : 100%|██| 50/50 [00:42<00:00,  1.17it/s]\n"
     ]
    },
    {
     "name": "stdout",
     "output_type": "stream",
     "text": [
      "KAN 5\n"
     ]
    },
    {
     "name": "stderr",
     "output_type": "stream",
     "text": [
      "train loss: 2.45e-03 | test loss: 2.74e-03 | reg: 1.37e+01 : 100%|██| 50/50 [00:36<00:00,  1.37it/s]\n"
     ]
    },
    {
     "name": "stdout",
     "output_type": "stream",
     "text": [
      "BetterKAN 10\n"
     ]
    },
    {
     "name": "stderr",
     "output_type": "stream",
     "text": [
      "train loss: 4.73e-04 | test loss: 4.76e-04 | reg: 0.00e+00 : 100%|██| 50/50 [00:39<00:00,  1.26it/s]\n"
     ]
    },
    {
     "name": "stdout",
     "output_type": "stream",
     "text": [
      "BetterKAN 10 0.1\n"
     ]
    },
    {
     "name": "stderr",
     "output_type": "stream",
     "text": [
      "train loss: 1.36e-03 | test loss: 1.39e-03 | reg: 0.00e+00 : 100%|██| 50/50 [00:36<00:00,  1.38it/s]\n"
     ]
    },
    {
     "name": "stdout",
     "output_type": "stream",
     "text": [
      "KAN 10\n"
     ]
    },
    {
     "name": "stderr",
     "output_type": "stream",
     "text": [
      "train loss: 9.43e-04 | test loss: 1.01e-03 | reg: 1.40e+01 : 100%|██| 50/50 [00:37<00:00,  1.33it/s]\n"
     ]
    },
    {
     "name": "stdout",
     "output_type": "stream",
     "text": [
      "BetterKAN 20\n"
     ]
    },
    {
     "name": "stderr",
     "output_type": "stream",
     "text": [
      "train loss: 4.53e-04 | test loss: 4.73e-04 | reg: 0.00e+00 : 100%|██| 50/50 [00:39<00:00,  1.27it/s]\n"
     ]
    },
    {
     "name": "stdout",
     "output_type": "stream",
     "text": [
      "BetterKAN 20 0.1\n"
     ]
    },
    {
     "name": "stderr",
     "output_type": "stream",
     "text": [
      "train loss: 7.17e-04 | test loss: 7.44e-04 | reg: 0.00e+00 : 100%|██| 50/50 [00:41<00:00,  1.20it/s]\n"
     ]
    },
    {
     "name": "stdout",
     "output_type": "stream",
     "text": [
      "KAN 20\n"
     ]
    },
    {
     "name": "stderr",
     "output_type": "stream",
     "text": [
      "train loss: 1.18e-03 | test loss: 1.31e-03 | reg: 1.54e+01 : 100%|██| 50/50 [00:40<00:00,  1.23it/s]\n"
     ]
    },
    {
     "name": "stdout",
     "output_type": "stream",
     "text": [
      "BetterKAN 50\n"
     ]
    },
    {
     "name": "stderr",
     "output_type": "stream",
     "text": [
      "train loss: 2.13e-04 | test loss: 2.13e-04 | reg: 0.00e+00 : 100%|██| 50/50 [00:41<00:00,  1.22it/s]\n"
     ]
    },
    {
     "name": "stdout",
     "output_type": "stream",
     "text": [
      "BetterKAN 50 0.1\n"
     ]
    },
    {
     "name": "stderr",
     "output_type": "stream",
     "text": [
      "train loss: 4.16e-04 | test loss: 4.18e-04 | reg: 0.00e+00 : 100%|██| 50/50 [00:40<00:00,  1.23it/s]\n"
     ]
    },
    {
     "name": "stdout",
     "output_type": "stream",
     "text": [
      "KAN 50\n"
     ]
    },
    {
     "name": "stderr",
     "output_type": "stream",
     "text": [
      "train loss: 4.78e-02 | test loss: 1.34e-01 | reg: 1.32e+01 : 100%|██| 50/50 [00:41<00:00,  1.20it/s]\n"
     ]
    },
    {
     "name": "stdout",
     "output_type": "stream",
     "text": [
      "base kan test loss 1.01E-03\n",
      "better kan test loss 2.13E-04\n",
      "base kan train loss 9.43E-04\n",
      "better kan train loss 2.13E-04\n",
      "base kan test loss 1.03E-06\n",
      "better kan test loss 4.52E-08\n",
      "base kan train loss 8.90E-07\n",
      "better kan train loss 4.53E-08\n",
      "tensor(-0.9967, device='cuda:0') tensor(2.9824, device='cuda:0')\n",
      "BetterKAN 5\n"
     ]
    },
    {
     "name": "stderr",
     "output_type": "stream",
     "text": [
      "train loss: 9.06e-04 | test loss: 9.20e-04 | reg: 0.00e+00 : 100%|██| 50/50 [00:26<00:00,  1.86it/s]\n"
     ]
    },
    {
     "name": "stdout",
     "output_type": "stream",
     "text": [
      "BetterKAN 5 0.1\n"
     ]
    },
    {
     "name": "stderr",
     "output_type": "stream",
     "text": [
      "train loss: 1.37e-03 | test loss: 1.39e-03 | reg: 0.00e+00 : 100%|██| 50/50 [00:30<00:00,  1.64it/s]\n"
     ]
    },
    {
     "name": "stdout",
     "output_type": "stream",
     "text": [
      "KAN 5\n"
     ]
    },
    {
     "name": "stderr",
     "output_type": "stream",
     "text": [
      "train loss: 3.30e-03 | test loss: 3.37e-03 | reg: 7.13e+00 : 100%|██| 50/50 [00:23<00:00,  2.12it/s]\n"
     ]
    },
    {
     "name": "stdout",
     "output_type": "stream",
     "text": [
      "BetterKAN 10\n"
     ]
    },
    {
     "name": "stderr",
     "output_type": "stream",
     "text": [
      "train loss: 3.68e-04 | test loss: 3.78e-04 | reg: 0.00e+00 : 100%|██| 50/50 [00:30<00:00,  1.62it/s]\n"
     ]
    },
    {
     "name": "stdout",
     "output_type": "stream",
     "text": [
      "BetterKAN 10 0.1\n"
     ]
    },
    {
     "name": "stderr",
     "output_type": "stream",
     "text": [
      "train loss: 6.19e-04 | test loss: 6.17e-04 | reg: 0.00e+00 : 100%|██| 50/50 [00:29<00:00,  1.68it/s]\n"
     ]
    },
    {
     "name": "stdout",
     "output_type": "stream",
     "text": [
      "KAN 10\n"
     ]
    },
    {
     "name": "stderr",
     "output_type": "stream",
     "text": [
      "train loss: 7.53e-03 | test loss: 7.85e-03 | reg: 7.58e+00 : 100%|██| 50/50 [00:23<00:00,  2.11it/s]\n"
     ]
    },
    {
     "name": "stdout",
     "output_type": "stream",
     "text": [
      "BetterKAN 20\n"
     ]
    },
    {
     "name": "stderr",
     "output_type": "stream",
     "text": [
      "train loss: 6.48e-04 | test loss: 6.71e-04 | reg: 0.00e+00 : 100%|██| 50/50 [00:30<00:00,  1.64it/s]\n"
     ]
    },
    {
     "name": "stdout",
     "output_type": "stream",
     "text": [
      "BetterKAN 20 0.1\n"
     ]
    },
    {
     "name": "stderr",
     "output_type": "stream",
     "text": [
      "train loss: 4.02e-04 | test loss: 4.14e-04 | reg: 0.00e+00 : 100%|██| 50/50 [00:30<00:00,  1.67it/s]\n"
     ]
    },
    {
     "name": "stdout",
     "output_type": "stream",
     "text": [
      "KAN 20\n"
     ]
    },
    {
     "name": "stderr",
     "output_type": "stream",
     "text": [
      "train loss: 8.68e-02 | test loss: 9.69e-02 | reg: 6.26e+00 : 100%|██| 50/50 [00:25<00:00,  1.95it/s]\n"
     ]
    },
    {
     "name": "stdout",
     "output_type": "stream",
     "text": [
      "BetterKAN 50\n"
     ]
    },
    {
     "name": "stderr",
     "output_type": "stream",
     "text": [
      "train loss: 1.99e-04 | test loss: 2.21e-04 | reg: 0.00e+00 : 100%|██| 50/50 [00:31<00:00,  1.60it/s]\n"
     ]
    },
    {
     "name": "stdout",
     "output_type": "stream",
     "text": [
      "BetterKAN 50 0.1\n"
     ]
    },
    {
     "name": "stderr",
     "output_type": "stream",
     "text": [
      "train loss: 3.64e-04 | test loss: 3.66e-04 | reg: 0.00e+00 : 100%|██| 50/50 [00:31<00:00,  1.61it/s]\n"
     ]
    },
    {
     "name": "stdout",
     "output_type": "stream",
     "text": [
      "KAN 50\n"
     ]
    },
    {
     "name": "stderr",
     "output_type": "stream",
     "text": [
      "train loss: nan | test loss: nan | reg: nan : 100%|█████████████████| 50/50 [00:25<00:00,  1.99it/s]"
     ]
    },
    {
     "name": "stdout",
     "output_type": "stream",
     "text": [
      "base kan test loss 3.37E-03\n",
      "better kan test loss 2.21E-04\n",
      "base kan train loss 3.27E-03\n",
      "better kan train loss 1.99E-04\n",
      "base kan test loss 1.14E-05\n",
      "better kan test loss 4.90E-08\n",
      "base kan train loss 1.07E-05\n",
      "better kan train loss 3.94E-08\n"
     ]
    },
    {
     "name": "stderr",
     "output_type": "stream",
     "text": [
      "\n"
     ]
    }
   ],
   "source": [
    "test(I_37_4, [2,3,2,1],input_min=[0,-torch.pi],input_max=[1,torch.pi])\n",
    "test(I_37_4,  [2,2,1],input_min=[0,-torch.pi],input_max=[1,torch.pi])\n"
   ]
  },
  {
   "cell_type": "code",
   "execution_count": 46,
   "metadata": {},
   "outputs": [
    {
     "name": "stdout",
     "output_type": "stream",
     "text": [
      "tensor(-0.9965, device='cuda:0') tensor(0.9939, device='cuda:0')\n",
      "BetterKAN 5\n"
     ]
    },
    {
     "name": "stderr",
     "output_type": "stream",
     "text": [
      "train loss: 9.92e-05 | test loss: 9.65e-05 | reg: 0.00e+00 : 100%|██| 50/50 [00:31<00:00,  1.59it/s]\n"
     ]
    },
    {
     "name": "stdout",
     "output_type": "stream",
     "text": [
      "BetterKAN 5 0.1\n"
     ]
    },
    {
     "name": "stderr",
     "output_type": "stream",
     "text": [
      "train loss: 2.18e-04 | test loss: 2.17e-04 | reg: 0.00e+00 : 100%|██| 50/50 [00:30<00:00,  1.67it/s]\n"
     ]
    },
    {
     "name": "stdout",
     "output_type": "stream",
     "text": [
      "KAN 5\n"
     ]
    },
    {
     "name": "stderr",
     "output_type": "stream",
     "text": [
      "train loss: 1.76e-04 | test loss: 1.86e-04 | reg: 6.36e+00 : 100%|██| 50/50 [00:23<00:00,  2.15it/s]\n"
     ]
    },
    {
     "name": "stdout",
     "output_type": "stream",
     "text": [
      "BetterKAN 10\n"
     ]
    },
    {
     "name": "stderr",
     "output_type": "stream",
     "text": [
      "train loss: 4.17e-05 | test loss: 4.14e-05 | reg: 0.00e+00 : 100%|██| 50/50 [00:31<00:00,  1.61it/s]\n"
     ]
    },
    {
     "name": "stdout",
     "output_type": "stream",
     "text": [
      "BetterKAN 10 0.1\n"
     ]
    },
    {
     "name": "stderr",
     "output_type": "stream",
     "text": [
      "train loss: 1.30e-04 | test loss: 1.30e-04 | reg: 0.00e+00 : 100%|██| 50/50 [00:30<00:00,  1.66it/s]\n"
     ]
    },
    {
     "name": "stdout",
     "output_type": "stream",
     "text": [
      "KAN 10\n"
     ]
    },
    {
     "name": "stderr",
     "output_type": "stream",
     "text": [
      "train loss: 1.53e-04 | test loss: 1.65e-04 | reg: 6.85e+00 : 100%|██| 50/50 [00:24<00:00,  2.07it/s]\n"
     ]
    },
    {
     "name": "stdout",
     "output_type": "stream",
     "text": [
      "BetterKAN 20\n"
     ]
    },
    {
     "name": "stderr",
     "output_type": "stream",
     "text": [
      "train loss: 1.00e-04 | test loss: 9.80e-05 | reg: 0.00e+00 : 100%|██| 50/50 [00:30<00:00,  1.62it/s]\n"
     ]
    },
    {
     "name": "stdout",
     "output_type": "stream",
     "text": [
      "BetterKAN 20 0.1\n"
     ]
    },
    {
     "name": "stderr",
     "output_type": "stream",
     "text": [
      "train loss: 1.30e-04 | test loss: 1.34e-04 | reg: 0.00e+00 : 100%|██| 50/50 [00:30<00:00,  1.66it/s]\n"
     ]
    },
    {
     "name": "stdout",
     "output_type": "stream",
     "text": [
      "KAN 20\n"
     ]
    },
    {
     "name": "stderr",
     "output_type": "stream",
     "text": [
      "train loss: 2.32e-04 | test loss: 2.50e-04 | reg: 6.45e+00 : 100%|██| 50/50 [00:24<00:00,  2.06it/s]\n"
     ]
    },
    {
     "name": "stdout",
     "output_type": "stream",
     "text": [
      "BetterKAN 50\n"
     ]
    },
    {
     "name": "stderr",
     "output_type": "stream",
     "text": [
      "train loss: 7.50e-04 | test loss: 7.37e-04 | reg: 0.00e+00 : 100%|██| 50/50 [00:30<00:00,  1.61it/s]\n"
     ]
    },
    {
     "name": "stdout",
     "output_type": "stream",
     "text": [
      "BetterKAN 50 0.1\n"
     ]
    },
    {
     "name": "stderr",
     "output_type": "stream",
     "text": [
      "train loss: 1.12e-04 | test loss: 1.12e-04 | reg: 0.00e+00 : 100%|██| 50/50 [00:30<00:00,  1.63it/s]\n"
     ]
    },
    {
     "name": "stdout",
     "output_type": "stream",
     "text": [
      "KAN 50\n"
     ]
    },
    {
     "name": "stderr",
     "output_type": "stream",
     "text": [
      "train loss: 1.92e-02 | test loss: 2.93e-02 | reg: 6.46e+00 : 100%|██| 50/50 [00:25<00:00,  1.99it/s]\n"
     ]
    },
    {
     "name": "stdout",
     "output_type": "stream",
     "text": [
      "base kan test loss 1.65E-04\n",
      "better kan test loss 4.14E-05\n",
      "base kan train loss 1.53E-04\n",
      "better kan train loss 4.17E-05\n",
      "base kan test loss 2.72E-08\n",
      "better kan test loss 1.72E-09\n",
      "base kan train loss 2.33E-08\n",
      "better kan train loss 1.74E-09\n",
      "tensor(-0.9965, device='cuda:0') tensor(0.9939, device='cuda:0')\n",
      "BetterKAN 5\n"
     ]
    },
    {
     "name": "stderr",
     "output_type": "stream",
     "text": [
      "train loss: 7.46e-02 | test loss: 7.43e-02 | reg: 0.00e+00 : 100%|██| 50/50 [00:20<00:00,  2.50it/s]\n"
     ]
    },
    {
     "name": "stdout",
     "output_type": "stream",
     "text": [
      "BetterKAN 5 0.1\n"
     ]
    },
    {
     "name": "stderr",
     "output_type": "stream",
     "text": [
      "train loss: 7.40e-02 | test loss: 7.38e-02 | reg: 0.00e+00 : 100%|██| 50/50 [00:22<00:00,  2.21it/s]\n"
     ]
    },
    {
     "name": "stdout",
     "output_type": "stream",
     "text": [
      "KAN 5\n"
     ]
    },
    {
     "name": "stderr",
     "output_type": "stream",
     "text": [
      "train loss: 7.83e-02 | test loss: 7.83e-02 | reg: 3.40e+00 : 100%|██| 50/50 [00:21<00:00,  2.36it/s]\n"
     ]
    },
    {
     "name": "stdout",
     "output_type": "stream",
     "text": [
      "BetterKAN 10\n"
     ]
    },
    {
     "name": "stderr",
     "output_type": "stream",
     "text": [
      "train loss: 5.86e-02 | test loss: 6.08e-02 | reg: 0.00e+00 : 100%|██| 50/50 [00:28<00:00,  1.74it/s]\n"
     ]
    },
    {
     "name": "stdout",
     "output_type": "stream",
     "text": [
      "BetterKAN 10 0.1\n"
     ]
    },
    {
     "name": "stderr",
     "output_type": "stream",
     "text": [
      "train loss: 7.37e-02 | test loss: 7.37e-02 | reg: 0.00e+00 : 100%|██| 50/50 [00:27<00:00,  1.82it/s]\n"
     ]
    },
    {
     "name": "stdout",
     "output_type": "stream",
     "text": [
      "KAN 10\n"
     ]
    },
    {
     "name": "stderr",
     "output_type": "stream",
     "text": [
      "train loss: 7.40e-02 | test loss: 7.45e-02 | reg: 2.62e+00 : 100%|██| 50/50 [00:21<00:00,  2.37it/s]\n"
     ]
    },
    {
     "name": "stdout",
     "output_type": "stream",
     "text": [
      "BetterKAN 20\n"
     ]
    },
    {
     "name": "stderr",
     "output_type": "stream",
     "text": [
      "train loss: 5.07e-02 | test loss: 5.61e-02 | reg: 0.00e+00 : 100%|██| 50/50 [00:28<00:00,  1.76it/s]\n"
     ]
    },
    {
     "name": "stdout",
     "output_type": "stream",
     "text": [
      "BetterKAN 20 0.1\n"
     ]
    },
    {
     "name": "stderr",
     "output_type": "stream",
     "text": [
      "train loss: 5.35e-02 | test loss: 5.59e-02 | reg: 0.00e+00 : 100%|██| 50/50 [00:27<00:00,  1.83it/s]\n"
     ]
    },
    {
     "name": "stdout",
     "output_type": "stream",
     "text": [
      "KAN 20\n"
     ]
    },
    {
     "name": "stderr",
     "output_type": "stream",
     "text": [
      "train loss: 6.40e-02 | test loss: 7.00e-02 | reg: 2.35e+00 : 100%|██| 50/50 [00:21<00:00,  2.32it/s]\n"
     ]
    },
    {
     "name": "stdout",
     "output_type": "stream",
     "text": [
      "BetterKAN 50\n"
     ]
    },
    {
     "name": "stderr",
     "output_type": "stream",
     "text": [
      "train loss: 5.04e-02 | test loss: 4.99e-02 | reg: 0.00e+00 : 100%|██| 50/50 [00:28<00:00,  1.74it/s]\n"
     ]
    },
    {
     "name": "stdout",
     "output_type": "stream",
     "text": [
      "BetterKAN 50 0.1\n"
     ]
    },
    {
     "name": "stderr",
     "output_type": "stream",
     "text": [
      "train loss: 4.71e-02 | test loss: 5.23e-02 | reg: 0.00e+00 : 100%|██| 50/50 [00:27<00:00,  1.83it/s]\n"
     ]
    },
    {
     "name": "stdout",
     "output_type": "stream",
     "text": [
      "KAN 50\n"
     ]
    },
    {
     "name": "stderr",
     "output_type": "stream",
     "text": [
      "train loss: 5.15e-02 | test loss: 6.11e-02 | reg: 2.36e+00 : 100%|██| 50/50 [00:23<00:00,  2.16it/s]"
     ]
    },
    {
     "name": "stdout",
     "output_type": "stream",
     "text": [
      "base kan test loss 5.86E-02\n",
      "better kan test loss 4.99E-02\n",
      "base kan train loss 5.09E-02\n",
      "better kan train loss 4.71E-02\n",
      "base kan test loss 3.43E-03\n",
      "better kan test loss 2.49E-03\n",
      "base kan train loss 2.59E-03\n",
      "better kan train loss 2.22E-03\n"
     ]
    },
    {
     "name": "stderr",
     "output_type": "stream",
     "text": [
      "\n"
     ]
    }
   ],
   "source": [
    "test(I_40_1, [2,2,1],input_min=[-1,0],input_max=[1,1])\n",
    "test(I_40_1,  [2,1,1],input_min=[-1,0],input_max=[1,1])"
   ]
  },
  {
   "cell_type": "code",
   "execution_count": 47,
   "metadata": {},
   "outputs": [
    {
     "name": "stdout",
     "output_type": "stream",
     "text": [
      "tensor(-7.9293, device='cuda:0') tensor(6.0879, device='cuda:0')\n",
      "BetterKAN 5\n"
     ]
    },
    {
     "name": "stderr",
     "output_type": "stream",
     "text": [
      "train loss: 3.15e-02 | test loss: 2.98e-02 | reg: 0.00e+00 : 100%|██| 50/50 [00:24<00:00,  2.03it/s]\n"
     ]
    },
    {
     "name": "stdout",
     "output_type": "stream",
     "text": [
      "BetterKAN 5 0.1\n"
     ]
    },
    {
     "name": "stderr",
     "output_type": "stream",
     "text": [
      "train loss: 4.69e-02 | test loss: 4.74e-02 | reg: 0.00e+00 : 100%|██| 50/50 [00:30<00:00,  1.66it/s]\n"
     ]
    },
    {
     "name": "stdout",
     "output_type": "stream",
     "text": [
      "KAN 5\n"
     ]
    },
    {
     "name": "stderr",
     "output_type": "stream",
     "text": [
      "train loss: 4.35e-02 | test loss: 3.99e-02 | reg: 5.26e+01 : 100%|██| 50/50 [00:24<00:00,  2.08it/s]\n"
     ]
    },
    {
     "name": "stdout",
     "output_type": "stream",
     "text": [
      "BetterKAN 10\n"
     ]
    },
    {
     "name": "stderr",
     "output_type": "stream",
     "text": [
      "train loss: 1.32e-02 | test loss: 1.32e-02 | reg: 0.00e+00 : 100%|██| 50/50 [00:30<00:00,  1.62it/s]\n"
     ]
    },
    {
     "name": "stdout",
     "output_type": "stream",
     "text": [
      "BetterKAN 10 0.1\n"
     ]
    },
    {
     "name": "stderr",
     "output_type": "stream",
     "text": [
      "train loss: 1.99e-02 | test loss: 1.99e-02 | reg: 0.00e+00 : 100%|██| 50/50 [00:30<00:00,  1.66it/s]\n"
     ]
    },
    {
     "name": "stdout",
     "output_type": "stream",
     "text": [
      "KAN 10\n"
     ]
    },
    {
     "name": "stderr",
     "output_type": "stream",
     "text": [
      "train loss: 3.99e-02 | test loss: 3.40e-02 | reg: 1.16e+01 : 100%|██| 50/50 [00:24<00:00,  2.07it/s]\n"
     ]
    },
    {
     "name": "stdout",
     "output_type": "stream",
     "text": [
      "BetterKAN 20\n"
     ]
    },
    {
     "name": "stderr",
     "output_type": "stream",
     "text": [
      "train loss: 1.98e-02 | test loss: 2.19e-02 | reg: 0.00e+00 : 100%|██| 50/50 [00:30<00:00,  1.63it/s]\n"
     ]
    },
    {
     "name": "stdout",
     "output_type": "stream",
     "text": [
      "BetterKAN 20 0.1\n"
     ]
    },
    {
     "name": "stderr",
     "output_type": "stream",
     "text": [
      "train loss: 3.10e-02 | test loss: 3.07e-02 | reg: 0.00e+00 : 100%|██| 50/50 [00:29<00:00,  1.67it/s]\n"
     ]
    },
    {
     "name": "stdout",
     "output_type": "stream",
     "text": [
      "KAN 20\n"
     ]
    },
    {
     "name": "stderr",
     "output_type": "stream",
     "text": [
      "train loss: 3.55e-02 | test loss: 6.45e-02 | reg: 9.49e+00 : 100%|██| 50/50 [00:25<00:00,  1.98it/s]\n"
     ]
    },
    {
     "name": "stdout",
     "output_type": "stream",
     "text": [
      "BetterKAN 50\n"
     ]
    },
    {
     "name": "stderr",
     "output_type": "stream",
     "text": [
      "train loss: 1.81e-02 | test loss: 2.26e-02 | reg: 0.00e+00 : 100%|██| 50/50 [00:31<00:00,  1.57it/s]\n"
     ]
    },
    {
     "name": "stdout",
     "output_type": "stream",
     "text": [
      "BetterKAN 50 0.1\n"
     ]
    },
    {
     "name": "stderr",
     "output_type": "stream",
     "text": [
      "train loss: 1.84e-02 | test loss: 2.09e-02 | reg: 0.00e+00 : 100%|██| 50/50 [00:31<00:00,  1.57it/s]\n"
     ]
    },
    {
     "name": "stdout",
     "output_type": "stream",
     "text": [
      "KAN 50\n"
     ]
    },
    {
     "name": "stderr",
     "output_type": "stream",
     "text": [
      "train loss: 1.13e-01 | test loss: 3.41e-01 | reg: 6.94e+00 : 100%|██| 50/50 [00:25<00:00,  1.99it/s]"
     ]
    },
    {
     "name": "stdout",
     "output_type": "stream",
     "text": [
      "base kan test loss 3.29E-02\n",
      "better kan test loss 1.32E-02\n",
      "base kan train loss 3.55E-02\n",
      "better kan train loss 1.32E-02\n",
      "base kan test loss 1.08E-03\n",
      "better kan test loss 1.74E-04\n",
      "base kan train loss 1.26E-03\n",
      "better kan train loss 1.74E-04\n"
     ]
    },
    {
     "name": "stderr",
     "output_type": "stream",
     "text": [
      "\n"
     ]
    }
   ],
   "source": [
    "test(I_44_4, [2,2,1],input_min=[-1,0],input_max=[1,1])"
   ]
  },
  {
   "cell_type": "code",
   "execution_count": null,
   "metadata": {},
   "outputs": [
    {
     "name": "stderr",
     "output_type": "stream",
     "text": [
      "train loss: 1.20e-01 | test loss: 1.58e-01 | reg: 1.35e+01 : 100%|█| 100/100 [01:54<00:00,  1.15s/it\n"
     ]
    },
    {
     "name": "stdout",
     "output_type": "stream",
     "text": [
      "tensor(0.9718) tensor(0.9720)\n"
     ]
    }
   ],
   "source": [
    "def train_acc():\n",
    "    return torch.mean(((model(dataset['train_input']) > 0.5) == dataset['train_label']).float())\n",
    "\n",
    "def test_acc():\n",
    "    return torch.mean(((model(dataset['test_input']) > 0.5) == dataset['test_label']).float())\n",
    "# print(dataset['test_input'].shape)\n",
    "model = KAN(width=[n_feature,1,1],num_basis=5)\n",
    "model.fix_symbolic(1,0,0,'gaussian',fit_params_bool=False)\n",
    "model.train(dataset, lamb=0.001, batch=1024, metrics=[train_acc, test_acc],lr=1);\n",
    "print(test_acc(), train_acc())"
   ]
  },
  {
   "cell_type": "code",
   "execution_count": 48,
   "metadata": {},
   "outputs": [
    {
     "name": "stdout",
     "output_type": "stream",
     "text": [
      "tensor(-0.9977, device='cuda:0') tensor(1.9753, device='cuda:0')\n",
      "BetterKAN 5\n"
     ]
    },
    {
     "name": "stderr",
     "output_type": "stream",
     "text": [
      "train loss: 1.55e-03 | test loss: 1.63e-03 | reg: 0.00e+00 : 100%|██| 50/50 [00:42<00:00,  1.19it/s]\n"
     ]
    },
    {
     "name": "stdout",
     "output_type": "stream",
     "text": [
      "BetterKAN 5 0.1\n"
     ]
    },
    {
     "name": "stderr",
     "output_type": "stream",
     "text": [
      "train loss: 5.71e-03 | test loss: 5.71e-03 | reg: 0.00e+00 : 100%|██| 50/50 [00:39<00:00,  1.26it/s]\n"
     ]
    },
    {
     "name": "stdout",
     "output_type": "stream",
     "text": [
      "KAN 5\n"
     ]
    },
    {
     "name": "stderr",
     "output_type": "stream",
     "text": [
      "train loss: 3.77e-03 | test loss: 4.06e-03 | reg: 1.47e+01 : 100%|██| 50/50 [01:00<00:00,  1.22s/it]\n"
     ]
    },
    {
     "name": "stdout",
     "output_type": "stream",
     "text": [
      "BetterKAN 10\n"
     ]
    },
    {
     "name": "stderr",
     "output_type": "stream",
     "text": [
      "train loss: 3.06e-03 | test loss: 3.19e-03 | reg: 0.00e+00 : 100%|██| 50/50 [01:30<00:00,  1.80s/it]\n"
     ]
    },
    {
     "name": "stdout",
     "output_type": "stream",
     "text": [
      "BetterKAN 10 0.1\n"
     ]
    },
    {
     "name": "stderr",
     "output_type": "stream",
     "text": [
      "train loss: 3.58e-03 | test loss: 3.74e-03 | reg: 0.00e+00 : 100%|██| 50/50 [01:18<00:00,  1.56s/it]\n"
     ]
    },
    {
     "name": "stdout",
     "output_type": "stream",
     "text": [
      "KAN 10\n"
     ]
    },
    {
     "name": "stderr",
     "output_type": "stream",
     "text": [
      "train loss: 1.46e-03 | test loss: 1.52e-03 | reg: 1.46e+01 : 100%|██| 50/50 [01:31<00:00,  1.83s/it]\n"
     ]
    },
    {
     "name": "stdout",
     "output_type": "stream",
     "text": [
      "BetterKAN 20\n"
     ]
    },
    {
     "name": "stderr",
     "output_type": "stream",
     "text": [
      "train loss: 5.47e-04 | test loss: 5.44e-04 | reg: 0.00e+00 : 100%|██| 50/50 [01:26<00:00,  1.73s/it]\n"
     ]
    },
    {
     "name": "stdout",
     "output_type": "stream",
     "text": [
      "BetterKAN 20 0.1\n"
     ]
    },
    {
     "name": "stderr",
     "output_type": "stream",
     "text": [
      "train loss: 9.64e-04 | test loss: 1.03e-03 | reg: 0.00e+00 : 100%|██| 50/50 [01:08<00:00,  1.37s/it]\n"
     ]
    },
    {
     "name": "stdout",
     "output_type": "stream",
     "text": [
      "KAN 20\n"
     ]
    },
    {
     "name": "stderr",
     "output_type": "stream",
     "text": [
      "train loss: 1.27e-03 | test loss: 1.42e-03 | reg: 1.44e+01 : 100%|██| 50/50 [01:36<00:00,  1.93s/it]\n"
     ]
    },
    {
     "name": "stdout",
     "output_type": "stream",
     "text": [
      "BetterKAN 50\n"
     ]
    },
    {
     "name": "stderr",
     "output_type": "stream",
     "text": [
      "train loss: 1.47e-03 | test loss: 1.45e-03 | reg: 0.00e+00 : 100%|██| 50/50 [01:12<00:00,  1.45s/it]\n"
     ]
    },
    {
     "name": "stdout",
     "output_type": "stream",
     "text": [
      "BetterKAN 50 0.1\n"
     ]
    },
    {
     "name": "stderr",
     "output_type": "stream",
     "text": [
      "train loss: 3.64e-04 | test loss: 3.64e-04 | reg: 0.00e+00 : 100%|██| 50/50 [01:23<00:00,  1.67s/it]\n"
     ]
    },
    {
     "name": "stdout",
     "output_type": "stream",
     "text": [
      "KAN 50\n"
     ]
    },
    {
     "name": "stderr",
     "output_type": "stream",
     "text": [
      "train loss: 3.09e-03 | test loss: 5.32e-03 | reg: 1.21e+01 : 100%|██| 50/50 [01:38<00:00,  1.97s/it]\n"
     ]
    },
    {
     "name": "stdout",
     "output_type": "stream",
     "text": [
      "base kan test loss 1.42E-03\n",
      "better kan test loss 3.64E-04\n",
      "base kan train loss 1.27E-03\n",
      "better kan train loss 3.64E-04\n",
      "base kan test loss 2.00E-06\n",
      "better kan test loss 1.32E-07\n",
      "base kan train loss 1.60E-06\n",
      "better kan train loss 1.32E-07\n",
      "tensor(-0.9977, device='cuda:0') tensor(1.9753, device='cuda:0')\n",
      "BetterKAN 5\n"
     ]
    },
    {
     "name": "stderr",
     "output_type": "stream",
     "text": [
      "train loss: 1.47e-03 | test loss: 1.52e-03 | reg: 0.00e+00 : 100%|██| 50/50 [01:09<00:00,  1.38s/it]\n"
     ]
    },
    {
     "name": "stdout",
     "output_type": "stream",
     "text": [
      "BetterKAN 5 0.1\n"
     ]
    },
    {
     "name": "stderr",
     "output_type": "stream",
     "text": [
      "train loss: 7.41e-04 | test loss: 7.69e-04 | reg: 0.00e+00 : 100%|██| 50/50 [01:08<00:00,  1.36s/it]\n"
     ]
    },
    {
     "name": "stdout",
     "output_type": "stream",
     "text": [
      "KAN 5\n"
     ]
    },
    {
     "name": "stderr",
     "output_type": "stream",
     "text": [
      "train loss: 4.40e-03 | test loss: 4.62e-03 | reg: 9.10e+00 : 100%|██| 50/50 [00:56<00:00,  1.13s/it]\n"
     ]
    },
    {
     "name": "stdout",
     "output_type": "stream",
     "text": [
      "BetterKAN 10\n"
     ]
    },
    {
     "name": "stderr",
     "output_type": "stream",
     "text": [
      "train loss: 3.24e-04 | test loss: 3.36e-04 | reg: 0.00e+00 : 100%|██| 50/50 [01:07<00:00,  1.34s/it]\n"
     ]
    },
    {
     "name": "stdout",
     "output_type": "stream",
     "text": [
      "BetterKAN 10 0.1\n"
     ]
    },
    {
     "name": "stderr",
     "output_type": "stream",
     "text": [
      "train loss: 4.82e-04 | test loss: 4.82e-04 | reg: 0.00e+00 : 100%|██| 50/50 [01:05<00:00,  1.31s/it]\n"
     ]
    },
    {
     "name": "stdout",
     "output_type": "stream",
     "text": [
      "KAN 10\n"
     ]
    },
    {
     "name": "stderr",
     "output_type": "stream",
     "text": [
      "train loss: 1.99e-03 | test loss: 2.18e-03 | reg: 8.76e+00 : 100%|██| 50/50 [01:03<00:00,  1.26s/it]\n"
     ]
    },
    {
     "name": "stdout",
     "output_type": "stream",
     "text": [
      "BetterKAN 20\n"
     ]
    },
    {
     "name": "stderr",
     "output_type": "stream",
     "text": [
      "train loss: 2.24e-04 | test loss: 2.48e-04 | reg: 0.00e+00 : 100%|██| 50/50 [01:14<00:00,  1.49s/it]\n"
     ]
    },
    {
     "name": "stdout",
     "output_type": "stream",
     "text": [
      "BetterKAN 20 0.1\n"
     ]
    },
    {
     "name": "stderr",
     "output_type": "stream",
     "text": [
      "train loss: 7.85e-04 | test loss: 7.90e-04 | reg: 0.00e+00 : 100%|██| 50/50 [01:12<00:00,  1.45s/it]\n"
     ]
    },
    {
     "name": "stdout",
     "output_type": "stream",
     "text": [
      "KAN 20\n"
     ]
    },
    {
     "name": "stderr",
     "output_type": "stream",
     "text": [
      "train loss: 1.95e-03 | test loss: 2.27e-03 | reg: 9.07e+00 : 100%|██| 50/50 [01:05<00:00,  1.31s/it]\n"
     ]
    },
    {
     "name": "stdout",
     "output_type": "stream",
     "text": [
      "BetterKAN 50\n"
     ]
    },
    {
     "name": "stderr",
     "output_type": "stream",
     "text": [
      "train loss: 5.99e-05 | test loss: 6.03e-05 | reg: 0.00e+00 : 100%|██| 50/50 [01:04<00:00,  1.29s/it]\n"
     ]
    },
    {
     "name": "stdout",
     "output_type": "stream",
     "text": [
      "BetterKAN 50 0.1\n"
     ]
    },
    {
     "name": "stderr",
     "output_type": "stream",
     "text": [
      "train loss: 2.28e-04 | test loss: 2.25e-04 | reg: 0.00e+00 : 100%|██| 50/50 [01:14<00:00,  1.49s/it]\n"
     ]
    },
    {
     "name": "stdout",
     "output_type": "stream",
     "text": [
      "KAN 50\n"
     ]
    },
    {
     "name": "stderr",
     "output_type": "stream",
     "text": [
      "train loss: 6.42e-03 | test loss: 8.99e-03 | reg: 8.51e+00 : 100%|██| 50/50 [01:19<00:00,  1.59s/it]"
     ]
    },
    {
     "name": "stdout",
     "output_type": "stream",
     "text": [
      "base kan test loss 2.18E-03\n",
      "better kan test loss 6.03E-05\n",
      "base kan train loss 1.95E-03\n",
      "better kan train loss 5.99E-05\n",
      "base kan test loss 4.76E-06\n",
      "better kan test loss 3.64E-09\n",
      "base kan train loss 3.80E-06\n",
      "better kan train loss 3.58E-09\n"
     ]
    },
    {
     "name": "stderr",
     "output_type": "stream",
     "text": [
      "\n"
     ]
    }
   ],
   "source": [
    "test(I_50_26,  [2,2,3,1],input_min=[-torch.pi,0],input_max=[torch.pi,1])\n",
    "test(I_50_26, [2,3,1],input_min=[-torch.pi,0],input_max=[torch.pi,1])\n"
   ]
  },
  {
   "cell_type": "code",
   "execution_count": 49,
   "metadata": {},
   "outputs": [
    {
     "name": "stdout",
     "output_type": "stream",
     "text": [
      "tensor(-1.9383, device='cuda:0') tensor(-6.9501e-06, device='cuda:0')\n",
      "BetterKAN 5\n"
     ]
    },
    {
     "name": "stderr",
     "output_type": "stream",
     "text": [
      "train loss: 2.83e-03 | test loss: 2.72e-03 | reg: 0.00e+00 : 100%|██| 50/50 [01:33<00:00,  1.86s/it]\n"
     ]
    },
    {
     "name": "stdout",
     "output_type": "stream",
     "text": [
      "BetterKAN 5 0.1\n"
     ]
    },
    {
     "name": "stderr",
     "output_type": "stream",
     "text": [
      "train loss: 1.13e-03 | test loss: 1.19e-03 | reg: 0.00e+00 : 100%|██| 50/50 [01:28<00:00,  1.77s/it]\n"
     ]
    },
    {
     "name": "stdout",
     "output_type": "stream",
     "text": [
      "KAN 5\n"
     ]
    },
    {
     "name": "stderr",
     "output_type": "stream",
     "text": [
      "train loss: 9.24e-04 | test loss: 1.02e-03 | reg: 1.43e+01 : 100%|██| 50/50 [01:34<00:00,  1.90s/it]\n"
     ]
    },
    {
     "name": "stdout",
     "output_type": "stream",
     "text": [
      "BetterKAN 10\n"
     ]
    },
    {
     "name": "stderr",
     "output_type": "stream",
     "text": [
      "train loss: 1.69e-03 | test loss: 1.71e-03 | reg: 0.00e+00 : 100%|██| 50/50 [01:31<00:00,  1.84s/it]\n"
     ]
    },
    {
     "name": "stdout",
     "output_type": "stream",
     "text": [
      "BetterKAN 10 0.1\n"
     ]
    },
    {
     "name": "stderr",
     "output_type": "stream",
     "text": [
      "train loss: 6.74e-04 | test loss: 6.64e-04 | reg: 0.00e+00 : 100%|██| 50/50 [01:22<00:00,  1.66s/it]\n"
     ]
    },
    {
     "name": "stdout",
     "output_type": "stream",
     "text": [
      "KAN 10\n"
     ]
    },
    {
     "name": "stderr",
     "output_type": "stream",
     "text": [
      "train loss: 3.88e-03 | test loss: 4.12e-03 | reg: 1.49e+01 : 100%|██| 50/50 [01:33<00:00,  1.88s/it]\n"
     ]
    },
    {
     "name": "stdout",
     "output_type": "stream",
     "text": [
      "BetterKAN 20\n"
     ]
    },
    {
     "name": "stderr",
     "output_type": "stream",
     "text": [
      "train loss: 1.67e-04 | test loss: 1.57e-04 | reg: 0.00e+00 : 100%|██| 50/50 [01:29<00:00,  1.79s/it]\n"
     ]
    },
    {
     "name": "stdout",
     "output_type": "stream",
     "text": [
      "BetterKAN 20 0.1\n"
     ]
    },
    {
     "name": "stderr",
     "output_type": "stream",
     "text": [
      "train loss: 3.14e-04 | test loss: 3.18e-04 | reg: 0.00e+00 : 100%|██| 50/50 [01:22<00:00,  1.65s/it]\n"
     ]
    },
    {
     "name": "stdout",
     "output_type": "stream",
     "text": [
      "KAN 20\n"
     ]
    },
    {
     "name": "stderr",
     "output_type": "stream",
     "text": [
      "train loss: 7.49e-03 | test loss: 3.48e-02 | reg: 1.42e+01 : 100%|██| 50/50 [01:34<00:00,  1.90s/it]\n"
     ]
    },
    {
     "name": "stdout",
     "output_type": "stream",
     "text": [
      "BetterKAN 50\n"
     ]
    },
    {
     "name": "stderr",
     "output_type": "stream",
     "text": [
      "train loss: 1.93e-04 | test loss: 1.89e-04 | reg: 0.00e+00 : 100%|██| 50/50 [01:29<00:00,  1.79s/it]\n"
     ]
    },
    {
     "name": "stdout",
     "output_type": "stream",
     "text": [
      "BetterKAN 50 0.1\n"
     ]
    },
    {
     "name": "stderr",
     "output_type": "stream",
     "text": [
      "train loss: 5.42e-04 | test loss: 5.66e-04 | reg: 0.00e+00 : 100%|██| 50/50 [01:30<00:00,  1.82s/it]\n"
     ]
    },
    {
     "name": "stdout",
     "output_type": "stream",
     "text": [
      "KAN 50\n"
     ]
    },
    {
     "name": "stderr",
     "output_type": "stream",
     "text": [
      "train loss: nan | test loss: nan | reg: nan : 100%|█████████████████| 50/50 [01:50<00:00,  2.21s/it]\n"
     ]
    },
    {
     "name": "stdout",
     "output_type": "stream",
     "text": [
      "base kan test loss 1.02E-03\n",
      "better kan test loss 1.57E-04\n",
      "base kan train loss 9.24E-04\n",
      "better kan train loss 1.67E-04\n",
      "base kan test loss 1.04E-06\n",
      "better kan test loss 2.45E-08\n",
      "base kan train loss 8.54E-07\n",
      "better kan train loss 2.79E-08\n",
      "tensor(-1.9383, device='cuda:0') tensor(-6.9501e-06, device='cuda:0')\n",
      "BetterKAN 5\n"
     ]
    },
    {
     "name": "stderr",
     "output_type": "stream",
     "text": [
      "train loss: 2.89e-04 | test loss: 2.87e-04 | reg: 0.00e+00 : 100%|██| 50/50 [01:13<00:00,  1.48s/it]\n"
     ]
    },
    {
     "name": "stdout",
     "output_type": "stream",
     "text": [
      "BetterKAN 5 0.1\n"
     ]
    },
    {
     "name": "stderr",
     "output_type": "stream",
     "text": [
      "train loss: 2.59e-04 | test loss: 2.80e-04 | reg: 0.00e+00 : 100%|██| 50/50 [01:09<00:00,  1.38s/it]\n"
     ]
    },
    {
     "name": "stdout",
     "output_type": "stream",
     "text": [
      "KAN 5\n"
     ]
    },
    {
     "name": "stderr",
     "output_type": "stream",
     "text": [
      "train loss: 8.32e-04 | test loss: 8.29e-04 | reg: 1.03e+01 : 100%|██| 50/50 [01:04<00:00,  1.29s/it]\n"
     ]
    },
    {
     "name": "stdout",
     "output_type": "stream",
     "text": [
      "BetterKAN 10\n"
     ]
    },
    {
     "name": "stderr",
     "output_type": "stream",
     "text": [
      "train loss: 2.14e-04 | test loss: 2.05e-04 | reg: 0.00e+00 : 100%|██| 50/50 [01:14<00:00,  1.49s/it]\n"
     ]
    },
    {
     "name": "stdout",
     "output_type": "stream",
     "text": [
      "BetterKAN 10 0.1\n"
     ]
    },
    {
     "name": "stderr",
     "output_type": "stream",
     "text": [
      "train loss: 2.18e-04 | test loss: 2.05e-04 | reg: 0.00e+00 : 100%|██| 50/50 [01:10<00:00,  1.41s/it]\n"
     ]
    },
    {
     "name": "stdout",
     "output_type": "stream",
     "text": [
      "KAN 10\n"
     ]
    },
    {
     "name": "stderr",
     "output_type": "stream",
     "text": [
      "train loss: 1.63e-03 | test loss: 1.58e-03 | reg: 1.01e+01 : 100%|██| 50/50 [01:03<00:00,  1.27s/it]\n"
     ]
    },
    {
     "name": "stdout",
     "output_type": "stream",
     "text": [
      "BetterKAN 20\n"
     ]
    },
    {
     "name": "stderr",
     "output_type": "stream",
     "text": [
      "train loss: 1.26e-04 | test loss: 1.28e-04 | reg: 0.00e+00 : 100%|██| 50/50 [01:15<00:00,  1.51s/it]\n"
     ]
    },
    {
     "name": "stdout",
     "output_type": "stream",
     "text": [
      "BetterKAN 20 0.1\n"
     ]
    },
    {
     "name": "stderr",
     "output_type": "stream",
     "text": [
      "train loss: 1.77e-04 | test loss: 1.76e-04 | reg: 0.00e+00 : 100%|██| 50/50 [01:08<00:00,  1.38s/it]\n"
     ]
    },
    {
     "name": "stdout",
     "output_type": "stream",
     "text": [
      "KAN 20\n"
     ]
    },
    {
     "name": "stderr",
     "output_type": "stream",
     "text": [
      "train loss: 1.56e-03 | test loss: 1.82e-03 | reg: 9.69e+00 : 100%|██| 50/50 [01:14<00:00,  1.49s/it]\n"
     ]
    },
    {
     "name": "stdout",
     "output_type": "stream",
     "text": [
      "BetterKAN 50\n"
     ]
    },
    {
     "name": "stderr",
     "output_type": "stream",
     "text": [
      "train loss: 6.86e-05 | test loss: 7.19e-05 | reg: 0.00e+00 : 100%|██| 50/50 [01:13<00:00,  1.47s/it]\n"
     ]
    },
    {
     "name": "stdout",
     "output_type": "stream",
     "text": [
      "BetterKAN 50 0.1\n"
     ]
    },
    {
     "name": "stderr",
     "output_type": "stream",
     "text": [
      "train loss: 1.31e-04 | test loss: 1.44e-04 | reg: 0.00e+00 : 100%|██| 50/50 [00:47<00:00,  1.05it/s]\n"
     ]
    },
    {
     "name": "stdout",
     "output_type": "stream",
     "text": [
      "KAN 50\n"
     ]
    },
    {
     "name": "stderr",
     "output_type": "stream",
     "text": [
      "train loss: 5.70e-04 | test loss: 1.82e-03 | reg: 9.99e+00 : 100%|██| 50/50 [00:36<00:00,  1.39it/s]"
     ]
    },
    {
     "name": "stdout",
     "output_type": "stream",
     "text": [
      "base kan test loss 8.29E-04\n",
      "better kan test loss 7.19E-05\n",
      "base kan train loss 5.70E-04\n",
      "better kan train loss 6.86E-05\n",
      "base kan test loss 6.87E-07\n",
      "better kan test loss 5.17E-09\n",
      "base kan train loss 3.25E-07\n",
      "better kan train loss 4.71E-09\n"
     ]
    },
    {
     "name": "stderr",
     "output_type": "stream",
     "text": [
      "\n"
     ]
    }
   ],
   "source": [
    "test(II_2_42, [2,2,3,1],input_min=[-1,0],input_max=[1,1])\n",
    "test(II_2_42,  [2,3,1],input_min=[-1,0],input_max=[1,1])  "
   ]
  },
  {
   "cell_type": "code",
   "execution_count": 50,
   "metadata": {},
   "outputs": [
    {
     "name": "stdout",
     "output_type": "stream",
     "text": [
      "tensor(-0.1066, device='cuda:0') tensor(0.1019, device='cuda:0')\n",
      "BetterKAN 5\n"
     ]
    },
    {
     "name": "stderr",
     "output_type": "stream",
     "text": [
      "description:   0%|                                                           | 0/50 [00:00<?, ?it/s]"
     ]
    },
    {
     "name": "stderr",
     "output_type": "stream",
     "text": [
      "train loss: 6.54e-04 | test loss: 8.34e-04 | reg: 0.00e+00 : 100%|██| 50/50 [00:51<00:00,  1.03s/it]\n"
     ]
    },
    {
     "name": "stdout",
     "output_type": "stream",
     "text": [
      "BetterKAN 5 0.1\n"
     ]
    },
    {
     "name": "stderr",
     "output_type": "stream",
     "text": [
      "train loss: 1.10e-03 | test loss: 1.32e-03 | reg: 0.00e+00 : 100%|██| 50/50 [00:40<00:00,  1.24it/s]\n"
     ]
    },
    {
     "name": "stdout",
     "output_type": "stream",
     "text": [
      "KAN 5\n"
     ]
    },
    {
     "name": "stderr",
     "output_type": "stream",
     "text": [
      "train loss: 5.76e-03 | test loss: 5.50e-03 | reg: 1.46e+01 : 100%|██| 50/50 [00:48<00:00,  1.03it/s]\n"
     ]
    },
    {
     "name": "stdout",
     "output_type": "stream",
     "text": [
      "BetterKAN 10\n"
     ]
    },
    {
     "name": "stderr",
     "output_type": "stream",
     "text": [
      "train loss: 5.20e-04 | test loss: 6.85e-04 | reg: 0.00e+00 : 100%|██| 50/50 [00:53<00:00,  1.08s/it]\n"
     ]
    },
    {
     "name": "stdout",
     "output_type": "stream",
     "text": [
      "BetterKAN 10 0.1\n"
     ]
    },
    {
     "name": "stderr",
     "output_type": "stream",
     "text": [
      "train loss: 8.71e-04 | test loss: 1.11e-03 | reg: 0.00e+00 : 100%|██| 50/50 [00:48<00:00,  1.02it/s]\n"
     ]
    },
    {
     "name": "stdout",
     "output_type": "stream",
     "text": [
      "KAN 10\n"
     ]
    },
    {
     "name": "stderr",
     "output_type": "stream",
     "text": [
      "train loss: 4.62e-03 | test loss: 6.12e-03 | reg: 1.51e+01 : 100%|██| 50/50 [01:01<00:00,  1.24s/it]\n"
     ]
    },
    {
     "name": "stdout",
     "output_type": "stream",
     "text": [
      "BetterKAN 20\n"
     ]
    },
    {
     "name": "stderr",
     "output_type": "stream",
     "text": [
      "train loss: 3.84e-04 | test loss: 5.45e-04 | reg: 0.00e+00 : 100%|██| 50/50 [00:57<00:00,  1.15s/it]\n"
     ]
    },
    {
     "name": "stdout",
     "output_type": "stream",
     "text": [
      "BetterKAN 20 0.1\n"
     ]
    },
    {
     "name": "stderr",
     "output_type": "stream",
     "text": [
      "train loss: 5.60e-04 | test loss: 7.57e-04 | reg: 0.00e+00 : 100%|██| 50/50 [00:54<00:00,  1.09s/it]\n"
     ]
    },
    {
     "name": "stdout",
     "output_type": "stream",
     "text": [
      "KAN 20\n"
     ]
    },
    {
     "name": "stderr",
     "output_type": "stream",
     "text": [
      "train loss: 1.09e-02 | test loss: 1.71e-02 | reg: 1.54e+01 : 100%|██| 50/50 [00:51<00:00,  1.03s/it]\n"
     ]
    },
    {
     "name": "stdout",
     "output_type": "stream",
     "text": [
      "BetterKAN 50\n"
     ]
    },
    {
     "name": "stderr",
     "output_type": "stream",
     "text": [
      "train loss: 2.35e-04 | test loss: 3.66e-04 | reg: 0.00e+00 : 100%|██| 50/50 [00:54<00:00,  1.08s/it]\n"
     ]
    },
    {
     "name": "stdout",
     "output_type": "stream",
     "text": [
      "BetterKAN 50 0.1\n"
     ]
    },
    {
     "name": "stderr",
     "output_type": "stream",
     "text": [
      "train loss: 3.83e-04 | test loss: 5.64e-04 | reg: 0.00e+00 : 100%|██| 50/50 [00:50<00:00,  1.00s/it]\n"
     ]
    },
    {
     "name": "stdout",
     "output_type": "stream",
     "text": [
      "KAN 50\n"
     ]
    },
    {
     "name": "stderr",
     "output_type": "stream",
     "text": [
      "train loss: nan | test loss: nan | reg: nan : 100%|█████████████████| 50/50 [01:04<00:00,  1.29s/it]\n"
     ]
    },
    {
     "name": "stdout",
     "output_type": "stream",
     "text": [
      "base kan test loss 5.50E-03\n",
      "better kan test loss 3.66E-04\n",
      "base kan train loss 4.62E-03\n",
      "better kan train loss 2.35E-04\n",
      "base kan test loss 3.02E-05\n",
      "better kan test loss 1.34E-07\n",
      "base kan train loss 2.14E-05\n",
      "better kan train loss 5.51E-08\n",
      "tensor(-0.1066, device='cuda:0') tensor(0.1019, device='cuda:0')\n",
      "BetterKAN 5\n"
     ]
    },
    {
     "name": "stderr",
     "output_type": "stream",
     "text": [
      "train loss: 7.59e-04 | test loss: 9.50e-04 | reg: 0.00e+00 : 100%|██| 50/50 [00:42<00:00,  1.19it/s]\n"
     ]
    },
    {
     "name": "stdout",
     "output_type": "stream",
     "text": [
      "BetterKAN 5 0.1\n"
     ]
    },
    {
     "name": "stderr",
     "output_type": "stream",
     "text": [
      "train loss: 1.33e-03 | test loss: 1.53e-03 | reg: 0.00e+00 : 100%|██| 50/50 [00:37<00:00,  1.34it/s]\n"
     ]
    },
    {
     "name": "stdout",
     "output_type": "stream",
     "text": [
      "KAN 5\n"
     ]
    },
    {
     "name": "stderr",
     "output_type": "stream",
     "text": [
      "train loss: 5.78e-03 | test loss: 6.07e-03 | reg: 6.80e+00 : 100%|██| 50/50 [00:36<00:00,  1.39it/s]\n"
     ]
    },
    {
     "name": "stdout",
     "output_type": "stream",
     "text": [
      "BetterKAN 10\n"
     ]
    },
    {
     "name": "stderr",
     "output_type": "stream",
     "text": [
      "train loss: 8.31e-04 | test loss: 1.04e-03 | reg: 0.00e+00 : 100%|██| 50/50 [00:41<00:00,  1.20it/s]\n"
     ]
    },
    {
     "name": "stdout",
     "output_type": "stream",
     "text": [
      "BetterKAN 10 0.1\n"
     ]
    },
    {
     "name": "stderr",
     "output_type": "stream",
     "text": [
      "train loss: 1.02e-03 | test loss: 1.22e-03 | reg: 0.00e+00 : 100%|██| 50/50 [00:40<00:00,  1.25it/s]\n"
     ]
    },
    {
     "name": "stdout",
     "output_type": "stream",
     "text": [
      "KAN 10\n"
     ]
    },
    {
     "name": "stderr",
     "output_type": "stream",
     "text": [
      "train loss: 1.04e-02 | test loss: 1.35e-02 | reg: 6.05e+00 : 100%|██| 50/50 [00:35<00:00,  1.40it/s]\n"
     ]
    },
    {
     "name": "stdout",
     "output_type": "stream",
     "text": [
      "BetterKAN 20\n"
     ]
    },
    {
     "name": "stderr",
     "output_type": "stream",
     "text": [
      "train loss: 6.01e-04 | test loss: 7.86e-04 | reg: 0.00e+00 : 100%|██| 50/50 [00:45<00:00,  1.09it/s]\n"
     ]
    },
    {
     "name": "stdout",
     "output_type": "stream",
     "text": [
      "BetterKAN 20 0.1\n"
     ]
    },
    {
     "name": "stderr",
     "output_type": "stream",
     "text": [
      "train loss: 6.23e-04 | test loss: 8.11e-04 | reg: 0.00e+00 : 100%|██| 50/50 [00:39<00:00,  1.26it/s]\n"
     ]
    },
    {
     "name": "stdout",
     "output_type": "stream",
     "text": [
      "KAN 20\n"
     ]
    },
    {
     "name": "stderr",
     "output_type": "stream",
     "text": [
      "train loss: 1.31e-02 | test loss: 1.79e-02 | reg: 7.49e+00 : 100%|██| 50/50 [00:35<00:00,  1.43it/s]\n"
     ]
    },
    {
     "name": "stdout",
     "output_type": "stream",
     "text": [
      "BetterKAN 50\n"
     ]
    },
    {
     "name": "stderr",
     "output_type": "stream",
     "text": [
      "train loss: 2.52e-04 | test loss: 3.66e-04 | reg: 0.00e+00 : 100%|██| 50/50 [00:56<00:00,  1.12s/it]\n"
     ]
    },
    {
     "name": "stdout",
     "output_type": "stream",
     "text": [
      "BetterKAN 50 0.1\n"
     ]
    },
    {
     "name": "stderr",
     "output_type": "stream",
     "text": [
      "train loss: 3.46e-04 | test loss: 5.01e-04 | reg: 0.00e+00 : 100%|██| 50/50 [01:00<00:00,  1.21s/it]\n"
     ]
    },
    {
     "name": "stdout",
     "output_type": "stream",
     "text": [
      "KAN 50\n"
     ]
    },
    {
     "name": "stderr",
     "output_type": "stream",
     "text": [
      "train loss: nan | test loss: nan | reg: nan : 100%|█████████████████| 50/50 [01:15<00:00,  1.52s/it]"
     ]
    },
    {
     "name": "stdout",
     "output_type": "stream",
     "text": [
      "base kan test loss 6.07E-03\n",
      "better kan test loss 3.59E-04\n",
      "base kan train loss 5.78E-03\n",
      "better kan train loss 2.52E-04\n",
      "base kan test loss 3.68E-05\n",
      "better kan test loss 1.29E-07\n",
      "base kan train loss 3.34E-05\n",
      "better kan train loss 6.33E-08\n"
     ]
    },
    {
     "name": "stderr",
     "output_type": "stream",
     "text": [
      "\n"
     ]
    }
   ],
   "source": [
    "test(II_6_15a, [3,2,2,2,1],input_min=[-1,-1,-1],input_max=[1,1,1])\n",
    "test(II_6_15a, [3,2,1,1],input_min=[-1,-1,-1],input_max=[1,1,1])"
   ]
  },
  {
   "cell_type": "code",
   "execution_count": 51,
   "metadata": {},
   "outputs": [
    {
     "name": "stdout",
     "output_type": "stream",
     "text": [
      "tensor(-1.8916, device='cuda:0') tensor(1.8337, device='cuda:0')\n",
      "BetterKAN 5\n"
     ]
    },
    {
     "name": "stderr",
     "output_type": "stream",
     "text": [
      "train loss: 1.31e-02 | test loss: 1.33e-02 | reg: 0.00e+00 : 100%|██| 50/50 [01:09<00:00,  1.39s/it]\n"
     ]
    },
    {
     "name": "stdout",
     "output_type": "stream",
     "text": [
      "BetterKAN 5 0.1\n"
     ]
    },
    {
     "name": "stderr",
     "output_type": "stream",
     "text": [
      "train loss: 4.60e-03 | test loss: 4.73e-03 | reg: 0.00e+00 : 100%|██| 50/50 [00:52<00:00,  1.05s/it]\n"
     ]
    },
    {
     "name": "stdout",
     "output_type": "stream",
     "text": [
      "KAN 5\n"
     ]
    },
    {
     "name": "stderr",
     "output_type": "stream",
     "text": [
      "train loss: 1.64e-02 | test loss: 1.81e-02 | reg: 2.79e+01 : 100%|██| 50/50 [02:13<00:00,  2.67s/it]\n"
     ]
    },
    {
     "name": "stdout",
     "output_type": "stream",
     "text": [
      "BetterKAN 10\n"
     ]
    },
    {
     "name": "stderr",
     "output_type": "stream",
     "text": [
      "train loss: 7.12e-03 | test loss: 7.63e-03 | reg: 0.00e+00 : 100%|██| 50/50 [01:01<00:00,  1.24s/it]\n"
     ]
    },
    {
     "name": "stdout",
     "output_type": "stream",
     "text": [
      "BetterKAN 10 0.1\n"
     ]
    },
    {
     "name": "stderr",
     "output_type": "stream",
     "text": [
      "train loss: 2.75e-03 | test loss: 2.94e-03 | reg: 0.00e+00 : 100%|██| 50/50 [00:57<00:00,  1.15s/it]\n"
     ]
    },
    {
     "name": "stdout",
     "output_type": "stream",
     "text": [
      "KAN 10\n"
     ]
    },
    {
     "name": "stderr",
     "output_type": "stream",
     "text": [
      "train loss: 1.06e-02 | test loss: 1.19e-02 | reg: 2.64e+01 : 100%|██| 50/50 [01:25<00:00,  1.70s/it]\n"
     ]
    },
    {
     "name": "stdout",
     "output_type": "stream",
     "text": [
      "BetterKAN 20\n"
     ]
    },
    {
     "name": "stderr",
     "output_type": "stream",
     "text": [
      "train loss: 1.29e-03 | test loss: 1.27e-03 | reg: 0.00e+00 : 100%|██| 50/50 [01:01<00:00,  1.24s/it]\n"
     ]
    },
    {
     "name": "stdout",
     "output_type": "stream",
     "text": [
      "BetterKAN 20 0.1\n"
     ]
    },
    {
     "name": "stderr",
     "output_type": "stream",
     "text": [
      "train loss: 2.84e-03 | test loss: 3.08e-03 | reg: 0.00e+00 : 100%|██| 50/50 [00:52<00:00,  1.05s/it]\n"
     ]
    },
    {
     "name": "stdout",
     "output_type": "stream",
     "text": [
      "KAN 20\n"
     ]
    },
    {
     "name": "stderr",
     "output_type": "stream",
     "text": [
      "train loss: 1.25e-02 | test loss: 3.01e-02 | reg: 2.52e+01 : 100%|██| 50/50 [01:07<00:00,  1.34s/it]\n"
     ]
    },
    {
     "name": "stdout",
     "output_type": "stream",
     "text": [
      "BetterKAN 50\n"
     ]
    },
    {
     "name": "stderr",
     "output_type": "stream",
     "text": [
      "train loss: 2.19e-03 | test loss: 2.64e-03 | reg: 0.00e+00 : 100%|██| 50/50 [00:52<00:00,  1.05s/it]\n"
     ]
    },
    {
     "name": "stdout",
     "output_type": "stream",
     "text": [
      "BetterKAN 50 0.1\n"
     ]
    },
    {
     "name": "stderr",
     "output_type": "stream",
     "text": [
      "train loss: 2.84e-03 | test loss: 3.64e-03 | reg: 0.00e+00 : 100%|██| 50/50 [00:52<00:00,  1.04s/it]\n"
     ]
    },
    {
     "name": "stdout",
     "output_type": "stream",
     "text": [
      "KAN 50\n"
     ]
    },
    {
     "name": "stderr",
     "output_type": "stream",
     "text": [
      "train loss: nan | test loss: nan | reg: nan : 100%|█████████████████| 50/50 [01:17<00:00,  1.55s/it]\n"
     ]
    },
    {
     "name": "stdout",
     "output_type": "stream",
     "text": [
      "base kan test loss 1.19E-02\n",
      "better kan test loss 1.27E-03\n",
      "base kan train loss 1.06E-02\n",
      "better kan train loss 1.29E-03\n",
      "base kan test loss 1.42E-04\n",
      "better kan test loss 1.61E-06\n",
      "base kan train loss 1.13E-04\n",
      "better kan train loss 1.67E-06\n",
      "tensor(-1.8916, device='cuda:0') tensor(1.8337, device='cuda:0')\n",
      "BetterKAN 5\n"
     ]
    },
    {
     "name": "stderr",
     "output_type": "stream",
     "text": [
      "train loss: 1.68e-01 | test loss: 1.73e-01 | reg: 0.00e+00 : 100%|██| 50/50 [00:33<00:00,  1.51it/s]\n"
     ]
    },
    {
     "name": "stdout",
     "output_type": "stream",
     "text": [
      "BetterKAN 5 0.1\n"
     ]
    },
    {
     "name": "stderr",
     "output_type": "stream",
     "text": [
      "train loss: 1.88e-02 | test loss: 1.94e-02 | reg: 0.00e+00 : 100%|██| 50/50 [00:32<00:00,  1.56it/s]\n"
     ]
    },
    {
     "name": "stdout",
     "output_type": "stream",
     "text": [
      "KAN 5\n"
     ]
    },
    {
     "name": "stderr",
     "output_type": "stream",
     "text": [
      "train loss: 1.91e-02 | test loss: 2.08e-02 | reg: 9.84e+00 : 100%|██| 50/50 [00:32<00:00,  1.54it/s]\n"
     ]
    },
    {
     "name": "stdout",
     "output_type": "stream",
     "text": [
      "BetterKAN 10\n"
     ]
    },
    {
     "name": "stderr",
     "output_type": "stream",
     "text": [
      "train loss: 6.70e-03 | test loss: 6.90e-03 | reg: 0.00e+00 : 100%|██| 50/50 [00:34<00:00,  1.44it/s]\n"
     ]
    },
    {
     "name": "stdout",
     "output_type": "stream",
     "text": [
      "BetterKAN 10 0.1\n"
     ]
    },
    {
     "name": "stderr",
     "output_type": "stream",
     "text": [
      "train loss: 8.76e-03 | test loss: 9.47e-03 | reg: 0.00e+00 : 100%|██| 50/50 [00:35<00:00,  1.40it/s]\n"
     ]
    },
    {
     "name": "stdout",
     "output_type": "stream",
     "text": [
      "KAN 10\n"
     ]
    },
    {
     "name": "stderr",
     "output_type": "stream",
     "text": [
      "train loss: 7.58e-02 | test loss: 9.09e-02 | reg: 9.81e+00 : 100%|██| 50/50 [00:37<00:00,  1.32it/s]\n"
     ]
    },
    {
     "name": "stdout",
     "output_type": "stream",
     "text": [
      "BetterKAN 20\n"
     ]
    },
    {
     "name": "stderr",
     "output_type": "stream",
     "text": [
      "train loss: 2.33e-02 | test loss: 6.29e-02 | reg: 0.00e+00 : 100%|██| 50/50 [00:38<00:00,  1.31it/s]\n"
     ]
    },
    {
     "name": "stdout",
     "output_type": "stream",
     "text": [
      "BetterKAN 20 0.1\n"
     ]
    },
    {
     "name": "stderr",
     "output_type": "stream",
     "text": [
      "train loss: 1.30e-02 | test loss: 1.27e-02 | reg: 0.00e+00 : 100%|██| 50/50 [00:34<00:00,  1.45it/s]\n"
     ]
    },
    {
     "name": "stdout",
     "output_type": "stream",
     "text": [
      "KAN 20\n"
     ]
    },
    {
     "name": "stderr",
     "output_type": "stream",
     "text": [
      "train loss: 1.06e-01 | test loss: 1.48e-01 | reg: 9.43e+00 : 100%|██| 50/50 [00:32<00:00,  1.56it/s]\n"
     ]
    },
    {
     "name": "stdout",
     "output_type": "stream",
     "text": [
      "BetterKAN 50\n"
     ]
    },
    {
     "name": "stderr",
     "output_type": "stream",
     "text": [
      "train loss: 5.44e-02 | test loss: 1.02e-01 | reg: 0.00e+00 : 100%|██| 50/50 [00:37<00:00,  1.34it/s]\n"
     ]
    },
    {
     "name": "stdout",
     "output_type": "stream",
     "text": [
      "BetterKAN 50 0.1\n"
     ]
    },
    {
     "name": "stderr",
     "output_type": "stream",
     "text": [
      "train loss: 4.41e-03 | test loss: 4.88e-03 | reg: 0.00e+00 : 100%|██| 50/50 [00:38<00:00,  1.29it/s]\n"
     ]
    },
    {
     "name": "stdout",
     "output_type": "stream",
     "text": [
      "KAN 50\n"
     ]
    },
    {
     "name": "stderr",
     "output_type": "stream",
     "text": [
      "train loss: nan | test loss: nan | reg: nan : 100%|█████████████████| 50/50 [00:38<00:00,  1.30it/s]"
     ]
    },
    {
     "name": "stdout",
     "output_type": "stream",
     "text": [
      "base kan test loss 2.02E-02\n",
      "better kan test loss 4.88E-03\n",
      "base kan train loss 1.89E-02\n",
      "better kan train loss 4.41E-03\n",
      "base kan test loss 4.09E-04\n",
      "better kan test loss 2.38E-05\n",
      "base kan train loss 3.57E-04\n",
      "better kan train loss 1.94E-05\n"
     ]
    },
    {
     "name": "stderr",
     "output_type": "stream",
     "text": [
      "\n"
     ]
    }
   ],
   "source": [
    "test(II_11_7, [3,3,3,2,2,1],input_min=[-1,-1,-torch.pi],input_max=[1,1,torch.pi])\n",
    "test(II_11_7, [3,3,1,1],input_min=[-1,-1,-torch.pi],input_max=[1,1,torch.pi])"
   ]
  },
  {
   "cell_type": "code",
   "execution_count": 52,
   "metadata": {},
   "outputs": [
    {
     "name": "stdout",
     "output_type": "stream",
     "text": [
      "tensor(-0.7309, device='cuda:0') tensor(1.3950, device='cuda:0')\n",
      "BetterKAN 5\n"
     ]
    },
    {
     "name": "stderr",
     "output_type": "stream",
     "text": [
      "train loss: 6.09e-04 | test loss: 5.94e-04 | reg: 0.00e+00 : 100%|██| 50/50 [00:39<00:00,  1.26it/s]\n"
     ]
    },
    {
     "name": "stdout",
     "output_type": "stream",
     "text": [
      "BetterKAN 5 0.1\n"
     ]
    },
    {
     "name": "stderr",
     "output_type": "stream",
     "text": [
      "train loss: 2.55e-03 | test loss: 2.44e-03 | reg: 0.00e+00 : 100%|██| 50/50 [00:23<00:00,  2.09it/s]\n"
     ]
    },
    {
     "name": "stdout",
     "output_type": "stream",
     "text": [
      "KAN 5\n"
     ]
    },
    {
     "name": "stderr",
     "output_type": "stream",
     "text": [
      "train loss: 3.86e-02 | test loss: 5.17e-02 | reg: 1.16e+01 : 100%|██| 50/50 [00:42<00:00,  1.18it/s]\n"
     ]
    },
    {
     "name": "stdout",
     "output_type": "stream",
     "text": [
      "BetterKAN 10\n"
     ]
    },
    {
     "name": "stderr",
     "output_type": "stream",
     "text": [
      "train loss: 4.27e-04 | test loss: 4.17e-04 | reg: 0.00e+00 : 100%|██| 50/50 [00:33<00:00,  1.51it/s]\n"
     ]
    },
    {
     "name": "stdout",
     "output_type": "stream",
     "text": [
      "BetterKAN 10 0.1\n"
     ]
    },
    {
     "name": "stderr",
     "output_type": "stream",
     "text": [
      "train loss: 1.57e-03 | test loss: 1.50e-03 | reg: 0.00e+00 : 100%|██| 50/50 [00:31<00:00,  1.58it/s]\n"
     ]
    },
    {
     "name": "stdout",
     "output_type": "stream",
     "text": [
      "KAN 10\n"
     ]
    },
    {
     "name": "stderr",
     "output_type": "stream",
     "text": [
      "train loss: 4.57e-02 | test loss: 6.28e-02 | reg: 1.10e+01 : 100%|██| 50/50 [00:33<00:00,  1.50it/s]\n"
     ]
    },
    {
     "name": "stdout",
     "output_type": "stream",
     "text": [
      "BetterKAN 20\n"
     ]
    },
    {
     "name": "stderr",
     "output_type": "stream",
     "text": [
      "train loss: 4.91e-04 | test loss: 4.90e-04 | reg: 0.00e+00 : 100%|██| 50/50 [00:32<00:00,  1.52it/s]\n"
     ]
    },
    {
     "name": "stdout",
     "output_type": "stream",
     "text": [
      "BetterKAN 20 0.1\n"
     ]
    },
    {
     "name": "stderr",
     "output_type": "stream",
     "text": [
      "train loss: 2.71e-02 | test loss: 3.31e-02 | reg: 0.00e+00 : 100%|██| 50/50 [00:31<00:00,  1.58it/s]\n"
     ]
    },
    {
     "name": "stdout",
     "output_type": "stream",
     "text": [
      "KAN 20\n"
     ]
    },
    {
     "name": "stderr",
     "output_type": "stream",
     "text": [
      "train loss: 3.76e-02 | test loss: 5.05e-02 | reg: 1.11e+01 : 100%|██| 50/50 [00:35<00:00,  1.42it/s]\n"
     ]
    },
    {
     "name": "stdout",
     "output_type": "stream",
     "text": [
      "BetterKAN 50\n"
     ]
    },
    {
     "name": "stderr",
     "output_type": "stream",
     "text": [
      "train loss: 5.84e-03 | test loss: 1.95e-02 | reg: 0.00e+00 : 100%|██| 50/50 [00:31<00:00,  1.57it/s]\n"
     ]
    },
    {
     "name": "stdout",
     "output_type": "stream",
     "text": [
      "BetterKAN 50 0.1\n"
     ]
    },
    {
     "name": "stderr",
     "output_type": "stream",
     "text": [
      "train loss: 3.13e-04 | test loss: 3.29e-04 | reg: 0.00e+00 : 100%|██| 50/50 [00:31<00:00,  1.58it/s]\n"
     ]
    },
    {
     "name": "stdout",
     "output_type": "stream",
     "text": [
      "KAN 50\n"
     ]
    },
    {
     "name": "stderr",
     "output_type": "stream",
     "text": [
      "train loss: nan | test loss: nan | reg: nan : 100%|█████████████████| 50/50 [00:38<00:00,  1.30it/s]\n"
     ]
    },
    {
     "name": "stdout",
     "output_type": "stream",
     "text": [
      "base kan test loss 5.01E-02\n",
      "better kan test loss 3.29E-04\n",
      "base kan train loss 3.76E-02\n",
      "better kan train loss 3.13E-04\n",
      "base kan test loss 2.51E-03\n",
      "better kan test loss 1.08E-07\n",
      "base kan train loss 1.42E-03\n",
      "better kan train loss 9.81E-08\n",
      "tensor(-0.7309, device='cuda:0') tensor(1.3950, device='cuda:0')\n",
      "BetterKAN 5\n"
     ]
    },
    {
     "name": "stderr",
     "output_type": "stream",
     "text": [
      "train loss: 5.57e-02 | test loss: 5.44e-02 | reg: 0.00e+00 : 100%|██| 50/50 [00:24<00:00,  2.08it/s]\n"
     ]
    },
    {
     "name": "stdout",
     "output_type": "stream",
     "text": [
      "BetterKAN 5 0.1\n"
     ]
    },
    {
     "name": "stderr",
     "output_type": "stream",
     "text": [
      "train loss: 5.93e-02 | test loss: 6.15e-02 | reg: 0.00e+00 : 100%|██| 50/50 [00:23<00:00,  2.14it/s]\n"
     ]
    },
    {
     "name": "stdout",
     "output_type": "stream",
     "text": [
      "KAN 5\n"
     ]
    },
    {
     "name": "stderr",
     "output_type": "stream",
     "text": [
      "train loss: 7.63e-02 | test loss: 7.89e-02 | reg: 4.59e+00 : 100%|██| 50/50 [00:17<00:00,  2.93it/s]\n"
     ]
    },
    {
     "name": "stdout",
     "output_type": "stream",
     "text": [
      "BetterKAN 10\n"
     ]
    },
    {
     "name": "stderr",
     "output_type": "stream",
     "text": [
      "train loss: 5.06e-02 | test loss: 5.70e-02 | reg: 0.00e+00 : 100%|██| 50/50 [00:23<00:00,  2.10it/s]\n"
     ]
    },
    {
     "name": "stdout",
     "output_type": "stream",
     "text": [
      "BetterKAN 10 0.1\n"
     ]
    },
    {
     "name": "stderr",
     "output_type": "stream",
     "text": [
      "train loss: 1.01e-01 | test loss: 1.14e-01 | reg: 0.00e+00 : 100%|██| 50/50 [00:22<00:00,  2.19it/s]\n"
     ]
    },
    {
     "name": "stdout",
     "output_type": "stream",
     "text": [
      "KAN 10\n"
     ]
    },
    {
     "name": "stderr",
     "output_type": "stream",
     "text": [
      "train loss: 5.78e-02 | test loss: 6.64e-02 | reg: 2.41e+00 : 100%|██| 50/50 [00:17<00:00,  2.85it/s]\n"
     ]
    },
    {
     "name": "stdout",
     "output_type": "stream",
     "text": [
      "BetterKAN 20\n"
     ]
    },
    {
     "name": "stderr",
     "output_type": "stream",
     "text": [
      "train loss: 3.57e-02 | test loss: 3.71e-02 | reg: 0.00e+00 : 100%|██| 50/50 [00:23<00:00,  2.11it/s]\n"
     ]
    },
    {
     "name": "stdout",
     "output_type": "stream",
     "text": [
      "BetterKAN 20 0.1\n"
     ]
    },
    {
     "name": "stderr",
     "output_type": "stream",
     "text": [
      "train loss: 4.66e-02 | test loss: 5.02e-02 | reg: 0.00e+00 : 100%|██| 50/50 [00:23<00:00,  2.17it/s]\n"
     ]
    },
    {
     "name": "stdout",
     "output_type": "stream",
     "text": [
      "KAN 20\n"
     ]
    },
    {
     "name": "stderr",
     "output_type": "stream",
     "text": [
      "train loss: 4.35e-02 | test loss: 5.77e-02 | reg: 2.57e+00 : 100%|██| 50/50 [00:17<00:00,  2.90it/s]\n"
     ]
    },
    {
     "name": "stdout",
     "output_type": "stream",
     "text": [
      "BetterKAN 50\n"
     ]
    },
    {
     "name": "stderr",
     "output_type": "stream",
     "text": [
      "train loss: 2.46e-02 | test loss: 2.35e-02 | reg: 0.00e+00 : 100%|██| 50/50 [00:23<00:00,  2.10it/s]\n"
     ]
    },
    {
     "name": "stdout",
     "output_type": "stream",
     "text": [
      "BetterKAN 50 0.1\n"
     ]
    },
    {
     "name": "stderr",
     "output_type": "stream",
     "text": [
      "train loss: 3.09e-02 | test loss: 5.27e-02 | reg: 0.00e+00 : 100%|██| 50/50 [00:23<00:00,  2.14it/s]\n"
     ]
    },
    {
     "name": "stdout",
     "output_type": "stream",
     "text": [
      "KAN 50\n"
     ]
    },
    {
     "name": "stderr",
     "output_type": "stream",
     "text": [
      "train loss: 2.56e-02 | test loss: 4.40e-02 | reg: 2.55e+00 : 100%|██| 50/50 [00:17<00:00,  2.80it/s]"
     ]
    },
    {
     "name": "stdout",
     "output_type": "stream",
     "text": [
      "base kan test loss 4.37E-02\n",
      "better kan test loss 2.34E-02\n",
      "base kan train loss 2.56E-02\n",
      "better kan train loss 2.46E-02\n",
      "base kan test loss 1.91E-03\n",
      "better kan test loss 5.47E-04\n",
      "base kan train loss 6.54E-04\n",
      "better kan train loss 6.03E-04\n"
     ]
    },
    {
     "name": "stderr",
     "output_type": "stream",
     "text": [
      "\n"
     ]
    }
   ],
   "source": [
    "test(II_11_27,  [2,2,1,2,1],input_min=[-1,0],input_max=[1,1])\n",
    "test(II_11_27,[2,1,1],input_min=[-1,0],input_max=[1,1])"
   ]
  },
  {
   "cell_type": "code",
   "execution_count": 53,
   "metadata": {},
   "outputs": [
    {
     "name": "stdout",
     "output_type": "stream",
     "text": [
      "tensor(-1.8229, device='cuda:0') tensor(1.7454, device='cuda:0')\n",
      "BetterKAN 5\n"
     ]
    },
    {
     "name": "stderr",
     "output_type": "stream",
     "text": [
      "train loss: 1.32e-03 | test loss: 1.40e-03 | reg: 0.00e+00 : 100%|██| 50/50 [00:30<00:00,  1.63it/s]\n"
     ]
    },
    {
     "name": "stdout",
     "output_type": "stream",
     "text": [
      "BetterKAN 5 0.1\n"
     ]
    },
    {
     "name": "stderr",
     "output_type": "stream",
     "text": [
      "train loss: 2.34e-03 | test loss: 2.50e-03 | reg: 0.00e+00 : 100%|██| 50/50 [00:29<00:00,  1.69it/s]\n"
     ]
    },
    {
     "name": "stdout",
     "output_type": "stream",
     "text": [
      "KAN 5\n"
     ]
    },
    {
     "name": "stderr",
     "output_type": "stream",
     "text": [
      "train loss: 7.31e-04 | test loss: 9.64e-04 | reg: 1.07e+01 : 100%|██| 50/50 [00:25<00:00,  2.00it/s]\n"
     ]
    },
    {
     "name": "stdout",
     "output_type": "stream",
     "text": [
      "BetterKAN 10\n"
     ]
    },
    {
     "name": "stderr",
     "output_type": "stream",
     "text": [
      "train loss: 1.60e-03 | test loss: 1.68e-03 | reg: 0.00e+00 : 100%|██| 50/50 [01:05<00:00,  1.31s/it]\n"
     ]
    },
    {
     "name": "stdout",
     "output_type": "stream",
     "text": [
      "BetterKAN 10 0.1\n"
     ]
    },
    {
     "name": "stderr",
     "output_type": "stream",
     "text": [
      "train loss: 7.09e-04 | test loss: 7.08e-04 | reg: 0.00e+00 : 100%|██| 50/50 [01:02<00:00,  1.25s/it]\n"
     ]
    },
    {
     "name": "stdout",
     "output_type": "stream",
     "text": [
      "KAN 10\n"
     ]
    },
    {
     "name": "stderr",
     "output_type": "stream",
     "text": [
      "train loss: 3.83e-02 | test loss: 4.43e-02 | reg: 1.24e+01 : 100%|██| 50/50 [00:54<00:00,  1.09s/it]\n"
     ]
    },
    {
     "name": "stdout",
     "output_type": "stream",
     "text": [
      "BetterKAN 20\n"
     ]
    },
    {
     "name": "stderr",
     "output_type": "stream",
     "text": [
      "train loss: 2.45e-04 | test loss: 2.81e-04 | reg: 0.00e+00 : 100%|██| 50/50 [01:02<00:00,  1.26s/it]\n"
     ]
    },
    {
     "name": "stdout",
     "output_type": "stream",
     "text": [
      "BetterKAN 20 0.1\n"
     ]
    },
    {
     "name": "stderr",
     "output_type": "stream",
     "text": [
      "train loss: 5.31e-04 | test loss: 5.65e-04 | reg: 0.00e+00 : 100%|██| 50/50 [00:48<00:00,  1.03it/s]\n"
     ]
    },
    {
     "name": "stdout",
     "output_type": "stream",
     "text": [
      "KAN 20\n"
     ]
    },
    {
     "name": "stderr",
     "output_type": "stream",
     "text": [
      "train loss: 5.94e-02 | test loss: 6.99e-02 | reg: 1.07e+01 : 100%|██| 50/50 [00:25<00:00,  1.99it/s]\n"
     ]
    },
    {
     "name": "stdout",
     "output_type": "stream",
     "text": [
      "BetterKAN 50\n"
     ]
    },
    {
     "name": "stderr",
     "output_type": "stream",
     "text": [
      "train loss: 8.79e-05 | test loss: 9.41e-05 | reg: 0.00e+00 : 100%|██| 50/50 [00:29<00:00,  1.69it/s]\n"
     ]
    },
    {
     "name": "stdout",
     "output_type": "stream",
     "text": [
      "BetterKAN 50 0.1\n"
     ]
    },
    {
     "name": "stderr",
     "output_type": "stream",
     "text": [
      "train loss: 2.40e-04 | test loss: 2.78e-04 | reg: 0.00e+00 : 100%|██| 50/50 [00:27<00:00,  1.81it/s]\n"
     ]
    },
    {
     "name": "stdout",
     "output_type": "stream",
     "text": [
      "KAN 50\n"
     ]
    },
    {
     "name": "stderr",
     "output_type": "stream",
     "text": [
      "train loss: 6.11e-02 | test loss: 2.23e-01 | reg: 9.98e+00 : 100%|██| 50/50 [00:23<00:00,  2.08it/s]\n"
     ]
    },
    {
     "name": "stdout",
     "output_type": "stream",
     "text": [
      "base kan test loss 9.64E-04\n",
      "better kan test loss 9.41E-05\n",
      "base kan train loss 7.31E-04\n",
      "better kan train loss 8.79E-05\n",
      "base kan test loss 9.30E-07\n",
      "better kan test loss 8.85E-09\n",
      "base kan train loss 5.35E-07\n",
      "better kan train loss 7.73E-09\n",
      "tensor(-1.8229, device='cuda:0') tensor(1.7454, device='cuda:0')\n",
      "BetterKAN 5\n"
     ]
    },
    {
     "name": "stderr",
     "output_type": "stream",
     "text": [
      "train loss: 1.17e-03 | test loss: 1.27e-03 | reg: 0.00e+00 : 100%|██| 50/50 [00:26<00:00,  1.90it/s]\n"
     ]
    },
    {
     "name": "stdout",
     "output_type": "stream",
     "text": [
      "BetterKAN 5 0.1\n"
     ]
    },
    {
     "name": "stderr",
     "output_type": "stream",
     "text": [
      "train loss: 1.46e-03 | test loss: 1.40e-03 | reg: 0.00e+00 : 100%|██| 50/50 [00:25<00:00,  1.94it/s]\n"
     ]
    },
    {
     "name": "stdout",
     "output_type": "stream",
     "text": [
      "KAN 5\n"
     ]
    },
    {
     "name": "stderr",
     "output_type": "stream",
     "text": [
      "train loss: 4.08e-04 | test loss: 1.57e-03 | reg: 8.39e+00 : 100%|██| 50/50 [00:20<00:00,  2.49it/s]\n"
     ]
    },
    {
     "name": "stdout",
     "output_type": "stream",
     "text": [
      "BetterKAN 10\n"
     ]
    },
    {
     "name": "stderr",
     "output_type": "stream",
     "text": [
      "train loss: 2.83e-04 | test loss: 2.85e-04 | reg: 0.00e+00 : 100%|██| 50/50 [00:23<00:00,  2.16it/s]\n"
     ]
    },
    {
     "name": "stdout",
     "output_type": "stream",
     "text": [
      "BetterKAN 10 0.1\n"
     ]
    },
    {
     "name": "stderr",
     "output_type": "stream",
     "text": [
      "train loss: 4.60e-04 | test loss: 4.99e-04 | reg: 0.00e+00 : 100%|██| 50/50 [00:25<00:00,  1.94it/s]\n"
     ]
    },
    {
     "name": "stdout",
     "output_type": "stream",
     "text": [
      "KAN 10\n"
     ]
    },
    {
     "name": "stderr",
     "output_type": "stream",
     "text": [
      "train loss: 1.87e-01 | test loss: 2.08e-01 | reg: 7.15e+00 : 100%|██| 50/50 [00:23<00:00,  2.13it/s]\n"
     ]
    },
    {
     "name": "stdout",
     "output_type": "stream",
     "text": [
      "BetterKAN 20\n"
     ]
    },
    {
     "name": "stderr",
     "output_type": "stream",
     "text": [
      "train loss: 3.40e-04 | test loss: 3.74e-04 | reg: 0.00e+00 : 100%|██| 50/50 [00:31<00:00,  1.58it/s]\n"
     ]
    },
    {
     "name": "stdout",
     "output_type": "stream",
     "text": [
      "BetterKAN 20 0.1\n"
     ]
    },
    {
     "name": "stderr",
     "output_type": "stream",
     "text": [
      "train loss: 4.75e-04 | test loss: 4.61e-04 | reg: 0.00e+00 : 100%|██| 50/50 [00:29<00:00,  1.72it/s]\n"
     ]
    },
    {
     "name": "stdout",
     "output_type": "stream",
     "text": [
      "KAN 20\n"
     ]
    },
    {
     "name": "stderr",
     "output_type": "stream",
     "text": [
      "train loss: 1.65e-01 | test loss: 1.73e-01 | reg: 7.06e+00 : 100%|██| 50/50 [00:33<00:00,  1.48it/s]\n"
     ]
    },
    {
     "name": "stdout",
     "output_type": "stream",
     "text": [
      "BetterKAN 50\n"
     ]
    },
    {
     "name": "stderr",
     "output_type": "stream",
     "text": [
      "train loss: 1.94e-04 | test loss: 2.19e-04 | reg: 0.00e+00 : 100%|██| 50/50 [00:57<00:00,  1.16s/it]\n"
     ]
    },
    {
     "name": "stdout",
     "output_type": "stream",
     "text": [
      "BetterKAN 50 0.1\n"
     ]
    },
    {
     "name": "stderr",
     "output_type": "stream",
     "text": [
      "train loss: 3.96e-04 | test loss: 4.21e-04 | reg: 0.00e+00 : 100%|██| 50/50 [00:55<00:00,  1.11s/it]\n"
     ]
    },
    {
     "name": "stdout",
     "output_type": "stream",
     "text": [
      "KAN 50\n"
     ]
    },
    {
     "name": "stderr",
     "output_type": "stream",
     "text": [
      "train loss: 1.26e-01 | test loss: 1.75e-01 | reg: 6.74e+00 : 100%|██| 50/50 [00:52<00:00,  1.05s/it]"
     ]
    },
    {
     "name": "stdout",
     "output_type": "stream",
     "text": [
      "base kan test loss 1.57E-03\n",
      "better kan test loss 2.19E-04\n",
      "base kan train loss 4.08E-04\n",
      "better kan train loss 1.94E-04\n",
      "base kan test loss 2.46E-06\n",
      "better kan test loss 4.78E-08\n",
      "base kan train loss 1.66E-07\n",
      "better kan train loss 3.74E-08\n"
     ]
    },
    {
     "name": "stderr",
     "output_type": "stream",
     "text": [
      "\n"
     ]
    }
   ],
   "source": [
    "test(II_36_38,  [3,3,1],input_min=[-1,-1,-1],input_max=[1,1,1])\n",
    "test(II_36_38,  [3,2,1],input_min=[-1,-1,-1],input_max=[1,1,1])"
   ]
  },
  {
   "cell_type": "code",
   "execution_count": 7,
   "metadata": {},
   "outputs": [
    {
     "name": "stdout",
     "output_type": "stream",
     "text": [
      "tensor(-9.7887, device='cuda:0') tensor(9.7406, device='cuda:0')\n",
      "BetterKAN 5\n"
     ]
    },
    {
     "name": "stderr",
     "output_type": "stream",
     "text": [
      "train loss: 3.37e-03 | test loss: 3.53e-03 | reg: 0.00e+00 : 100%|██| 50/50 [00:26<00:00,  1.87it/s]\n"
     ]
    },
    {
     "name": "stdout",
     "output_type": "stream",
     "text": [
      "BetterKAN 5 0.1\n"
     ]
    },
    {
     "name": "stderr",
     "output_type": "stream",
     "text": [
      "train loss: 7.63e-03 | test loss: 7.60e-03 | reg: 0.00e+00 : 100%|██| 50/50 [00:27<00:00,  1.84it/s]\n"
     ]
    },
    {
     "name": "stdout",
     "output_type": "stream",
     "text": [
      "KAN 5\n"
     ]
    },
    {
     "name": "stderr",
     "output_type": "stream",
     "text": [
      "train loss: 1.14e-02 | test loss: 1.11e-02 | reg: 1.04e+01 : 100%|██| 50/50 [00:20<00:00,  2.46it/s]\n"
     ]
    },
    {
     "name": "stdout",
     "output_type": "stream",
     "text": [
      "BetterKAN 10\n"
     ]
    },
    {
     "name": "stderr",
     "output_type": "stream",
     "text": [
      "train loss: 3.23e-03 | test loss: 3.51e-03 | reg: 0.00e+00 : 100%|██| 50/50 [00:27<00:00,  1.85it/s]\n"
     ]
    },
    {
     "name": "stdout",
     "output_type": "stream",
     "text": [
      "BetterKAN 10 0.1\n"
     ]
    },
    {
     "name": "stderr",
     "output_type": "stream",
     "text": [
      "train loss: 6.53e-03 | test loss: 6.93e-03 | reg: 0.00e+00 : 100%|██| 50/50 [00:25<00:00,  1.94it/s]\n"
     ]
    },
    {
     "name": "stdout",
     "output_type": "stream",
     "text": [
      "KAN 10\n"
     ]
    },
    {
     "name": "stderr",
     "output_type": "stream",
     "text": [
      "train loss: 2.61e-02 | test loss: 2.63e-02 | reg: 8.63e+00 : 100%|██| 50/50 [00:20<00:00,  2.43it/s]\n"
     ]
    },
    {
     "name": "stdout",
     "output_type": "stream",
     "text": [
      "BetterKAN 20\n"
     ]
    },
    {
     "name": "stderr",
     "output_type": "stream",
     "text": [
      "train loss: 2.49e-03 | test loss: 2.64e-03 | reg: 0.00e+00 : 100%|██| 50/50 [00:27<00:00,  1.81it/s]\n"
     ]
    },
    {
     "name": "stdout",
     "output_type": "stream",
     "text": [
      "BetterKAN 20 0.1\n"
     ]
    },
    {
     "name": "stderr",
     "output_type": "stream",
     "text": [
      "train loss: 4.61e-03 | test loss: 4.81e-03 | reg: 0.00e+00 : 100%|██| 50/50 [00:26<00:00,  1.89it/s]\n"
     ]
    },
    {
     "name": "stdout",
     "output_type": "stream",
     "text": [
      "KAN 20\n"
     ]
    },
    {
     "name": "stderr",
     "output_type": "stream",
     "text": [
      "train loss: 4.16e-03 | test loss: 4.38e-03 | reg: 7.99e+00 : 100%|██| 50/50 [00:19<00:00,  2.59it/s]\n"
     ]
    },
    {
     "name": "stdout",
     "output_type": "stream",
     "text": [
      "BetterKAN 50\n"
     ]
    },
    {
     "name": "stderr",
     "output_type": "stream",
     "text": [
      "train loss: 1.39e-03 | test loss: 1.35e-03 | reg: 0.00e+00 : 100%|██| 50/50 [00:25<00:00,  1.97it/s]\n"
     ]
    },
    {
     "name": "stdout",
     "output_type": "stream",
     "text": [
      "BetterKAN 50 0.1\n"
     ]
    },
    {
     "name": "stderr",
     "output_type": "stream",
     "text": [
      "train loss: 7.97e-02 | test loss: 8.85e-02 | reg: 0.00e+00 : 100%|██| 50/50 [00:24<00:00,  2.05it/s]\n"
     ]
    },
    {
     "name": "stdout",
     "output_type": "stream",
     "text": [
      "KAN 50\n"
     ]
    },
    {
     "name": "stderr",
     "output_type": "stream",
     "text": [
      "train loss: nan | test loss: nan | reg: nan : 100%|█████████████████| 50/50 [00:19<00:00,  2.53it/s]\n"
     ]
    },
    {
     "name": "stdout",
     "output_type": "stream",
     "text": [
      "[2, 2, 1]\n",
      "base kan test loss 4.38E-03\n",
      "better kan test loss 1.34E-03\n",
      "base kan train loss 4.16E-03\n",
      "better kan train loss 1.39E-03\n",
      "base kan test loss 1.92E-05\n",
      "better kan test loss 1.79E-06\n",
      "base kan train loss 1.73E-05\n",
      "better kan train loss 1.93E-06\n",
      "tensor(-9.7887, device='cuda:0') tensor(9.7406, device='cuda:0')\n",
      "BetterKAN 5\n"
     ]
    },
    {
     "name": "stderr",
     "output_type": "stream",
     "text": [
      "train loss: 2.63e-02 | test loss: 2.98e-02 | reg: 0.00e+00 : 100%|██| 50/50 [00:30<00:00,  1.63it/s]\n"
     ]
    },
    {
     "name": "stdout",
     "output_type": "stream",
     "text": [
      "BetterKAN 5 0.1\n"
     ]
    },
    {
     "name": "stderr",
     "output_type": "stream",
     "text": [
      "train loss: 3.22e-01 | test loss: 4.40e-01 | reg: 0.00e+00 : 100%|██| 50/50 [00:17<00:00,  2.88it/s]\n"
     ]
    },
    {
     "name": "stdout",
     "output_type": "stream",
     "text": [
      "KAN 5\n"
     ]
    },
    {
     "name": "stderr",
     "output_type": "stream",
     "text": [
      "train loss: 5.85e-01 | test loss: 6.18e-01 | reg: 8.44e+00 : 100%|██| 50/50 [00:31<00:00,  1.60it/s]\n"
     ]
    },
    {
     "name": "stdout",
     "output_type": "stream",
     "text": [
      "BetterKAN 10\n"
     ]
    },
    {
     "name": "stderr",
     "output_type": "stream",
     "text": [
      "train loss: 1.73e-01 | test loss: 3.25e-01 | reg: 0.00e+00 : 100%|██| 50/50 [00:31<00:00,  1.61it/s]\n"
     ]
    },
    {
     "name": "stdout",
     "output_type": "stream",
     "text": [
      "BetterKAN 10 0.1\n"
     ]
    },
    {
     "name": "stderr",
     "output_type": "stream",
     "text": [
      "train loss: 2.59e-01 | test loss: 2.48e-01 | reg: 0.00e+00 : 100%|██| 50/50 [00:29<00:00,  1.67it/s]\n"
     ]
    },
    {
     "name": "stdout",
     "output_type": "stream",
     "text": [
      "KAN 10\n"
     ]
    },
    {
     "name": "stderr",
     "output_type": "stream",
     "text": [
      "train loss: 4.29e-02 | test loss: 5.42e-02 | reg: 7.53e+00 : 100%|██| 50/50 [00:31<00:00,  1.57it/s]\n"
     ]
    },
    {
     "name": "stdout",
     "output_type": "stream",
     "text": [
      "BetterKAN 20\n"
     ]
    },
    {
     "name": "stderr",
     "output_type": "stream",
     "text": [
      "train loss: 1.90e-02 | test loss: 2.30e-02 | reg: 0.00e+00 : 100%|██| 50/50 [00:30<00:00,  1.62it/s]\n"
     ]
    },
    {
     "name": "stdout",
     "output_type": "stream",
     "text": [
      "BetterKAN 20 0.1\n"
     ]
    },
    {
     "name": "stderr",
     "output_type": "stream",
     "text": [
      "train loss: 2.58e-02 | test loss: 2.60e-02 | reg: 0.00e+00 : 100%|██| 50/50 [00:29<00:00,  1.70it/s]\n"
     ]
    },
    {
     "name": "stdout",
     "output_type": "stream",
     "text": [
      "KAN 20\n"
     ]
    },
    {
     "name": "stderr",
     "output_type": "stream",
     "text": [
      "train loss: 4.21e-01 | test loss: 5.93e-01 | reg: 7.99e+00 : 100%|██| 50/50 [00:37<00:00,  1.34it/s]\n"
     ]
    },
    {
     "name": "stdout",
     "output_type": "stream",
     "text": [
      "BetterKAN 50\n"
     ]
    },
    {
     "name": "stderr",
     "output_type": "stream",
     "text": [
      "train loss: 1.35e-01 | test loss: 2.57e-01 | reg: 0.00e+00 : 100%|██| 50/50 [00:34<00:00,  1.45it/s]\n"
     ]
    },
    {
     "name": "stdout",
     "output_type": "stream",
     "text": [
      "BetterKAN 50 0.1\n"
     ]
    },
    {
     "name": "stderr",
     "output_type": "stream",
     "text": [
      "train loss: 3.81e-02 | test loss: 3.21e-01 | reg: 0.00e+00 : 100%|██| 50/50 [00:32<00:00,  1.53it/s]\n"
     ]
    },
    {
     "name": "stdout",
     "output_type": "stream",
     "text": [
      "KAN 50\n"
     ]
    },
    {
     "name": "stderr",
     "output_type": "stream",
     "text": [
      "train loss: nan | test loss: nan | reg: nan : 100%|█████████████████| 50/50 [00:42<00:00,  1.17it/s]"
     ]
    },
    {
     "name": "stdout",
     "output_type": "stream",
     "text": [
      "[2, 2, 1, 1, 1]\n",
      "base kan test loss 5.42E-02\n",
      "better kan test loss 2.30E-02\n",
      "base kan train loss 4.29E-02\n",
      "better kan train loss 1.90E-02\n",
      "base kan test loss 2.94E-03\n",
      "better kan test loss 5.29E-04\n",
      "base kan train loss 1.84E-03\n",
      "better kan train loss 3.61E-04\n"
     ]
    },
    {
     "name": "stderr",
     "output_type": "stream",
     "text": [
      "\n"
     ]
    }
   ],
   "source": [
    "test(II_38_3,  [2,2,1],input_min=[-1,0.1],input_max=[1,1])\n",
    "test(II_38_3,  [2,2,1,1,1],input_min=[-1,0.1],input_max=[1,1])"
   ]
  },
  {
   "cell_type": "code",
   "execution_count": 4,
   "metadata": {},
   "outputs": [
    {
     "name": "stdout",
     "output_type": "stream",
     "text": [
      "tensor(-0.9998, device='cuda:0') tensor(0.9997, device='cuda:0')\n",
      "BetterKAN 5\n"
     ]
    },
    {
     "name": "stderr",
     "output_type": "stream",
     "text": [
      "train loss: 9.47e-05 | test loss: 9.30e-05 | reg: 0.00e+00 : 100%|██| 50/50 [00:32<00:00,  1.53it/s]\n"
     ]
    },
    {
     "name": "stdout",
     "output_type": "stream",
     "text": [
      "BetterKAN 5 0.1\n"
     ]
    },
    {
     "name": "stderr",
     "output_type": "stream",
     "text": [
      "train loss: 9.76e-05 | test loss: 9.98e-05 | reg: 0.00e+00 : 100%|██| 50/50 [00:32<00:00,  1.53it/s]\n"
     ]
    },
    {
     "name": "stdout",
     "output_type": "stream",
     "text": [
      "KAN 5\n"
     ]
    },
    {
     "name": "stderr",
     "output_type": "stream",
     "text": [
      "train loss: 1.33e-04 | test loss: 1.34e-04 | reg: 1.50e+01 : 100%|██| 50/50 [00:38<00:00,  1.29it/s]\n"
     ]
    },
    {
     "name": "stdout",
     "output_type": "stream",
     "text": [
      "BetterKAN 10\n"
     ]
    },
    {
     "name": "stderr",
     "output_type": "stream",
     "text": [
      "train loss: 1.23e-04 | test loss: 1.30e-04 | reg: 0.00e+00 : 100%|██| 50/50 [00:25<00:00,  1.95it/s]\n"
     ]
    },
    {
     "name": "stdout",
     "output_type": "stream",
     "text": [
      "BetterKAN 10 0.1\n"
     ]
    },
    {
     "name": "stderr",
     "output_type": "stream",
     "text": [
      "train loss: 1.04e-04 | test loss: 1.12e-04 | reg: 0.00e+00 : 100%|██| 50/50 [00:33<00:00,  1.51it/s]\n"
     ]
    },
    {
     "name": "stdout",
     "output_type": "stream",
     "text": [
      "KAN 10\n"
     ]
    },
    {
     "name": "stderr",
     "output_type": "stream",
     "text": [
      "train loss: 1.33e-03 | test loss: 3.46e-02 | reg: 1.44e+01 : 100%|██| 50/50 [00:40<00:00,  1.22it/s]\n"
     ]
    },
    {
     "name": "stdout",
     "output_type": "stream",
     "text": [
      "BetterKAN 20\n"
     ]
    },
    {
     "name": "stderr",
     "output_type": "stream",
     "text": [
      "train loss: 8.43e-05 | test loss: 8.37e-05 | reg: 0.00e+00 : 100%|██| 50/50 [00:31<00:00,  1.58it/s]\n"
     ]
    },
    {
     "name": "stdout",
     "output_type": "stream",
     "text": [
      "BetterKAN 20 0.1\n"
     ]
    },
    {
     "name": "stderr",
     "output_type": "stream",
     "text": [
      "train loss: 1.32e-04 | test loss: 1.33e-04 | reg: 0.00e+00 : 100%|██| 50/50 [00:33<00:00,  1.49it/s]\n"
     ]
    },
    {
     "name": "stdout",
     "output_type": "stream",
     "text": [
      "KAN 20\n"
     ]
    },
    {
     "name": "stderr",
     "output_type": "stream",
     "text": [
      "train loss: 4.72e-04 | test loss: 7.04e-03 | reg: 1.33e+01 : 100%|██| 50/50 [00:36<00:00,  1.36it/s]\n"
     ]
    },
    {
     "name": "stdout",
     "output_type": "stream",
     "text": [
      "BetterKAN 50\n"
     ]
    },
    {
     "name": "stderr",
     "output_type": "stream",
     "text": [
      "train loss: 1.13e-04 | test loss: 1.11e-04 | reg: 0.00e+00 : 100%|██| 50/50 [00:36<00:00,  1.36it/s]\n"
     ]
    },
    {
     "name": "stdout",
     "output_type": "stream",
     "text": [
      "BetterKAN 50 0.1\n"
     ]
    },
    {
     "name": "stderr",
     "output_type": "stream",
     "text": [
      "train loss: 1.37e-04 | test loss: 1.35e-04 | reg: 0.00e+00 : 100%|██| 50/50 [00:33<00:00,  1.50it/s]\n"
     ]
    },
    {
     "name": "stdout",
     "output_type": "stream",
     "text": [
      "KAN 50\n"
     ]
    },
    {
     "name": "stderr",
     "output_type": "stream",
     "text": [
      "train loss: nan | test loss: nan | reg: nan : 100%|█████████████████| 50/50 [00:43<00:00,  1.14it/s]\n"
     ]
    },
    {
     "name": "stdout",
     "output_type": "stream",
     "text": [
      "[3, 2, 3, 1, 1]\n",
      "base kan test loss 1.13E-04\n",
      "better kan test loss 8.37E-05\n",
      "base kan train loss 1.11E-04\n",
      "better kan train loss 8.43E-05\n",
      "base kan test loss 1.27E-08\n",
      "better kan test loss 7.01E-09\n",
      "base kan train loss 1.23E-08\n",
      "better kan train loss 7.11E-09\n",
      "tensor(-0.9998, device='cuda:0') tensor(0.9997, device='cuda:0')\n",
      "BetterKAN 5\n"
     ]
    },
    {
     "name": "stderr",
     "output_type": "stream",
     "text": [
      "train loss: 1.75e-04 | test loss: 1.72e-04 | reg: 0.00e+00 : 100%|██| 50/50 [00:45<00:00,  1.09it/s]\n"
     ]
    },
    {
     "name": "stdout",
     "output_type": "stream",
     "text": [
      "BetterKAN 5 0.1\n"
     ]
    },
    {
     "name": "stderr",
     "output_type": "stream",
     "text": [
      "train loss: 3.61e-04 | test loss: 3.55e-04 | reg: 0.00e+00 : 100%|██| 50/50 [00:32<00:00,  1.54it/s]\n"
     ]
    },
    {
     "name": "stdout",
     "output_type": "stream",
     "text": [
      "KAN 5\n"
     ]
    },
    {
     "name": "stderr",
     "output_type": "stream",
     "text": [
      "train loss: 1.76e-02 | test loss: 6.88e-02 | reg: 1.53e+01 : 100%|██| 50/50 [01:27<00:00,  1.75s/it]\n"
     ]
    },
    {
     "name": "stdout",
     "output_type": "stream",
     "text": [
      "BetterKAN 10\n"
     ]
    },
    {
     "name": "stderr",
     "output_type": "stream",
     "text": [
      "train loss: 3.01e-04 | test loss: 2.90e-04 | reg: 0.00e+00 : 100%|██| 50/50 [01:24<00:00,  1.69s/it]\n"
     ]
    },
    {
     "name": "stdout",
     "output_type": "stream",
     "text": [
      "BetterKAN 10 0.1\n"
     ]
    },
    {
     "name": "stderr",
     "output_type": "stream",
     "text": [
      "train loss: 5.11e-04 | test loss: 5.16e-04 | reg: 0.00e+00 : 100%|██| 50/50 [01:18<00:00,  1.57s/it]\n"
     ]
    },
    {
     "name": "stdout",
     "output_type": "stream",
     "text": [
      "KAN 10\n"
     ]
    },
    {
     "name": "stderr",
     "output_type": "stream",
     "text": [
      "train loss: 1.07e-02 | test loss: 4.43e-02 | reg: 1.42e+01 : 100%|██| 50/50 [01:39<00:00,  2.00s/it]\n"
     ]
    },
    {
     "name": "stdout",
     "output_type": "stream",
     "text": [
      "BetterKAN 20\n"
     ]
    },
    {
     "name": "stderr",
     "output_type": "stream",
     "text": [
      "train loss: 1.56e-04 | test loss: 1.50e-04 | reg: 0.00e+00 : 100%|██| 50/50 [01:02<00:00,  1.25s/it]\n"
     ]
    },
    {
     "name": "stdout",
     "output_type": "stream",
     "text": [
      "BetterKAN 20 0.1\n"
     ]
    },
    {
     "name": "stderr",
     "output_type": "stream",
     "text": [
      "train loss: 6.15e-04 | test loss: 6.09e-04 | reg: 0.00e+00 : 100%|██| 50/50 [01:19<00:00,  1.60s/it]\n"
     ]
    },
    {
     "name": "stdout",
     "output_type": "stream",
     "text": [
      "KAN 20\n"
     ]
    },
    {
     "name": "stderr",
     "output_type": "stream",
     "text": [
      "train loss: 3.47e-04 | test loss: 6.07e-04 | reg: 1.36e+01 : 100%|██| 50/50 [01:45<00:00,  2.11s/it]\n"
     ]
    },
    {
     "name": "stdout",
     "output_type": "stream",
     "text": [
      "BetterKAN 50\n"
     ]
    },
    {
     "name": "stderr",
     "output_type": "stream",
     "text": [
      "train loss: 2.83e-03 | test loss: 3.28e-03 | reg: 0.00e+00 : 100%|██| 50/50 [01:22<00:00,  1.65s/it]\n"
     ]
    },
    {
     "name": "stdout",
     "output_type": "stream",
     "text": [
      "BetterKAN 50 0.1\n"
     ]
    },
    {
     "name": "stderr",
     "output_type": "stream",
     "text": [
      "train loss: 1.82e-02 | test loss: 7.50e-02 | reg: 0.00e+00 : 100%|██| 50/50 [01:18<00:00,  1.58s/it]\n"
     ]
    },
    {
     "name": "stdout",
     "output_type": "stream",
     "text": [
      "KAN 50\n"
     ]
    },
    {
     "name": "stderr",
     "output_type": "stream",
     "text": [
      "train loss: nan | test loss: nan | reg: nan : 100%|█████████████████| 50/50 [01:40<00:00,  2.02s/it]"
     ]
    },
    {
     "name": "stdout",
     "output_type": "stream",
     "text": [
      "[3, 3, 2, 1, 1, 1]\n",
      "base kan test loss 5.88E-04\n",
      "better kan test loss 1.50E-04\n",
      "base kan train loss 3.47E-04\n",
      "better kan train loss 1.56E-04\n",
      "base kan test loss 3.46E-07\n",
      "better kan test loss 2.25E-08\n",
      "base kan train loss 1.21E-07\n",
      "better kan train loss 2.44E-08\n"
     ]
    },
    {
     "name": "stderr",
     "output_type": "stream",
     "text": [
      "\n"
     ]
    }
   ],
   "source": [
    "test(III_9_52,  [3,2,3,1,1],input_min=[-1,-1,-1],input_max=[1,1,1])\n",
    "test(III_9_52,  [3,3,2,1,1,1],input_min=[-1,-1,-1],input_max=[1,1,1])"
   ]
  },
  {
   "cell_type": "code",
   "execution_count": 5,
   "metadata": {},
   "outputs": [
    {
     "name": "stdout",
     "output_type": "stream",
     "text": [
      "tensor(1.0004, device='cuda:0') tensor(1.7127, device='cuda:0')\n",
      "BetterKAN 5\n"
     ]
    },
    {
     "name": "stderr",
     "output_type": "stream",
     "text": [
      "train loss: 1.66e-04 | test loss: 1.65e-04 | reg: 0.00e+00 : 100%|██| 50/50 [00:19<00:00,  2.57it/s]\n"
     ]
    },
    {
     "name": "stdout",
     "output_type": "stream",
     "text": [
      "BetterKAN 5 0.1\n"
     ]
    },
    {
     "name": "stderr",
     "output_type": "stream",
     "text": [
      "train loss: 5.71e-04 | test loss: 5.81e-04 | reg: 0.00e+00 : 100%|██| 50/50 [00:22<00:00,  2.18it/s]\n"
     ]
    },
    {
     "name": "stdout",
     "output_type": "stream",
     "text": [
      "KAN 5\n"
     ]
    },
    {
     "name": "stderr",
     "output_type": "stream",
     "text": [
      "train loss: 6.03e-06 | test loss: 6.15e-06 | reg: 2.49e+00 : 100%|██| 50/50 [00:09<00:00,  5.11it/s]\n"
     ]
    },
    {
     "name": "stdout",
     "output_type": "stream",
     "text": [
      "BetterKAN 10\n"
     ]
    },
    {
     "name": "stderr",
     "output_type": "stream",
     "text": [
      "train loss: 2.80e-04 | test loss: 2.83e-04 | reg: 0.00e+00 : 100%|██| 50/50 [00:20<00:00,  2.45it/s]\n"
     ]
    },
    {
     "name": "stdout",
     "output_type": "stream",
     "text": [
      "BetterKAN 10 0.1\n"
     ]
    },
    {
     "name": "stderr",
     "output_type": "stream",
     "text": [
      "train loss: 1.53e-04 | test loss: 1.50e-04 | reg: 0.00e+00 : 100%|██| 50/50 [00:23<00:00,  2.16it/s]\n"
     ]
    },
    {
     "name": "stdout",
     "output_type": "stream",
     "text": [
      "KAN 10\n"
     ]
    },
    {
     "name": "stderr",
     "output_type": "stream",
     "text": [
      "train loss: 7.90e-07 | test loss: 7.52e-07 | reg: 2.33e+00 : 100%|██| 50/50 [00:14<00:00,  3.50it/s]\n"
     ]
    },
    {
     "name": "stdout",
     "output_type": "stream",
     "text": [
      "BetterKAN 20\n"
     ]
    },
    {
     "name": "stderr",
     "output_type": "stream",
     "text": [
      "train loss: 6.13e-05 | test loss: 5.88e-05 | reg: 0.00e+00 : 100%|██| 50/50 [00:07<00:00,  6.91it/s]\n"
     ]
    },
    {
     "name": "stdout",
     "output_type": "stream",
     "text": [
      "BetterKAN 20 0.1\n"
     ]
    },
    {
     "name": "stderr",
     "output_type": "stream",
     "text": [
      "train loss: 5.88e-05 | test loss: 5.56e-05 | reg: 0.00e+00 : 100%|██| 50/50 [00:21<00:00,  2.30it/s]\n"
     ]
    },
    {
     "name": "stdout",
     "output_type": "stream",
     "text": [
      "KAN 20\n"
     ]
    },
    {
     "name": "stderr",
     "output_type": "stream",
     "text": [
      "train loss: 7.08e-06 | test loss: 5.30e-06 | reg: 2.15e+00 : 100%|██| 50/50 [00:14<00:00,  3.54it/s]\n"
     ]
    },
    {
     "name": "stdout",
     "output_type": "stream",
     "text": [
      "BetterKAN 50\n"
     ]
    },
    {
     "name": "stderr",
     "output_type": "stream",
     "text": [
      "train loss: 4.99e-05 | test loss: 4.82e-05 | reg: 0.00e+00 : 100%|██| 50/50 [00:22<00:00,  2.20it/s]\n"
     ]
    },
    {
     "name": "stdout",
     "output_type": "stream",
     "text": [
      "BetterKAN 50 0.1\n"
     ]
    },
    {
     "name": "stderr",
     "output_type": "stream",
     "text": [
      "train loss: 1.74e-04 | test loss: 1.67e-04 | reg: 0.00e+00 : 100%|██| 50/50 [00:37<00:00,  1.34it/s]\n"
     ]
    },
    {
     "name": "stdout",
     "output_type": "stream",
     "text": [
      "KAN 50\n"
     ]
    },
    {
     "name": "stderr",
     "output_type": "stream",
     "text": [
      "train loss: 3.41e-05 | test loss: 4.33e-05 | reg: 2.57e+00 : 100%|██| 50/50 [00:34<00:00,  1.44it/s]\n"
     ]
    },
    {
     "name": "stdout",
     "output_type": "stream",
     "text": [
      "[2, 1, 1]\n",
      "base kan test loss 7.52E-07\n",
      "better kan test loss 4.81E-05\n",
      "base kan train loss 7.90E-07\n",
      "better kan train loss 4.99E-05\n",
      "base kan test loss 5.65E-13\n",
      "better kan test loss 2.32E-09\n",
      "base kan train loss 6.25E-13\n",
      "better kan train loss 2.49E-09\n",
      "tensor(1.0004, device='cuda:0') tensor(1.7127, device='cuda:0')\n",
      "BetterKAN 5\n"
     ]
    },
    {
     "name": "stderr",
     "output_type": "stream",
     "text": [
      "train loss: 9.59e-05 | test loss: 9.14e-05 | reg: 0.00e+00 : 100%|██| 50/50 [00:42<00:00,  1.18it/s]\n"
     ]
    },
    {
     "name": "stdout",
     "output_type": "stream",
     "text": [
      "BetterKAN 5 0.1\n"
     ]
    },
    {
     "name": "stderr",
     "output_type": "stream",
     "text": [
      "train loss: 2.17e-04 | test loss: 2.14e-04 | reg: 0.00e+00 : 100%|██| 50/50 [00:41<00:00,  1.22it/s]\n"
     ]
    },
    {
     "name": "stdout",
     "output_type": "stream",
     "text": [
      "KAN 5\n"
     ]
    },
    {
     "name": "stderr",
     "output_type": "stream",
     "text": [
      "train loss: 6.89e-02 | test loss: 7.56e-02 | reg: 6.55e+00 : 100%|██| 50/50 [00:54<00:00,  1.08s/it]\n"
     ]
    },
    {
     "name": "stdout",
     "output_type": "stream",
     "text": [
      "BetterKAN 10\n"
     ]
    },
    {
     "name": "stderr",
     "output_type": "stream",
     "text": [
      "train loss: 2.48e-04 | test loss: 2.41e-04 | reg: 0.00e+00 : 100%|██| 50/50 [00:26<00:00,  1.86it/s]\n"
     ]
    },
    {
     "name": "stdout",
     "output_type": "stream",
     "text": [
      "BetterKAN 10 0.1\n"
     ]
    },
    {
     "name": "stderr",
     "output_type": "stream",
     "text": [
      "train loss: 1.68e-04 | test loss: 1.64e-04 | reg: 0.00e+00 : 100%|██| 50/50 [00:48<00:00,  1.03it/s]\n"
     ]
    },
    {
     "name": "stdout",
     "output_type": "stream",
     "text": [
      "KAN 10\n"
     ]
    },
    {
     "name": "stderr",
     "output_type": "stream",
     "text": [
      "train loss: 6.27e-02 | test loss: 6.83e-02 | reg: 6.26e+00 : 100%|██| 50/50 [00:58<00:00,  1.16s/it]\n"
     ]
    },
    {
     "name": "stdout",
     "output_type": "stream",
     "text": [
      "BetterKAN 20\n"
     ]
    },
    {
     "name": "stderr",
     "output_type": "stream",
     "text": [
      "train loss: 9.39e-05 | test loss: 9.04e-05 | reg: 0.00e+00 : 100%|██| 50/50 [00:30<00:00,  1.63it/s]\n"
     ]
    },
    {
     "name": "stdout",
     "output_type": "stream",
     "text": [
      "BetterKAN 20 0.1\n"
     ]
    },
    {
     "name": "stderr",
     "output_type": "stream",
     "text": [
      "train loss: 5.53e-05 | test loss: 5.34e-05 | reg: 0.00e+00 : 100%|██| 50/50 [00:50<00:00,  1.01s/it]\n"
     ]
    },
    {
     "name": "stdout",
     "output_type": "stream",
     "text": [
      "KAN 20\n"
     ]
    },
    {
     "name": "stderr",
     "output_type": "stream",
     "text": [
      "train loss: 1.02e-04 | test loss: 1.04e-04 | reg: 7.06e+00 : 100%|██| 50/50 [00:50<00:00,  1.01s/it]\n"
     ]
    },
    {
     "name": "stdout",
     "output_type": "stream",
     "text": [
      "BetterKAN 50\n"
     ]
    },
    {
     "name": "stderr",
     "output_type": "stream",
     "text": [
      "train loss: 3.93e-02 | test loss: 4.63e-02 | reg: 0.00e+00 : 100%|██| 50/50 [00:50<00:00,  1.00s/it]\n"
     ]
    },
    {
     "name": "stdout",
     "output_type": "stream",
     "text": [
      "BetterKAN 50 0.1\n"
     ]
    },
    {
     "name": "stderr",
     "output_type": "stream",
     "text": [
      "train loss: 4.35e-02 | test loss: 4.41e-02 | reg: 0.00e+00 : 100%|██| 50/50 [00:48<00:00,  1.03it/s]\n"
     ]
    },
    {
     "name": "stdout",
     "output_type": "stream",
     "text": [
      "KAN 50\n"
     ]
    },
    {
     "name": "stderr",
     "output_type": "stream",
     "text": [
      "train loss: 3.26e-02 | test loss: 4.59e-02 | reg: 6.06e+00 : 100%|██| 50/50 [00:54<00:00,  1.08s/it]"
     ]
    },
    {
     "name": "stdout",
     "output_type": "stream",
     "text": [
      "[2, 1, 2, 1]\n",
      "base kan test loss 1.04E-04\n",
      "better kan test loss 5.34E-05\n",
      "base kan train loss 1.02E-04\n",
      "better kan train loss 5.53E-05\n",
      "base kan test loss 1.09E-08\n",
      "better kan test loss 2.85E-09\n",
      "base kan train loss 1.04E-08\n",
      "better kan train loss 3.06E-09\n"
     ]
    },
    {
     "name": "stderr",
     "output_type": "stream",
     "text": [
      "\n"
     ]
    }
   ],
   "source": [
    "test(III_10_19,  [2,1,1],input_min=[-1,0],input_max=[1,1])\n",
    "test(III_10_19,  [2,1,2,1],input_min=[-1,0],input_max=[1,1])"
   ]
  },
  {
   "cell_type": "code",
   "execution_count": 6,
   "metadata": {},
   "outputs": [
    {
     "name": "stdout",
     "output_type": "stream",
     "text": [
      "tensor(-1.9617, device='cuda:0') tensor(1.8881, device='cuda:0')\n",
      "BetterKAN 5\n"
     ]
    },
    {
     "name": "stderr",
     "output_type": "stream",
     "text": [
      "description:   0%|                                                           | 0/50 [00:00<?, ?it/s]"
     ]
    },
    {
     "name": "stderr",
     "output_type": "stream",
     "text": [
      "train loss: 6.69e-03 | test loss: 6.79e-03 | reg: 0.00e+00 : 100%|██| 50/50 [01:38<00:00,  1.96s/it]\n"
     ]
    },
    {
     "name": "stdout",
     "output_type": "stream",
     "text": [
      "BetterKAN 5 0.1\n"
     ]
    },
    {
     "name": "stderr",
     "output_type": "stream",
     "text": [
      "train loss: 4.95e-03 | test loss: 5.21e-03 | reg: 0.00e+00 : 100%|██| 50/50 [01:32<00:00,  1.86s/it]\n"
     ]
    },
    {
     "name": "stdout",
     "output_type": "stream",
     "text": [
      "KAN 5\n"
     ]
    },
    {
     "name": "stderr",
     "output_type": "stream",
     "text": [
      "train loss: 1.84e-02 | test loss: 1.99e-02 | reg: 2.62e+01 : 100%|██| 50/50 [01:58<00:00,  2.36s/it]\n"
     ]
    },
    {
     "name": "stdout",
     "output_type": "stream",
     "text": [
      "BetterKAN 10\n"
     ]
    },
    {
     "name": "stderr",
     "output_type": "stream",
     "text": [
      "train loss: 2.52e-03 | test loss: 2.47e-03 | reg: 0.00e+00 : 100%|██| 50/50 [01:38<00:00,  1.96s/it]\n"
     ]
    },
    {
     "name": "stdout",
     "output_type": "stream",
     "text": [
      "BetterKAN 10 0.1\n"
     ]
    },
    {
     "name": "stderr",
     "output_type": "stream",
     "text": [
      "train loss: 4.17e-03 | test loss: 4.39e-03 | reg: 0.00e+00 : 100%|██| 50/50 [01:33<00:00,  1.87s/it]\n"
     ]
    },
    {
     "name": "stdout",
     "output_type": "stream",
     "text": [
      "KAN 10\n"
     ]
    },
    {
     "name": "stderr",
     "output_type": "stream",
     "text": [
      "train loss: 1.08e-02 | test loss: 1.28e-02 | reg: 2.48e+01 : 100%|██| 50/50 [01:54<00:00,  2.30s/it]\n"
     ]
    },
    {
     "name": "stdout",
     "output_type": "stream",
     "text": [
      "BetterKAN 20\n"
     ]
    },
    {
     "name": "stderr",
     "output_type": "stream",
     "text": [
      "train loss: 1.27e-03 | test loss: 1.32e-03 | reg: 0.00e+00 : 100%|██| 50/50 [01:20<00:00,  1.62s/it]\n"
     ]
    },
    {
     "name": "stdout",
     "output_type": "stream",
     "text": [
      "BetterKAN 20 0.1\n"
     ]
    },
    {
     "name": "stderr",
     "output_type": "stream",
     "text": [
      "train loss: 1.94e-03 | test loss: 1.96e-03 | reg: 0.00e+00 : 100%|██| 50/50 [01:17<00:00,  1.56s/it]\n"
     ]
    },
    {
     "name": "stdout",
     "output_type": "stream",
     "text": [
      "KAN 20\n"
     ]
    },
    {
     "name": "stderr",
     "output_type": "stream",
     "text": [
      "train loss: 3.69e-02 | test loss: 9.91e-02 | reg: 2.38e+01 : 100%|██| 50/50 [01:54<00:00,  2.28s/it]\n"
     ]
    },
    {
     "name": "stdout",
     "output_type": "stream",
     "text": [
      "BetterKAN 50\n"
     ]
    },
    {
     "name": "stderr",
     "output_type": "stream",
     "text": [
      "train loss: 1.20e-03 | test loss: 1.21e-03 | reg: 0.00e+00 : 100%|██| 50/50 [01:32<00:00,  1.84s/it]\n"
     ]
    },
    {
     "name": "stdout",
     "output_type": "stream",
     "text": [
      "BetterKAN 50 0.1\n"
     ]
    },
    {
     "name": "stderr",
     "output_type": "stream",
     "text": [
      "train loss: 2.09e-03 | test loss: 2.38e-03 | reg: 0.00e+00 : 100%|██| 50/50 [01:29<00:00,  1.78s/it]\n"
     ]
    },
    {
     "name": "stdout",
     "output_type": "stream",
     "text": [
      "KAN 50\n"
     ]
    },
    {
     "name": "stderr",
     "output_type": "stream",
     "text": [
      "train loss: nan | test loss: nan | reg: nan : 100%|█████████████████| 50/50 [02:03<00:00,  2.47s/it]\n"
     ]
    },
    {
     "name": "stdout",
     "output_type": "stream",
     "text": [
      "[3, 3, 3, 2, 2, 1]\n",
      "base kan test loss 1.28E-02\n",
      "better kan test loss 1.21E-03\n",
      "base kan train loss 1.08E-02\n",
      "better kan train loss 1.20E-03\n",
      "base kan test loss 1.63E-04\n",
      "better kan test loss 1.46E-06\n",
      "base kan train loss 1.17E-04\n",
      "better kan train loss 1.44E-06\n",
      "tensor(-1.9617, device='cuda:0') tensor(1.8881, device='cuda:0')\n",
      "BetterKAN 5\n"
     ]
    },
    {
     "name": "stderr",
     "output_type": "stream",
     "text": [
      "train loss: 3.75e-02 | test loss: 3.98e-02 | reg: 0.00e+00 : 100%|██| 50/50 [00:51<00:00,  1.03s/it]\n"
     ]
    },
    {
     "name": "stdout",
     "output_type": "stream",
     "text": [
      "BetterKAN 5 0.1\n"
     ]
    },
    {
     "name": "stderr",
     "output_type": "stream",
     "text": [
      "train loss: 1.70e-02 | test loss: 1.73e-02 | reg: 0.00e+00 : 100%|██| 50/50 [00:49<00:00,  1.01it/s]\n"
     ]
    },
    {
     "name": "stdout",
     "output_type": "stream",
     "text": [
      "KAN 5\n"
     ]
    },
    {
     "name": "stderr",
     "output_type": "stream",
     "text": [
      "train loss: 2.41e-02 | test loss: 2.38e-02 | reg: 1.17e+01 : 100%|██| 50/50 [00:43<00:00,  1.14it/s]\n"
     ]
    },
    {
     "name": "stdout",
     "output_type": "stream",
     "text": [
      "BetterKAN 10\n"
     ]
    },
    {
     "name": "stderr",
     "output_type": "stream",
     "text": [
      "train loss: 1.00e-02 | test loss: 9.94e-03 | reg: 0.00e+00 : 100%|██| 50/50 [00:35<00:00,  1.40it/s]\n"
     ]
    },
    {
     "name": "stdout",
     "output_type": "stream",
     "text": [
      "BetterKAN 10 0.1\n"
     ]
    },
    {
     "name": "stderr",
     "output_type": "stream",
     "text": [
      "train loss: 1.14e-02 | test loss: 1.21e-02 | reg: 0.00e+00 : 100%|██| 50/50 [00:33<00:00,  1.47it/s]\n"
     ]
    },
    {
     "name": "stdout",
     "output_type": "stream",
     "text": [
      "KAN 10\n"
     ]
    },
    {
     "name": "stderr",
     "output_type": "stream",
     "text": [
      "train loss: 5.43e-02 | test loss: 5.96e-02 | reg: 9.95e+00 : 100%|██| 50/50 [00:44<00:00,  1.14it/s]\n"
     ]
    },
    {
     "name": "stdout",
     "output_type": "stream",
     "text": [
      "BetterKAN 20\n"
     ]
    },
    {
     "name": "stderr",
     "output_type": "stream",
     "text": [
      "train loss: 4.21e-02 | test loss: 4.56e-02 | reg: 0.00e+00 : 100%|██| 50/50 [00:55<00:00,  1.11s/it]\n"
     ]
    },
    {
     "name": "stdout",
     "output_type": "stream",
     "text": [
      "BetterKAN 20 0.1\n"
     ]
    },
    {
     "name": "stderr",
     "output_type": "stream",
     "text": [
      "train loss: 9.56e-03 | test loss: 9.74e-03 | reg: 0.00e+00 : 100%|██| 50/50 [00:35<00:00,  1.40it/s]\n"
     ]
    },
    {
     "name": "stdout",
     "output_type": "stream",
     "text": [
      "KAN 20\n"
     ]
    },
    {
     "name": "stderr",
     "output_type": "stream",
     "text": [
      "train loss: 8.94e-02 | test loss: 1.09e-01 | reg: 9.40e+00 : 100%|██| 50/50 [00:25<00:00,  1.98it/s]\n"
     ]
    },
    {
     "name": "stdout",
     "output_type": "stream",
     "text": [
      "BetterKAN 50\n"
     ]
    },
    {
     "name": "stderr",
     "output_type": "stream",
     "text": [
      "train loss: 5.52e-03 | test loss: 5.58e-03 | reg: 0.00e+00 : 100%|██| 50/50 [00:27<00:00,  1.79it/s]\n"
     ]
    },
    {
     "name": "stdout",
     "output_type": "stream",
     "text": [
      "BetterKAN 50 0.1\n"
     ]
    },
    {
     "name": "stderr",
     "output_type": "stream",
     "text": [
      "train loss: 8.28e-03 | test loss: 8.44e-03 | reg: 0.00e+00 : 100%|██| 50/50 [00:29<00:00,  1.70it/s]\n"
     ]
    },
    {
     "name": "stdout",
     "output_type": "stream",
     "text": [
      "KAN 50\n"
     ]
    },
    {
     "name": "stderr",
     "output_type": "stream",
     "text": [
      "train loss: 8.90e-02 | test loss: 1.49e-01 | reg: 8.36e+00 : 100%|██| 50/50 [00:26<00:00,  1.88it/s]"
     ]
    },
    {
     "name": "stdout",
     "output_type": "stream",
     "text": [
      "[3, 3, 1]\n",
      "base kan test loss 2.38E-02\n",
      "better kan test loss 5.58E-03\n",
      "base kan train loss 2.41E-02\n",
      "better kan train loss 5.52E-03\n",
      "base kan test loss 5.68E-04\n",
      "better kan test loss 3.11E-05\n",
      "base kan train loss 5.79E-04\n",
      "better kan train loss 3.05E-05\n"
     ]
    },
    {
     "name": "stderr",
     "output_type": "stream",
     "text": [
      "\n"
     ]
    }
   ],
   "source": [
    "test( III_17_37,  [3,3,3,2,2,1],input_min=[-1,-1,-torch.pi],input_max=[1,1,torch.pi])\n",
    "test( III_17_37,  [3,3,1],input_min=[-1,-1,-torch.pi],input_max=[1,1,torch.pi])"
   ]
  }
 ],
 "metadata": {
  "kernelspec": {
   "display_name": "Python 3",
   "language": "python",
   "name": "python3"
  },
  "language_info": {
   "codemirror_mode": {
    "name": "ipython",
    "version": 3
   },
   "file_extension": ".py",
   "mimetype": "text/x-python",
   "name": "python",
   "nbconvert_exporter": "python",
   "pygments_lexer": "ipython3",
   "version": "3.10.6"
  }
 },
 "nbformat": 4,
 "nbformat_minor": 2
}
